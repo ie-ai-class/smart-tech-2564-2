{
 "cells": [
  {
   "cell_type": "markdown",
   "source": [
    "- conda install -c conda-forge lightgbm xgboost catboost"
   ],
   "metadata": {}
  },
  {
   "cell_type": "code",
   "execution_count": 1,
   "source": [
    "import pandas as pd\r\n",
    "import numpy as np\r\n",
    "from sklearn.model_selection import train_test_split\r\n",
    "from sklearn.datasets import load_wine\r\n",
    "from sklearn.model_selection import cross_validate\r\n",
    "import matplotlib.pyplot as plt\r\n",
    "\r\n",
    "#Load data\r\n",
    "dataObj = load_wine()\r\n",
    "X = dataObj.data\r\n",
    "y = dataObj.target\r\n",
    "\r\n",
    "# Create DataFrame with features\r\n",
    "dfori = pd.DataFrame(X)\r\n",
    "dfori.columns = dataObj.feature_names\r\n",
    "\r\n",
    "# Add class column\r\n",
    "dfori.insert(loc=0, column=\"Class\", value=y)\r\n",
    "\r\n",
    "#Filter class 0 and 1\r\n",
    "filt = (dfori['Class'] == 0) | (dfori['Class'] == 1)\r\n",
    "df = dfori.loc[filt]\r\n",
    "\r\n",
    "# Extract two features \r\n",
    "X = df[['alcohol','malic_acid']].values\r\n",
    "y = df['Class'].values\r\n",
    "\r\n",
    "# Split data\r\n",
    "X_train, X_test, y_train, y_test = train_test_split(X, y, test_size=0.4, random_state=1, stratify=y)"
   ],
   "outputs": [],
   "metadata": {}
  },
  {
   "cell_type": "code",
   "execution_count": 2,
   "source": [
    "from sklearn.metrics import accuracy_score, precision_score ,recall_score, f1_score\r\n",
    "\r\n",
    "def calc_score(y_true, y_pred):\r\n",
    "    ACC = accuracy_score(y_true=y_true, y_pred=y_pred)\r\n",
    "    PRE = precision_score(y_true=y_true, y_pred=y_pred, zero_division=1)\r\n",
    "    REC = recall_score(y_true=y_true, y_pred=y_pred, zero_division=1)\r\n",
    "    F1 = f1_score(y_true=y_true, y_pred=y_pred, zero_division=1)\r\n",
    "    # print(f\"ACC:{ACC:6.3f} PRE:{PRE:6.3f} REC:{REC:6.3f} F1:{REC:6.3f}\")\r\n",
    "    return (ACC, PRE, REC, F1)"
   ],
   "outputs": [],
   "metadata": {}
  },
  {
   "cell_type": "code",
   "execution_count": 5,
   "source": [
    "from sklearn.tree import DecisionTreeClassifier\r\n",
    "from sklearn.ensemble import AdaBoostClassifier\r\n",
    "from sklearn.ensemble import GradientBoostingClassifier\r\n",
    "from xgboost import XGBClassifier\r\n",
    "from lightgbm import LGBMClassifier\r\n",
    "from catboost import CatBoostClassifier\r\n"
   ],
   "outputs": [],
   "metadata": {}
  },
  {
   "cell_type": "code",
   "execution_count": 9,
   "source": [
    "base = DecisionTreeClassifier(criterion='entropy', \r\n",
    "                              max_depth=1,\r\n",
    "                              random_state=1)\r\n",
    "ada = AdaBoostClassifier(base_estimator=base,\r\n",
    "                         n_estimators=100, \r\n",
    "                         learning_rate=0.1,\r\n",
    "                         random_state=1)\r\n",
    "\r\n",
    "gbm = GradientBoostingClassifier()\r\n",
    "xgb = XGBClassifier(eval_metric=\"logloss\", use_label_encoder=False)\r\n",
    "lgb = LGBMClassifier()\r\n",
    "cat = CatBoostClassifier(verbose=0, n_estimators=100)\r\n",
    "\r\n",
    "classifiers = [\r\n",
    "    {'name':'Adaboost','clf':ada},\r\n",
    "    {'name':'Gradient Boost','clf':gbm},\r\n",
    "    {'name':'XGBoost','clf':xgb},\r\n",
    "    {'name':'Light GBM','clf':lgb},\r\n",
    "    {'name':'CatBoost','clf':cat}\r\n",
    "    ]"
   ],
   "outputs": [],
   "metadata": {}
  },
  {
   "cell_type": "code",
   "execution_count": 17,
   "source": [
    "dfTemp = pd.DataFrame()\r\n",
    "\r\n",
    "for classifier in classifiers:\r\n",
    "    name = classifier['name']\r\n",
    "    clf = classifier['clf']\r\n",
    "\r\n",
    "    scores = cross_validate(estimator=clf,\r\n",
    "                            X=X_train,\r\n",
    "                            y=y_train,\r\n",
    "                            cv=10,\r\n",
    "                            scoring=['accuracy','precision','recall','f1'],\r\n",
    "                            n_jobs=-1)\r\n",
    "\r\n",
    "    scoreTypes = ['test_accuracy','test_precision','test_recall','test_f1']    \r\n",
    "    data = {}\r\n",
    "    for scoreType in scoreTypes:\r\n",
    "        scoreArray = scores[scoreType]\r\n",
    "        scoreMean = np.mean(scoreArray)\r\n",
    "        data['clf'] = name\r\n",
    "        data[scoreType] = f\"{scoreMean:6.3f}\"\r\n",
    "    dfTemp = dfTemp.append(data, ignore_index=True)\r\n",
    "\r\n",
    "display(dfTemp)"
   ],
   "outputs": [
    {
     "output_type": "display_data",
     "data": {
      "text/html": [
       "<div>\n",
       "<style scoped>\n",
       "    .dataframe tbody tr th:only-of-type {\n",
       "        vertical-align: middle;\n",
       "    }\n",
       "\n",
       "    .dataframe tbody tr th {\n",
       "        vertical-align: top;\n",
       "    }\n",
       "\n",
       "    .dataframe thead th {\n",
       "        text-align: right;\n",
       "    }\n",
       "</style>\n",
       "<table border=\"1\" class=\"dataframe\">\n",
       "  <thead>\n",
       "    <tr style=\"text-align: right;\">\n",
       "      <th></th>\n",
       "      <th>clf</th>\n",
       "      <th>test_accuracy</th>\n",
       "      <th>test_f1</th>\n",
       "      <th>test_precision</th>\n",
       "      <th>test_recall</th>\n",
       "    </tr>\n",
       "  </thead>\n",
       "  <tbody>\n",
       "    <tr>\n",
       "      <th>0</th>\n",
       "      <td>Adaboost</td>\n",
       "      <td>0.861</td>\n",
       "      <td>0.873</td>\n",
       "      <td>0.882</td>\n",
       "      <td>0.885</td>\n",
       "    </tr>\n",
       "    <tr>\n",
       "      <th>1</th>\n",
       "      <td>Gradient Boost</td>\n",
       "      <td>0.861</td>\n",
       "      <td>0.873</td>\n",
       "      <td>0.877</td>\n",
       "      <td>0.885</td>\n",
       "    </tr>\n",
       "    <tr>\n",
       "      <th>2</th>\n",
       "      <td>XGBoost</td>\n",
       "      <td>0.911</td>\n",
       "      <td>0.913</td>\n",
       "      <td>0.930</td>\n",
       "      <td>0.905</td>\n",
       "    </tr>\n",
       "    <tr>\n",
       "      <th>3</th>\n",
       "      <td>Light GBM</td>\n",
       "      <td>0.898</td>\n",
       "      <td>0.904</td>\n",
       "      <td>0.922</td>\n",
       "      <td>0.905</td>\n",
       "    </tr>\n",
       "    <tr>\n",
       "      <th>4</th>\n",
       "      <td>CatBoost</td>\n",
       "      <td>0.911</td>\n",
       "      <td>0.913</td>\n",
       "      <td>0.950</td>\n",
       "      <td>0.885</td>\n",
       "    </tr>\n",
       "  </tbody>\n",
       "</table>\n",
       "</div>"
      ],
      "text/plain": [
       "              clf test_accuracy test_f1 test_precision test_recall\n",
       "0        Adaboost         0.861   0.873          0.882       0.885\n",
       "1  Gradient Boost         0.861   0.873          0.877       0.885\n",
       "2         XGBoost         0.911   0.913          0.930       0.905\n",
       "3       Light GBM         0.898   0.904          0.922       0.905\n",
       "4        CatBoost         0.911   0.913          0.950       0.885"
      ]
     },
     "metadata": {}
    }
   ],
   "metadata": {}
  },
  {
   "cell_type": "code",
   "execution_count": null,
   "source": [
    "clf.fit(X_train, y_train)\r\n",
    "y_train_pred = clf.predict(X_train)\r\n",
    "y_test_pred = clf.predict(X_test)"
   ],
   "outputs": [],
   "metadata": {}
  },
  {
   "cell_type": "code",
   "execution_count": null,
   "source": [
    "df2 = pd.DataFrame()\r\n",
    "\r\n",
    "names = ['ada (train)', 'ada (test)']\r\n",
    "y_trues = [y_train, y_test]\r\n",
    "y_preds = [y_train_pred, y_test_pred]\r\n",
    "\r\n",
    "for y_true, y_pred, name in zip(y_trues, y_preds, names):\r\n",
    "\r\n",
    "    ACC, PRE, REC, F1 = calc_score(y_true, y_pred)\r\n",
    "    data = {'clf': name,\r\n",
    "            'ACC': f\"{ACC:6.3f}\" ,\r\n",
    "            'PRE': f\"{PRE:6.3f}\" ,\r\n",
    "            'REC': f\"{REC:6.3f}\" ,\r\n",
    "            'F1': f\"{F1:6.3f}\"}\r\n",
    "    df2 = df2.append(data, ignore_index=True)\r\n",
    "    \r\n",
    "df2 = df2.set_index([\"clf\"])\r\n",
    "display(df2)"
   ],
   "outputs": [],
   "metadata": {}
  },
  {
   "cell_type": "code",
   "execution_count": null,
   "source": [],
   "outputs": [],
   "metadata": {}
  }
 ],
 "metadata": {
  "orig_nbformat": 4,
  "language_info": {
   "name": "python",
   "version": "3.8.8",
   "mimetype": "text/x-python",
   "codemirror_mode": {
    "name": "ipython",
    "version": 3
   },
   "pygments_lexer": "ipython3",
   "nbconvert_exporter": "python",
   "file_extension": ".py"
  },
  "kernelspec": {
   "name": "python3",
   "display_name": "Python 3.8.8 64-bit ('base': conda)"
  },
  "interpreter": {
   "hash": "44cfd549216d83088fe60783a751b73ec1b18bc6a03494afd4c2d311310c0619"
  }
 },
 "nbformat": 4,
 "nbformat_minor": 2
}