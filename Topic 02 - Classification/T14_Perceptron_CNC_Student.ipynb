{
 "metadata": {
  "language_info": {
   "codemirror_mode": {
    "name": "ipython",
    "version": 3
   },
   "file_extension": ".py",
   "mimetype": "text/x-python",
   "name": "python",
   "nbconvert_exporter": "python",
   "pygments_lexer": "ipython3",
   "version": "3.8.8"
  },
  "orig_nbformat": 4,
  "kernelspec": {
   "name": "python3",
   "display_name": "Python 3.8.8 64-bit ('base': conda)"
  },
  "interpreter": {
   "hash": "be725e0de8fb3f5fda9b0118bdf797fa9814e28e467c1cce77c5b9910d8a1786"
  }
 },
 "nbformat": 4,
 "nbformat_minor": 2,
 "cells": [
  {
   "cell_type": "markdown",
   "source": [
    "# CNC Mill Tool Wear\n",
    "- https://www.kaggle.com/shasun/tool-wear-detection-in-cnc-mill\n",
    "- Predict \"Machining_Process\""
   ],
   "metadata": {}
  },
  {
   "cell_type": "code",
   "execution_count": null,
   "source": [
    "import numpy as np\n",
    "import matplotlib.pyplot as plt\n",
    "import pandas as pd\n",
    "from sklearn import datasets\n",
    "from sklearn.model_selection import train_test_split\n",
    "from sklearn.preprocessing import StandardScaler\n",
    "from sklearn.linear_model import Perceptron\n",
    "from sklearn.metrics import accuracy_score\n",
    "from sklearn.preprocessing import LabelEncoder"
   ],
   "outputs": [],
   "metadata": {}
  },
  {
   "cell_type": "markdown",
   "source": [
    "## Read \"train.csv\""
   ],
   "metadata": {}
  },
  {
   "cell_type": "code",
   "execution_count": null,
   "source": [
    "dataFolder = \"./Data_CNC/\""
   ],
   "outputs": [],
   "metadata": {}
  },
  {
   "cell_type": "code",
   "execution_count": null,
   "source": [
    "experiment_result = pd.read_csv(dataFolder + \"train.csv\")\n",
    "print(f'train_XX.csv : {experiment_result.shape}')\n",
    "experiment_result.head(3)"
   ],
   "outputs": [],
   "metadata": {}
  },
  {
   "cell_type": "code",
   "execution_count": null,
   "source": [
    "experiment_result.info()"
   ],
   "outputs": [],
   "metadata": {}
  },
  {
   "cell_type": "code",
   "execution_count": null,
   "source": [
    "experiment_result['passed_visual_inspection']"
   ],
   "outputs": [],
   "metadata": {}
  },
  {
   "cell_type": "markdown",
   "source": [
    "## Deal with NaN"
   ],
   "metadata": {}
  },
  {
   "cell_type": "code",
   "execution_count": null,
   "source": [
    "experiment_result['passed_visual_inspection'] = experiment_result['passed_visual_inspection'].fillna('no')\n",
    "experiment_result['passed_visual_inspection']"
   ],
   "outputs": [],
   "metadata": {}
  },
  {
   "cell_type": "markdown",
   "source": [
    "## Read \"experiment_XX.csv\""
   ],
   "metadata": {}
  },
  {
   "cell_type": "code",
   "execution_count": null,
   "source": [
    "experiment_tmp = pd.read_csv(dataFolder + \"experiment_01.csv\")\n",
    "print(f'experiment_XX.csv : {experiment_tmp.shape}')\n",
    "print(experiment_tmp.columns)\n",
    "experiment_tmp.head(3)"
   ],
   "outputs": [],
   "metadata": {}
  },
  {
   "cell_type": "code",
   "execution_count": null,
   "source": [
    "experiment_tmp.info()"
   ],
   "outputs": [],
   "metadata": {}
  },
  {
   "cell_type": "code",
   "execution_count": null,
   "source": [
    "filenames = [f'experiment_0{i}.csv' if i < 10 else f'experiment_{i}.csv' for i in range(1,19)]\n",
    "print(filenames)"
   ],
   "outputs": [],
   "metadata": {}
  },
  {
   "cell_type": "code",
   "execution_count": null,
   "source": [
    "frames = []\n",
    "for (idx, filename) in zip(range(1,19), filenames):\n",
    "    #load files\n",
    "    frame = pd.read_csv(dataFolder + filename)\n",
    "\n",
    "    #load each experiment result row\n",
    "    filt = experiment_result['No'] == idx\n",
    "    exp_result_row = experiment_result[filt]\n",
    "    frame['exp_num'] = idx\n",
    "\n",
    "    #add experiment settings to features\n",
    "    frame['material'] = exp_result_row.iloc[0]['material']\n",
    "    frame['feedrate'] = exp_result_row.iloc[0]['feedrate']\n",
    "    frame['clamp_pressure'] = exp_result_row.iloc[0]['clamp_pressure']\n",
    "    \n",
    "    #add experiment result to features\n",
    "    frame['tool_condition'] = exp_result_row.iloc[0]['tool_condition']\n",
    "    frame['machining_finalized'] = exp_result_row.iloc[0]['machining_finalized']\n",
    "    frame['passed_visual_inspection'] = exp_result_row.iloc[0]['passed_visual_inspection']\n",
    "\n",
    "    frames.append(frame)\n",
    "\n",
    "df = pd.concat(frames, ignore_index = True)\n",
    "display(df.head(3))\n",
    "print(df.shape)"
   ],
   "outputs": [],
   "metadata": {}
  },
  {
   "cell_type": "code",
   "execution_count": null,
   "source": [
    "df.info()"
   ],
   "outputs": [],
   "metadata": {}
  },
  {
   "cell_type": "markdown",
   "source": [
    "## Inspect number columns"
   ],
   "metadata": {}
  },
  {
   "cell_type": "code",
   "execution_count": null,
   "source": [
    "cols = list(df.columns)\n",
    "catCols = ['Machining_Process','machining_finalized','passed_visual_inspection','tool_condition','material','exp_num']\n",
    "\n",
    "numCols = cols\n",
    "for catCol in catCols:\n",
    "    numCols.remove(catCol) #Mutatble\n",
    "print(numCols)\n",
    "\n",
    "# Shorter syntax and non-mutable\n",
    "#numCols = [item for item in cols if item not in catCols]"
   ],
   "outputs": [],
   "metadata": {}
  },
  {
   "cell_type": "code",
   "execution_count": null,
   "source": [
    "dfNum = df[numCols]\n",
    "dfNum.hist(figsize=(20,20))\n",
    "display()"
   ],
   "outputs": [],
   "metadata": {}
  },
  {
   "cell_type": "markdown",
   "source": [
    "## Inspect catagorical columns"
   ],
   "metadata": {}
  },
  {
   "cell_type": "code",
   "execution_count": null,
   "source": [
    "fig, ax = plt.subplots(2,3, figsize=(18,10),gridspec_kw={'hspace': 0.5, 'wspace': 0.2})\n",
    "idx = 0\n",
    "for row in range(0,2):\n",
    "    for col in range(0,3):\n",
    "        catCol = catCols[idx]\n",
    "        df[catCol].value_counts().plot.bar(ax=ax[row][col])\n",
    "        ax[row][col].set_title(catCol)\n",
    "        idx = idx + 1"
   ],
   "outputs": [],
   "metadata": {}
  },
  {
   "cell_type": "markdown",
   "source": [
    "## Drop columns"
   ],
   "metadata": {}
  },
  {
   "cell_type": "code",
   "execution_count": null,
   "source": [
    "catColsDrop = [item for item in catCols if item != 'Machining_Process']\n",
    "df2 = df.drop(columns=catColsDrop)"
   ],
   "outputs": [],
   "metadata": {}
  },
  {
   "cell_type": "code",
   "execution_count": null,
   "source": [
    "df2.info()"
   ],
   "outputs": [],
   "metadata": {}
  },
  {
   "cell_type": "markdown",
   "source": [
    "## Replacing data"
   ],
   "metadata": {}
  },
  {
   "cell_type": "code",
   "execution_count": null,
   "source": [
    "display(df2['Machining_Process'].value_counts())"
   ],
   "outputs": [],
   "metadata": {}
  },
  {
   "cell_type": "code",
   "execution_count": null,
   "source": [
    "df2 = df2.replace({'Machining_Process': {'Starting':'Prep','end':'End'}})\n",
    "df2['Machining_Process'].value_counts().plot.bar()\n",
    "display()"
   ],
   "outputs": [],
   "metadata": {}
  },
  {
   "cell_type": "markdown",
   "source": [
    "## Data Encoding"
   ],
   "metadata": {}
  },
  {
   "cell_type": "markdown",
   "source": [
    "### Testing"
   ],
   "metadata": {}
  },
  {
   "cell_type": "code",
   "execution_count": null,
   "source": [
    "temp = df[['tool_condition']].copy()\n",
    "display(temp)\n",
    "temp['tool_condition'].value_counts()"
   ],
   "outputs": [],
   "metadata": {}
  },
  {
   "cell_type": "code",
   "execution_count": null,
   "source": [
    "le = LabelEncoder()\n",
    "le.fit(df['tool_condition'])\n",
    "temp['tool_condition'] = le.transform(temp['tool_condition'])\n",
    "display(temp)\n",
    "temp['tool_condition'].value_counts()"
   ],
   "outputs": [],
   "metadata": {}
  },
  {
   "cell_type": "code",
   "execution_count": null,
   "source": [
    "temp['tool_condition'] = le.inverse_transform(temp['tool_condition'])\n",
    "temp['tool_condition'].value_counts()"
   ],
   "outputs": [],
   "metadata": {}
  },
  {
   "cell_type": "markdown",
   "source": [
    "### Applying to actual data"
   ],
   "metadata": {}
  },
  {
   "cell_type": "code",
   "execution_count": null,
   "source": [
    "le = LabelEncoder()\n",
    "df2['Machining_Process'] = le.fit_transform(df2['Machining_Process'])\n",
    "df2['Machining_Process'].value_counts()"
   ],
   "outputs": [],
   "metadata": {}
  },
  {
   "cell_type": "code",
   "execution_count": null,
   "source": [
    "df2.info()"
   ],
   "outputs": [],
   "metadata": {}
  },
  {
   "cell_type": "markdown",
   "source": [
    "## Save processed data\n",
    "- CSV\n",
    "- Pickle"
   ],
   "metadata": {}
  },
  {
   "cell_type": "code",
   "execution_count": null,
   "source": [
    "saveFolder = 'Data_CNC_processed'\n",
    "filename = 'pred_machining_process'\n",
    "df2.to_csv(f'{saveFolder}/{filename}.csv', index=False)"
   ],
   "outputs": [],
   "metadata": {}
  },
  {
   "cell_type": "code",
   "execution_count": null,
   "source": [
    "compression = 'gzip'\n",
    "df2.to_pickle(f'{saveFolder}/{filename}.pkl',compression=compression)"
   ],
   "outputs": [],
   "metadata": {}
  },
  {
   "cell_type": "code",
   "execution_count": null,
   "source": [
    "df3 = pd.read_csv(f'{saveFolder}/{filename}.csv')\n",
    "df3.head(3)"
   ],
   "outputs": [],
   "metadata": {}
  },
  {
   "cell_type": "code",
   "execution_count": null,
   "source": [
    "df4 = pd.read_pickle(f'{saveFolder}/{filename}.pkl',compression=compression)\n",
    "df4.head(3)"
   ],
   "outputs": [],
   "metadata": {}
  },
  {
   "cell_type": "markdown",
   "source": [
    "## Machining learning (finally)"
   ],
   "metadata": {}
  },
  {
   "cell_type": "code",
   "execution_count": null,
   "source": [
    "colsX = [item for item in df2.columns if item not in 'Machining_Process'] \n",
    "X = df2[colsX].values\n",
    "y = df2['Machining_Process'].values"
   ],
   "outputs": [],
   "metadata": {}
  },
  {
   "cell_type": "code",
   "execution_count": null,
   "source": [
    "X_train, X_test, y_train, y_test = train_test_split(\n",
    "    X, y, test_size=0.3, random_state=1, stratify=y\n",
    ")"
   ],
   "outputs": [],
   "metadata": {}
  },
  {
   "cell_type": "code",
   "execution_count": null,
   "source": [
    "sc = StandardScaler()\n",
    "sc.fit(X_train)\n",
    "X_train_std = sc.transform(X_train)\n",
    "X_test_std = sc.transform(X_test)"
   ],
   "outputs": [],
   "metadata": {}
  },
  {
   "cell_type": "code",
   "execution_count": null,
   "source": [
    "eta0 = 0.01\n",
    "random_state=1\n",
    "n_iter_no_change=10"
   ],
   "outputs": [],
   "metadata": {}
  },
  {
   "cell_type": "code",
   "execution_count": null,
   "source": [
    "ppn = Perceptron(\n",
    "    eta0=eta0,\n",
    "    random_state=random_state,\n",
    "    verbose=1,\n",
    "    n_iter_no_change=n_iter_no_change,\n",
    "    )"
   ],
   "outputs": [],
   "metadata": {}
  },
  {
   "cell_type": "code",
   "execution_count": null,
   "source": [
    "# Training\n",
    "ppn.fit(X_train_std, y_train)"
   ],
   "outputs": [],
   "metadata": {
    "tags": []
   }
  },
  {
   "cell_type": "code",
   "execution_count": null,
   "source": [
    "# Prediction\n",
    "y_pred = ppn.predict(X_test_std)"
   ],
   "outputs": [],
   "metadata": {}
  },
  {
   "cell_type": "code",
   "execution_count": null,
   "source": [
    "# Misclassification from the test samples\n",
    "sumMiss = (y_test != y_pred).sum()"
   ],
   "outputs": [],
   "metadata": {}
  },
  {
   "cell_type": "code",
   "execution_count": null,
   "source": [
    "# Accuracy score from the test samples\n",
    "accuracyScore = accuracy_score(y_test, y_pred)"
   ],
   "outputs": [],
   "metadata": {}
  },
  {
   "cell_type": "code",
   "execution_count": null,
   "source": [
    "print(f\"Misclassified examples: {sumMiss}\")\n",
    "print(f\"Accuracy score: {accuracyScore}\")"
   ],
   "outputs": [],
   "metadata": {}
  },
  {
   "cell_type": "code",
   "execution_count": null,
   "source": [
    "y_test.shape"
   ],
   "outputs": [],
   "metadata": {}
  }
 ]
}