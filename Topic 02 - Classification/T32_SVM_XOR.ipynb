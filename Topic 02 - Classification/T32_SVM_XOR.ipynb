{
 "cells": [
  {
   "cell_type": "markdown",
   "source": [
    "# Support Vector Machine\r\n",
    "- XOR or “exclusive or”\r\n",
    "- An XOR function should return a true value if the two inputs are not equal and a false value if they are equal."
   ],
   "metadata": {}
  },
  {
   "cell_type": "code",
   "execution_count": null,
   "source": [
    "import numpy as np\r\n",
    "import matplotlib.pyplot as plt\r\n",
    "from sklearn.svm import SVC"
   ],
   "outputs": [],
   "metadata": {}
  },
  {
   "cell_type": "code",
   "execution_count": null,
   "source": [
    "import os\r\n",
    "imagePath = os.path.join(os.getcwd(),'Images')\r\n",
    "if (not(os.path.isdir(imagePath))):\r\n",
    "    os.mkdir(imagePath)"
   ],
   "outputs": [],
   "metadata": {}
  },
  {
   "cell_type": "code",
   "execution_count": null,
   "source": [
    "# Create data\r\n",
    "def create_XOR_data(filename=\"\"):\r\n",
    "    np.random.seed(1)\r\n",
    "    X_xor = np.random.randn(200, 2)\r\n",
    "    y_xor = np.logical_xor(X_xor[:, 0] > 0, X_xor[:, 1] > 0)\r\n",
    "    y_xor = np.where(y_xor, 1, -1)\r\n",
    "    # Plot data\r\n",
    "    fig1, ax1 = plt.subplots(1, figsize=(5, 5))\r\n",
    "    ax1.scatter(X_xor[y_xor == -1, 0], X_xor[y_xor == -1, 1], marker=\"s\", label=\"-1\")\r\n",
    "    ax1.scatter(X_xor[y_xor == 1, 0], X_xor[y_xor == 1, 1], marker=\"x\", label=\"1\")\r\n",
    "    ax1.set_xlim([-3, 3])\r\n",
    "    ax1.set_ylim([-3, 3])\r\n",
    "    ax1.legend()\r\n",
    "\r\n",
    "    if filename:\r\n",
    "        fig1.savefig(filename, dpi=300)\r\n",
    "        \r\n",
    "    return (X_xor, y_xor)"
   ],
   "outputs": [],
   "metadata": {}
  },
  {
   "cell_type": "code",
   "execution_count": null,
   "source": [
    "def plot_result(X, y, svm, filename=\"\", title=\"\"):\r\n",
    "    # Plotting result\r\n",
    "    xx1, xx2 = np.meshgrid(np.arange(-3, 3, 0.02), np.arange(-3, 3, 0.02))\r\n",
    "    Z = svm.predict(np.array([xx1.ravel(), xx2.ravel()]).T)\r\n",
    "    Z = Z.reshape(xx1.shape)\r\n",
    "    markers = (\"s\", \"x\")\r\n",
    "    linestyles = (\":\", \"--\")\r\n",
    "    fig2, ax2 = plt.subplots(1, figsize=(5, 5))\r\n",
    "    ax2.contourf(xx1, xx2, Z, alpha=0.4, cmap=\"Set3\")\r\n",
    "    for idx, cl in enumerate(np.unique(y)):\r\n",
    "        ax2.scatter(\r\n",
    "            x=X[y == cl, 0],\r\n",
    "            y=X[y == cl, 1],\r\n",
    "            alpha=0.6,\r\n",
    "            edgecolor=\"black\",\r\n",
    "            cmap=\"Set3\",\r\n",
    "            marker=markers[idx],\r\n",
    "            label=cl,\r\n",
    "        )\r\n",
    "    if (title):\r\n",
    "        ax2.set_title(title)\r\n",
    "    ax2.set_xlim([xx1.min(), xx1.max()])\r\n",
    "    ax2.set_ylim([xx2.min(), xx2.max()])\r\n",
    "    ax2.set_xlabel(\"X1\")\r\n",
    "    ax2.set_ylabel(\"X2\")\r\n",
    "    ax2.legend()\r\n",
    "    \r\n",
    "    if (filename):\r\n",
    "        fig2.savefig(filename, dpi=300)\r\n"
   ],
   "outputs": [],
   "metadata": {}
  },
  {
   "cell_type": "code",
   "execution_count": null,
   "source": [
    "# Create XOR data\r\n",
    "X, y = create_XOR_data()"
   ],
   "outputs": [],
   "metadata": {}
  },
  {
   "cell_type": "code",
   "execution_count": null,
   "source": [
    "paramSetAll = {\r\n",
    "    \"ex1\": {\"gamma\": 0.01, \"C\": 10},\r\n",
    "    \"ex2\": {\"gamma\": 0.1, \"C\": 10},\r\n",
    "    \"ex3\": {\"gamma\": 1, \"C\": 10},\r\n",
    "    \"ex4\": {\"gamma\": 10, \"C\": 10},\r\n",
    "    \"ex5\": {\"gamma\": 0.1, \"C\": 0.01},\r\n",
    "    \"ex6\": {\"gamma\": 0.1, \"C\": 1},\r\n",
    "    \"ex7\": {\"gamma\": 0.1, \"C\": 100},\r\n",
    "    \"ex8\": {\"gamma\": 0.1, \"C\": 1000},\r\n",
    "}"
   ],
   "outputs": [],
   "metadata": {}
  },
  {
   "cell_type": "code",
   "execution_count": null,
   "source": [
    "cl = list(range(1,9))\r\n",
    "ca = [ f'ex{i}' for i in cl]\r\n",
    "paramSet = { k: paramSetAll[k] for k in ca} \r\n",
    "#print(paramSet)"
   ],
   "outputs": [],
   "metadata": {}
  },
  {
   "cell_type": "code",
   "execution_count": null,
   "source": [
    "for ex, param in paramSet.items():\r\n",
    "    # Extract parameteres\r\n",
    "    gamma = param['gamma']\r\n",
    "    C = param['C']\r\n",
    "    # Creating objects\r\n",
    "    svm = SVC(kernel=\"rbf\", random_state=1, gamma=gamma, C=C)\r\n",
    "    # Training\r\n",
    "    svm.fit(X, y)\r\n",
    "    # Plot result\r\n",
    "    title = f\"γ = {gamma}, C = {C}\"\r\n",
    "    filename = f\"Images/T32_XOR_{ex}.png\"\r\n",
    "    plot_result(X, y, svm, filename, title)"
   ],
   "outputs": [],
   "metadata": {}
  }
 ],
 "metadata": {
  "orig_nbformat": 4,
  "language_info": {
   "name": "python",
   "version": "3.8.8",
   "mimetype": "text/x-python",
   "codemirror_mode": {
    "name": "ipython",
    "version": 3
   },
   "pygments_lexer": "ipython3",
   "nbconvert_exporter": "python",
   "file_extension": ".py"
  },
  "kernelspec": {
   "name": "python3",
   "display_name": "Python 3.8.8 64-bit ('base': conda)"
  },
  "interpreter": {
   "hash": "be725e0de8fb3f5fda9b0118bdf797fa9814e28e467c1cce77c5b9910d8a1786"
  }
 },
 "nbformat": 4,
 "nbformat_minor": 2
}