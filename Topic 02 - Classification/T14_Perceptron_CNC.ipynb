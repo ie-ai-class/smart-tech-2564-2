{
 "metadata": {
  "language_info": {
   "codemirror_mode": {
    "name": "ipython",
    "version": 3
   },
   "file_extension": ".py",
   "mimetype": "text/x-python",
   "name": "python",
   "nbconvert_exporter": "python",
   "pygments_lexer": "ipython3",
   "version": "3.8.8"
  },
  "orig_nbformat": 4,
  "kernelspec": {
   "name": "python3",
   "display_name": "Python 3.8.8 64-bit ('base': conda)"
  },
  "interpreter": {
   "hash": "be725e0de8fb3f5fda9b0118bdf797fa9814e28e467c1cce77c5b9910d8a1786"
  }
 },
 "nbformat": 4,
 "nbformat_minor": 2,
 "cells": [
  {
   "cell_type": "markdown",
   "source": [
    "# CNC Mill Tool Wear\n",
    "- https://www.kaggle.com/shasun/tool-wear-detection-in-cnc-mill\n",
    "- Predict \"Machining_Process\""
   ],
   "metadata": {}
  },
  {
   "cell_type": "code",
   "execution_count": 1,
   "source": [
    "import numpy as np\r\n",
    "import matplotlib.pyplot as plt\r\n",
    "import pandas as pd\r\n",
    "from sklearn import datasets\r\n",
    "from sklearn.model_selection import train_test_split\r\n",
    "from sklearn.preprocessing import StandardScaler\r\n",
    "from sklearn.linear_model import Perceptron\r\n",
    "from sklearn.metrics import accuracy_score\r\n",
    "from sklearn.preprocessing import LabelEncoder"
   ],
   "outputs": [],
   "metadata": {}
  },
  {
   "cell_type": "markdown",
   "source": [
    "## Read \"train.csv\""
   ],
   "metadata": {}
  },
  {
   "cell_type": "code",
   "execution_count": 2,
   "source": [
    "dataFolder = \"./Data_CNC/\""
   ],
   "outputs": [],
   "metadata": {}
  },
  {
   "cell_type": "code",
   "execution_count": 3,
   "source": [
    "experiment_result = pd.read_csv(dataFolder + \"train.csv\")\r\n",
    "print(f'train_XX.csv : {experiment_result.shape}')\r\n",
    "experiment_result.head(3)"
   ],
   "outputs": [
    {
     "output_type": "stream",
     "name": "stdout",
     "text": [
      "train_XX.csv : (18, 7)\n"
     ]
    },
    {
     "output_type": "execute_result",
     "data": {
      "text/plain": [
       "   No material  feedrate  clamp_pressure tool_condition machining_finalized  \\\n",
       "0   1      wax         6             4.0         unworn                 yes   \n",
       "1   2      wax        20             4.0         unworn                 yes   \n",
       "2   3      wax         6             3.0         unworn                 yes   \n",
       "\n",
       "  passed_visual_inspection  \n",
       "0                      yes  \n",
       "1                      yes  \n",
       "2                      yes  "
      ],
      "text/html": [
       "<div>\n",
       "<style scoped>\n",
       "    .dataframe tbody tr th:only-of-type {\n",
       "        vertical-align: middle;\n",
       "    }\n",
       "\n",
       "    .dataframe tbody tr th {\n",
       "        vertical-align: top;\n",
       "    }\n",
       "\n",
       "    .dataframe thead th {\n",
       "        text-align: right;\n",
       "    }\n",
       "</style>\n",
       "<table border=\"1\" class=\"dataframe\">\n",
       "  <thead>\n",
       "    <tr style=\"text-align: right;\">\n",
       "      <th></th>\n",
       "      <th>No</th>\n",
       "      <th>material</th>\n",
       "      <th>feedrate</th>\n",
       "      <th>clamp_pressure</th>\n",
       "      <th>tool_condition</th>\n",
       "      <th>machining_finalized</th>\n",
       "      <th>passed_visual_inspection</th>\n",
       "    </tr>\n",
       "  </thead>\n",
       "  <tbody>\n",
       "    <tr>\n",
       "      <th>0</th>\n",
       "      <td>1</td>\n",
       "      <td>wax</td>\n",
       "      <td>6</td>\n",
       "      <td>4.0</td>\n",
       "      <td>unworn</td>\n",
       "      <td>yes</td>\n",
       "      <td>yes</td>\n",
       "    </tr>\n",
       "    <tr>\n",
       "      <th>1</th>\n",
       "      <td>2</td>\n",
       "      <td>wax</td>\n",
       "      <td>20</td>\n",
       "      <td>4.0</td>\n",
       "      <td>unworn</td>\n",
       "      <td>yes</td>\n",
       "      <td>yes</td>\n",
       "    </tr>\n",
       "    <tr>\n",
       "      <th>2</th>\n",
       "      <td>3</td>\n",
       "      <td>wax</td>\n",
       "      <td>6</td>\n",
       "      <td>3.0</td>\n",
       "      <td>unworn</td>\n",
       "      <td>yes</td>\n",
       "      <td>yes</td>\n",
       "    </tr>\n",
       "  </tbody>\n",
       "</table>\n",
       "</div>"
      ]
     },
     "metadata": {},
     "execution_count": 3
    }
   ],
   "metadata": {}
  },
  {
   "cell_type": "code",
   "execution_count": 4,
   "source": [
    "experiment_result.info()"
   ],
   "outputs": [
    {
     "output_type": "stream",
     "name": "stdout",
     "text": [
      "<class 'pandas.core.frame.DataFrame'>\n",
      "RangeIndex: 18 entries, 0 to 17\n",
      "Data columns (total 7 columns):\n",
      " #   Column                    Non-Null Count  Dtype  \n",
      "---  ------                    --------------  -----  \n",
      " 0   No                        18 non-null     int64  \n",
      " 1   material                  18 non-null     object \n",
      " 2   feedrate                  18 non-null     int64  \n",
      " 3   clamp_pressure            18 non-null     float64\n",
      " 4   tool_condition            18 non-null     object \n",
      " 5   machining_finalized       18 non-null     object \n",
      " 6   passed_visual_inspection  14 non-null     object \n",
      "dtypes: float64(1), int64(2), object(4)\n",
      "memory usage: 1.1+ KB\n"
     ]
    }
   ],
   "metadata": {}
  },
  {
   "cell_type": "code",
   "execution_count": 5,
   "source": [
    "experiment_result['passed_visual_inspection']"
   ],
   "outputs": [
    {
     "output_type": "execute_result",
     "data": {
      "text/plain": [
       "0     yes\n",
       "1     yes\n",
       "2     yes\n",
       "3     NaN\n",
       "4     NaN\n",
       "5      no\n",
       "6     NaN\n",
       "7      no\n",
       "8      no\n",
       "9      no\n",
       "10    yes\n",
       "11    yes\n",
       "12    yes\n",
       "13    yes\n",
       "14    yes\n",
       "15    NaN\n",
       "16    yes\n",
       "17    yes\n",
       "Name: passed_visual_inspection, dtype: object"
      ]
     },
     "metadata": {},
     "execution_count": 5
    }
   ],
   "metadata": {}
  },
  {
   "cell_type": "markdown",
   "source": [
    "## Deal with NaN"
   ],
   "metadata": {}
  },
  {
   "cell_type": "code",
   "execution_count": 6,
   "source": [
    "experiment_result['passed_visual_inspection'] = experiment_result['passed_visual_inspection'].fillna('no')\r\n",
    "experiment_result['passed_visual_inspection']"
   ],
   "outputs": [
    {
     "output_type": "execute_result",
     "data": {
      "text/plain": [
       "0     yes\n",
       "1     yes\n",
       "2     yes\n",
       "3      no\n",
       "4      no\n",
       "5      no\n",
       "6      no\n",
       "7      no\n",
       "8      no\n",
       "9      no\n",
       "10    yes\n",
       "11    yes\n",
       "12    yes\n",
       "13    yes\n",
       "14    yes\n",
       "15     no\n",
       "16    yes\n",
       "17    yes\n",
       "Name: passed_visual_inspection, dtype: object"
      ]
     },
     "metadata": {},
     "execution_count": 6
    }
   ],
   "metadata": {}
  },
  {
   "cell_type": "markdown",
   "source": [
    "## Read \"experiment_XX.csv\""
   ],
   "metadata": {}
  },
  {
   "cell_type": "code",
   "execution_count": 7,
   "source": [
    "experiment_tmp = pd.read_csv(dataFolder + \"experiment_01.csv\")\r\n",
    "print(f'experiment_XX.csv : {experiment_tmp.shape}')\r\n",
    "print(experiment_tmp.columns)\r\n",
    "experiment_tmp.head(3)"
   ],
   "outputs": [
    {
     "output_type": "stream",
     "name": "stdout",
     "text": [
      "experiment_XX.csv : (1055, 48)\n",
      "Index(['X1_ActualPosition', 'X1_ActualVelocity', 'X1_ActualAcceleration',\n",
      "       'X1_CommandPosition', 'X1_CommandVelocity', 'X1_CommandAcceleration',\n",
      "       'X1_CurrentFeedback', 'X1_DCBusVoltage', 'X1_OutputCurrent',\n",
      "       'X1_OutputVoltage', 'X1_OutputPower', 'Y1_ActualPosition',\n",
      "       'Y1_ActualVelocity', 'Y1_ActualAcceleration', 'Y1_CommandPosition',\n",
      "       'Y1_CommandVelocity', 'Y1_CommandAcceleration', 'Y1_CurrentFeedback',\n",
      "       'Y1_DCBusVoltage', 'Y1_OutputCurrent', 'Y1_OutputVoltage',\n",
      "       'Y1_OutputPower', 'Z1_ActualPosition', 'Z1_ActualVelocity',\n",
      "       'Z1_ActualAcceleration', 'Z1_CommandPosition', 'Z1_CommandVelocity',\n",
      "       'Z1_CommandAcceleration', 'Z1_CurrentFeedback', 'Z1_DCBusVoltage',\n",
      "       'Z1_OutputCurrent', 'Z1_OutputVoltage', 'S1_ActualPosition',\n",
      "       'S1_ActualVelocity', 'S1_ActualAcceleration', 'S1_CommandPosition',\n",
      "       'S1_CommandVelocity', 'S1_CommandAcceleration', 'S1_CurrentFeedback',\n",
      "       'S1_DCBusVoltage', 'S1_OutputCurrent', 'S1_OutputVoltage',\n",
      "       'S1_OutputPower', 'S1_SystemInertia', 'M1_CURRENT_PROGRAM_NUMBER',\n",
      "       'M1_sequence_number', 'M1_CURRENT_FEEDRATE', 'Machining_Process'],\n",
      "      dtype='object')\n"
     ]
    },
    {
     "output_type": "execute_result",
     "data": {
      "text/plain": [
       "   X1_ActualPosition  X1_ActualVelocity  X1_ActualAcceleration  \\\n",
       "0              198.0                0.0                   0.00   \n",
       "1              198.0              -10.8                -350.00   \n",
       "2              196.0              -17.8                  -6.25   \n",
       "\n",
       "   X1_CommandPosition  X1_CommandVelocity  X1_CommandAcceleration  \\\n",
       "0               198.0                 0.0                0.000000   \n",
       "1               198.0               -13.6             -358.000000   \n",
       "2               196.0               -17.9               -0.000095   \n",
       "\n",
       "   X1_CurrentFeedback  X1_DCBusVoltage  X1_OutputCurrent  X1_OutputVoltage  \\\n",
       "0                0.18           0.0207             329.0              2.77   \n",
       "1              -10.90           0.1860             328.0             23.30   \n",
       "2               -8.59           0.1400             328.0             30.60   \n",
       "\n",
       "   ...  S1_CurrentFeedback  S1_DCBusVoltage  S1_OutputCurrent  \\\n",
       "0  ...               0.524     2.740000e-19             329.0   \n",
       "1  ...              -0.288     2.740000e-19             328.0   \n",
       "2  ...               0.524     2.740000e-19             328.0   \n",
       "\n",
       "   S1_OutputVoltage  S1_OutputPower  S1_SystemInertia  \\\n",
       "0               0.0    6.960000e-07              12.0   \n",
       "1               0.0   -5.270000e-07              12.0   \n",
       "2               0.0    9.100000e-07              12.0   \n",
       "\n",
       "   M1_CURRENT_PROGRAM_NUMBER  M1_sequence_number  M1_CURRENT_FEEDRATE  \\\n",
       "0                        1.0                 0.0                 50.0   \n",
       "1                        1.0                 4.0                 50.0   \n",
       "2                        1.0                 7.0                 50.0   \n",
       "\n",
       "   Machining_Process  \n",
       "0           Starting  \n",
       "1               Prep  \n",
       "2               Prep  \n",
       "\n",
       "[3 rows x 48 columns]"
      ],
      "text/html": [
       "<div>\n",
       "<style scoped>\n",
       "    .dataframe tbody tr th:only-of-type {\n",
       "        vertical-align: middle;\n",
       "    }\n",
       "\n",
       "    .dataframe tbody tr th {\n",
       "        vertical-align: top;\n",
       "    }\n",
       "\n",
       "    .dataframe thead th {\n",
       "        text-align: right;\n",
       "    }\n",
       "</style>\n",
       "<table border=\"1\" class=\"dataframe\">\n",
       "  <thead>\n",
       "    <tr style=\"text-align: right;\">\n",
       "      <th></th>\n",
       "      <th>X1_ActualPosition</th>\n",
       "      <th>X1_ActualVelocity</th>\n",
       "      <th>X1_ActualAcceleration</th>\n",
       "      <th>X1_CommandPosition</th>\n",
       "      <th>X1_CommandVelocity</th>\n",
       "      <th>X1_CommandAcceleration</th>\n",
       "      <th>X1_CurrentFeedback</th>\n",
       "      <th>X1_DCBusVoltage</th>\n",
       "      <th>X1_OutputCurrent</th>\n",
       "      <th>X1_OutputVoltage</th>\n",
       "      <th>...</th>\n",
       "      <th>S1_CurrentFeedback</th>\n",
       "      <th>S1_DCBusVoltage</th>\n",
       "      <th>S1_OutputCurrent</th>\n",
       "      <th>S1_OutputVoltage</th>\n",
       "      <th>S1_OutputPower</th>\n",
       "      <th>S1_SystemInertia</th>\n",
       "      <th>M1_CURRENT_PROGRAM_NUMBER</th>\n",
       "      <th>M1_sequence_number</th>\n",
       "      <th>M1_CURRENT_FEEDRATE</th>\n",
       "      <th>Machining_Process</th>\n",
       "    </tr>\n",
       "  </thead>\n",
       "  <tbody>\n",
       "    <tr>\n",
       "      <th>0</th>\n",
       "      <td>198.0</td>\n",
       "      <td>0.0</td>\n",
       "      <td>0.00</td>\n",
       "      <td>198.0</td>\n",
       "      <td>0.0</td>\n",
       "      <td>0.000000</td>\n",
       "      <td>0.18</td>\n",
       "      <td>0.0207</td>\n",
       "      <td>329.0</td>\n",
       "      <td>2.77</td>\n",
       "      <td>...</td>\n",
       "      <td>0.524</td>\n",
       "      <td>2.740000e-19</td>\n",
       "      <td>329.0</td>\n",
       "      <td>0.0</td>\n",
       "      <td>6.960000e-07</td>\n",
       "      <td>12.0</td>\n",
       "      <td>1.0</td>\n",
       "      <td>0.0</td>\n",
       "      <td>50.0</td>\n",
       "      <td>Starting</td>\n",
       "    </tr>\n",
       "    <tr>\n",
       "      <th>1</th>\n",
       "      <td>198.0</td>\n",
       "      <td>-10.8</td>\n",
       "      <td>-350.00</td>\n",
       "      <td>198.0</td>\n",
       "      <td>-13.6</td>\n",
       "      <td>-358.000000</td>\n",
       "      <td>-10.90</td>\n",
       "      <td>0.1860</td>\n",
       "      <td>328.0</td>\n",
       "      <td>23.30</td>\n",
       "      <td>...</td>\n",
       "      <td>-0.288</td>\n",
       "      <td>2.740000e-19</td>\n",
       "      <td>328.0</td>\n",
       "      <td>0.0</td>\n",
       "      <td>-5.270000e-07</td>\n",
       "      <td>12.0</td>\n",
       "      <td>1.0</td>\n",
       "      <td>4.0</td>\n",
       "      <td>50.0</td>\n",
       "      <td>Prep</td>\n",
       "    </tr>\n",
       "    <tr>\n",
       "      <th>2</th>\n",
       "      <td>196.0</td>\n",
       "      <td>-17.8</td>\n",
       "      <td>-6.25</td>\n",
       "      <td>196.0</td>\n",
       "      <td>-17.9</td>\n",
       "      <td>-0.000095</td>\n",
       "      <td>-8.59</td>\n",
       "      <td>0.1400</td>\n",
       "      <td>328.0</td>\n",
       "      <td>30.60</td>\n",
       "      <td>...</td>\n",
       "      <td>0.524</td>\n",
       "      <td>2.740000e-19</td>\n",
       "      <td>328.0</td>\n",
       "      <td>0.0</td>\n",
       "      <td>9.100000e-07</td>\n",
       "      <td>12.0</td>\n",
       "      <td>1.0</td>\n",
       "      <td>7.0</td>\n",
       "      <td>50.0</td>\n",
       "      <td>Prep</td>\n",
       "    </tr>\n",
       "  </tbody>\n",
       "</table>\n",
       "<p>3 rows × 48 columns</p>\n",
       "</div>"
      ]
     },
     "metadata": {},
     "execution_count": 7
    }
   ],
   "metadata": {}
  },
  {
   "cell_type": "code",
   "execution_count": 8,
   "source": [
    "experiment_tmp.info()"
   ],
   "outputs": [
    {
     "output_type": "stream",
     "name": "stdout",
     "text": [
      "<class 'pandas.core.frame.DataFrame'>\n",
      "RangeIndex: 1055 entries, 0 to 1054\n",
      "Data columns (total 48 columns):\n",
      " #   Column                     Non-Null Count  Dtype  \n",
      "---  ------                     --------------  -----  \n",
      " 0   X1_ActualPosition          1055 non-null   float64\n",
      " 1   X1_ActualVelocity          1055 non-null   float64\n",
      " 2   X1_ActualAcceleration      1055 non-null   float64\n",
      " 3   X1_CommandPosition         1055 non-null   float64\n",
      " 4   X1_CommandVelocity         1055 non-null   float64\n",
      " 5   X1_CommandAcceleration     1055 non-null   float64\n",
      " 6   X1_CurrentFeedback         1055 non-null   float64\n",
      " 7   X1_DCBusVoltage            1055 non-null   float64\n",
      " 8   X1_OutputCurrent           1055 non-null   float64\n",
      " 9   X1_OutputVoltage           1055 non-null   float64\n",
      " 10  X1_OutputPower             1055 non-null   float64\n",
      " 11  Y1_ActualPosition          1055 non-null   float64\n",
      " 12  Y1_ActualVelocity          1055 non-null   float64\n",
      " 13  Y1_ActualAcceleration      1055 non-null   float64\n",
      " 14  Y1_CommandPosition         1055 non-null   float64\n",
      " 15  Y1_CommandVelocity         1055 non-null   float64\n",
      " 16  Y1_CommandAcceleration     1055 non-null   float64\n",
      " 17  Y1_CurrentFeedback         1055 non-null   float64\n",
      " 18  Y1_DCBusVoltage            1055 non-null   float64\n",
      " 19  Y1_OutputCurrent           1055 non-null   float64\n",
      " 20  Y1_OutputVoltage           1055 non-null   float64\n",
      " 21  Y1_OutputPower             1055 non-null   float64\n",
      " 22  Z1_ActualPosition          1055 non-null   float64\n",
      " 23  Z1_ActualVelocity          1055 non-null   float64\n",
      " 24  Z1_ActualAcceleration      1055 non-null   float64\n",
      " 25  Z1_CommandPosition         1055 non-null   float64\n",
      " 26  Z1_CommandVelocity         1055 non-null   float64\n",
      " 27  Z1_CommandAcceleration     1055 non-null   float64\n",
      " 28  Z1_CurrentFeedback         1055 non-null   float64\n",
      " 29  Z1_DCBusVoltage            1055 non-null   float64\n",
      " 30  Z1_OutputCurrent           1055 non-null   float64\n",
      " 31  Z1_OutputVoltage           1055 non-null   float64\n",
      " 32  S1_ActualPosition          1055 non-null   float64\n",
      " 33  S1_ActualVelocity          1055 non-null   float64\n",
      " 34  S1_ActualAcceleration      1055 non-null   float64\n",
      " 35  S1_CommandPosition         1055 non-null   float64\n",
      " 36  S1_CommandVelocity         1055 non-null   float64\n",
      " 37  S1_CommandAcceleration     1055 non-null   float64\n",
      " 38  S1_CurrentFeedback         1055 non-null   float64\n",
      " 39  S1_DCBusVoltage            1055 non-null   float64\n",
      " 40  S1_OutputCurrent           1055 non-null   float64\n",
      " 41  S1_OutputVoltage           1055 non-null   float64\n",
      " 42  S1_OutputPower             1055 non-null   float64\n",
      " 43  S1_SystemInertia           1055 non-null   float64\n",
      " 44  M1_CURRENT_PROGRAM_NUMBER  1055 non-null   float64\n",
      " 45  M1_sequence_number         1055 non-null   float64\n",
      " 46  M1_CURRENT_FEEDRATE        1055 non-null   float64\n",
      " 47  Machining_Process          1055 non-null   object \n",
      "dtypes: float64(47), object(1)\n",
      "memory usage: 395.8+ KB\n"
     ]
    }
   ],
   "metadata": {}
  },
  {
   "cell_type": "code",
   "execution_count": 9,
   "source": [
    "filenames = [f'experiment_0{i}.csv' if i < 10 else f'experiment_{i}.csv' for i in range(1,19)]\r\n",
    "print(filenames)"
   ],
   "outputs": [
    {
     "output_type": "stream",
     "name": "stdout",
     "text": [
      "['experiment_01.csv', 'experiment_02.csv', 'experiment_03.csv', 'experiment_04.csv', 'experiment_05.csv', 'experiment_06.csv', 'experiment_07.csv', 'experiment_08.csv', 'experiment_09.csv', 'experiment_10.csv', 'experiment_11.csv', 'experiment_12.csv', 'experiment_13.csv', 'experiment_14.csv', 'experiment_15.csv', 'experiment_16.csv', 'experiment_17.csv', 'experiment_18.csv']\n"
     ]
    }
   ],
   "metadata": {}
  },
  {
   "cell_type": "code",
   "execution_count": 10,
   "source": [
    "frames = []\r\n",
    "for (idx, filename) in zip(range(1,19), filenames):\r\n",
    "    #load files\r\n",
    "    frame = pd.read_csv(dataFolder + filename)\r\n",
    "\r\n",
    "    #load each experiment result row\r\n",
    "    filt = experiment_result['No'] == idx\r\n",
    "    exp_result_row = experiment_result[filt]\r\n",
    "    frame['exp_num'] = idx\r\n",
    "\r\n",
    "    #add experiment settings to features\r\n",
    "    frame['material'] = exp_result_row.iloc[0]['material']\r\n",
    "    frame['feedrate'] = exp_result_row.iloc[0]['feedrate']\r\n",
    "    frame['clamp_pressure'] = exp_result_row.iloc[0]['clamp_pressure']\r\n",
    "    \r\n",
    "    #add experiment result to features\r\n",
    "    frame['tool_condition'] = exp_result_row.iloc[0]['tool_condition']\r\n",
    "    frame['machining_finalized'] = exp_result_row.iloc[0]['machining_finalized']\r\n",
    "    frame['passed_visual_inspection'] = exp_result_row.iloc[0]['passed_visual_inspection']\r\n",
    "\r\n",
    "    frames.append(frame)\r\n",
    "\r\n",
    "df = pd.concat(frames, ignore_index = True)\r\n",
    "display(df.head(3))\r\n",
    "print(df.shape)"
   ],
   "outputs": [
    {
     "output_type": "display_data",
     "data": {
      "text/plain": [
       "   X1_ActualPosition  X1_ActualVelocity  X1_ActualAcceleration  \\\n",
       "0              198.0                0.0                   0.00   \n",
       "1              198.0              -10.8                -350.00   \n",
       "2              196.0              -17.8                  -6.25   \n",
       "\n",
       "   X1_CommandPosition  X1_CommandVelocity  X1_CommandAcceleration  \\\n",
       "0               198.0                 0.0                0.000000   \n",
       "1               198.0               -13.6             -358.000000   \n",
       "2               196.0               -17.9               -0.000095   \n",
       "\n",
       "   X1_CurrentFeedback  X1_DCBusVoltage  X1_OutputCurrent  X1_OutputVoltage  \\\n",
       "0                0.18           0.0207             329.0              2.77   \n",
       "1              -10.90           0.1860             328.0             23.30   \n",
       "2               -8.59           0.1400             328.0             30.60   \n",
       "\n",
       "   ...  M1_sequence_number  M1_CURRENT_FEEDRATE  Machining_Process  exp_num  \\\n",
       "0  ...                 0.0                 50.0           Starting        1   \n",
       "1  ...                 4.0                 50.0               Prep        1   \n",
       "2  ...                 7.0                 50.0               Prep        1   \n",
       "\n",
       "   material  feedrate  clamp_pressure  tool_condition  machining_finalized  \\\n",
       "0       wax         6             4.0          unworn                  yes   \n",
       "1       wax         6             4.0          unworn                  yes   \n",
       "2       wax         6             4.0          unworn                  yes   \n",
       "\n",
       "   passed_visual_inspection  \n",
       "0                       yes  \n",
       "1                       yes  \n",
       "2                       yes  \n",
       "\n",
       "[3 rows x 55 columns]"
      ],
      "text/html": [
       "<div>\n",
       "<style scoped>\n",
       "    .dataframe tbody tr th:only-of-type {\n",
       "        vertical-align: middle;\n",
       "    }\n",
       "\n",
       "    .dataframe tbody tr th {\n",
       "        vertical-align: top;\n",
       "    }\n",
       "\n",
       "    .dataframe thead th {\n",
       "        text-align: right;\n",
       "    }\n",
       "</style>\n",
       "<table border=\"1\" class=\"dataframe\">\n",
       "  <thead>\n",
       "    <tr style=\"text-align: right;\">\n",
       "      <th></th>\n",
       "      <th>X1_ActualPosition</th>\n",
       "      <th>X1_ActualVelocity</th>\n",
       "      <th>X1_ActualAcceleration</th>\n",
       "      <th>X1_CommandPosition</th>\n",
       "      <th>X1_CommandVelocity</th>\n",
       "      <th>X1_CommandAcceleration</th>\n",
       "      <th>X1_CurrentFeedback</th>\n",
       "      <th>X1_DCBusVoltage</th>\n",
       "      <th>X1_OutputCurrent</th>\n",
       "      <th>X1_OutputVoltage</th>\n",
       "      <th>...</th>\n",
       "      <th>M1_sequence_number</th>\n",
       "      <th>M1_CURRENT_FEEDRATE</th>\n",
       "      <th>Machining_Process</th>\n",
       "      <th>exp_num</th>\n",
       "      <th>material</th>\n",
       "      <th>feedrate</th>\n",
       "      <th>clamp_pressure</th>\n",
       "      <th>tool_condition</th>\n",
       "      <th>machining_finalized</th>\n",
       "      <th>passed_visual_inspection</th>\n",
       "    </tr>\n",
       "  </thead>\n",
       "  <tbody>\n",
       "    <tr>\n",
       "      <th>0</th>\n",
       "      <td>198.0</td>\n",
       "      <td>0.0</td>\n",
       "      <td>0.00</td>\n",
       "      <td>198.0</td>\n",
       "      <td>0.0</td>\n",
       "      <td>0.000000</td>\n",
       "      <td>0.18</td>\n",
       "      <td>0.0207</td>\n",
       "      <td>329.0</td>\n",
       "      <td>2.77</td>\n",
       "      <td>...</td>\n",
       "      <td>0.0</td>\n",
       "      <td>50.0</td>\n",
       "      <td>Starting</td>\n",
       "      <td>1</td>\n",
       "      <td>wax</td>\n",
       "      <td>6</td>\n",
       "      <td>4.0</td>\n",
       "      <td>unworn</td>\n",
       "      <td>yes</td>\n",
       "      <td>yes</td>\n",
       "    </tr>\n",
       "    <tr>\n",
       "      <th>1</th>\n",
       "      <td>198.0</td>\n",
       "      <td>-10.8</td>\n",
       "      <td>-350.00</td>\n",
       "      <td>198.0</td>\n",
       "      <td>-13.6</td>\n",
       "      <td>-358.000000</td>\n",
       "      <td>-10.90</td>\n",
       "      <td>0.1860</td>\n",
       "      <td>328.0</td>\n",
       "      <td>23.30</td>\n",
       "      <td>...</td>\n",
       "      <td>4.0</td>\n",
       "      <td>50.0</td>\n",
       "      <td>Prep</td>\n",
       "      <td>1</td>\n",
       "      <td>wax</td>\n",
       "      <td>6</td>\n",
       "      <td>4.0</td>\n",
       "      <td>unworn</td>\n",
       "      <td>yes</td>\n",
       "      <td>yes</td>\n",
       "    </tr>\n",
       "    <tr>\n",
       "      <th>2</th>\n",
       "      <td>196.0</td>\n",
       "      <td>-17.8</td>\n",
       "      <td>-6.25</td>\n",
       "      <td>196.0</td>\n",
       "      <td>-17.9</td>\n",
       "      <td>-0.000095</td>\n",
       "      <td>-8.59</td>\n",
       "      <td>0.1400</td>\n",
       "      <td>328.0</td>\n",
       "      <td>30.60</td>\n",
       "      <td>...</td>\n",
       "      <td>7.0</td>\n",
       "      <td>50.0</td>\n",
       "      <td>Prep</td>\n",
       "      <td>1</td>\n",
       "      <td>wax</td>\n",
       "      <td>6</td>\n",
       "      <td>4.0</td>\n",
       "      <td>unworn</td>\n",
       "      <td>yes</td>\n",
       "      <td>yes</td>\n",
       "    </tr>\n",
       "  </tbody>\n",
       "</table>\n",
       "<p>3 rows × 55 columns</p>\n",
       "</div>"
      ]
     },
     "metadata": {}
    },
    {
     "output_type": "stream",
     "name": "stdout",
     "text": [
      "(25286, 55)\n"
     ]
    }
   ],
   "metadata": {}
  },
  {
   "cell_type": "code",
   "execution_count": 11,
   "source": [
    "df.info()"
   ],
   "outputs": [
    {
     "output_type": "stream",
     "name": "stdout",
     "text": [
      "<class 'pandas.core.frame.DataFrame'>\n",
      "RangeIndex: 25286 entries, 0 to 25285\n",
      "Data columns (total 55 columns):\n",
      " #   Column                     Non-Null Count  Dtype  \n",
      "---  ------                     --------------  -----  \n",
      " 0   X1_ActualPosition          25286 non-null  float64\n",
      " 1   X1_ActualVelocity          25286 non-null  float64\n",
      " 2   X1_ActualAcceleration      25286 non-null  float64\n",
      " 3   X1_CommandPosition         25286 non-null  float64\n",
      " 4   X1_CommandVelocity         25286 non-null  float64\n",
      " 5   X1_CommandAcceleration     25286 non-null  float64\n",
      " 6   X1_CurrentFeedback         25286 non-null  float64\n",
      " 7   X1_DCBusVoltage            25286 non-null  float64\n",
      " 8   X1_OutputCurrent           25286 non-null  float64\n",
      " 9   X1_OutputVoltage           25286 non-null  float64\n",
      " 10  X1_OutputPower             25286 non-null  float64\n",
      " 11  Y1_ActualPosition          25286 non-null  float64\n",
      " 12  Y1_ActualVelocity          25286 non-null  float64\n",
      " 13  Y1_ActualAcceleration      25286 non-null  float64\n",
      " 14  Y1_CommandPosition         25286 non-null  float64\n",
      " 15  Y1_CommandVelocity         25286 non-null  float64\n",
      " 16  Y1_CommandAcceleration     25286 non-null  float64\n",
      " 17  Y1_CurrentFeedback         25286 non-null  float64\n",
      " 18  Y1_DCBusVoltage            25286 non-null  float64\n",
      " 19  Y1_OutputCurrent           25286 non-null  float64\n",
      " 20  Y1_OutputVoltage           25286 non-null  float64\n",
      " 21  Y1_OutputPower             25286 non-null  float64\n",
      " 22  Z1_ActualPosition          25286 non-null  float64\n",
      " 23  Z1_ActualVelocity          25286 non-null  float64\n",
      " 24  Z1_ActualAcceleration      25286 non-null  float64\n",
      " 25  Z1_CommandPosition         25286 non-null  float64\n",
      " 26  Z1_CommandVelocity         25286 non-null  float64\n",
      " 27  Z1_CommandAcceleration     25286 non-null  float64\n",
      " 28  Z1_CurrentFeedback         25286 non-null  float64\n",
      " 29  Z1_DCBusVoltage            25286 non-null  float64\n",
      " 30  Z1_OutputCurrent           25286 non-null  float64\n",
      " 31  Z1_OutputVoltage           25286 non-null  float64\n",
      " 32  S1_ActualPosition          25286 non-null  float64\n",
      " 33  S1_ActualVelocity          25286 non-null  float64\n",
      " 34  S1_ActualAcceleration      25286 non-null  float64\n",
      " 35  S1_CommandPosition         25286 non-null  float64\n",
      " 36  S1_CommandVelocity         25286 non-null  float64\n",
      " 37  S1_CommandAcceleration     25286 non-null  float64\n",
      " 38  S1_CurrentFeedback         25286 non-null  float64\n",
      " 39  S1_DCBusVoltage            25286 non-null  float64\n",
      " 40  S1_OutputCurrent           25286 non-null  float64\n",
      " 41  S1_OutputVoltage           25286 non-null  float64\n",
      " 42  S1_OutputPower             25286 non-null  float64\n",
      " 43  S1_SystemInertia           25286 non-null  float64\n",
      " 44  M1_CURRENT_PROGRAM_NUMBER  25286 non-null  float64\n",
      " 45  M1_sequence_number         25286 non-null  float64\n",
      " 46  M1_CURRENT_FEEDRATE        25286 non-null  float64\n",
      " 47  Machining_Process          25286 non-null  object \n",
      " 48  exp_num                    25286 non-null  int64  \n",
      " 49  material                   25286 non-null  object \n",
      " 50  feedrate                   25286 non-null  int64  \n",
      " 51  clamp_pressure             25286 non-null  float64\n",
      " 52  tool_condition             25286 non-null  object \n",
      " 53  machining_finalized        25286 non-null  object \n",
      " 54  passed_visual_inspection   25286 non-null  object \n",
      "dtypes: float64(48), int64(2), object(5)\n",
      "memory usage: 10.6+ MB\n"
     ]
    }
   ],
   "metadata": {}
  },
  {
   "cell_type": "markdown",
   "source": [
    "## Inspect number columns"
   ],
   "metadata": {}
  },
  {
   "cell_type": "code",
   "execution_count": 12,
   "source": [
    "cols = list(df.columns)\r\n",
    "catCols = ['Machining_Process','machining_finalized','passed_visual_inspection','tool_condition','material','exp_num']\r\n",
    "\r\n",
    "numCols = cols\r\n",
    "for catCol in catCols:\r\n",
    "    numCols.remove(catCol) #Mutatble\r\n",
    "print(numCols)\r\n",
    "\r\n",
    "# Shorter syntax and non-mutable\r\n",
    "#numCols = [item for item in cols if item not in catCols]"
   ],
   "outputs": [
    {
     "output_type": "stream",
     "name": "stdout",
     "text": [
      "['X1_ActualPosition', 'X1_ActualVelocity', 'X1_ActualAcceleration', 'X1_CommandPosition', 'X1_CommandVelocity', 'X1_CommandAcceleration', 'X1_CurrentFeedback', 'X1_DCBusVoltage', 'X1_OutputCurrent', 'X1_OutputVoltage', 'X1_OutputPower', 'Y1_ActualPosition', 'Y1_ActualVelocity', 'Y1_ActualAcceleration', 'Y1_CommandPosition', 'Y1_CommandVelocity', 'Y1_CommandAcceleration', 'Y1_CurrentFeedback', 'Y1_DCBusVoltage', 'Y1_OutputCurrent', 'Y1_OutputVoltage', 'Y1_OutputPower', 'Z1_ActualPosition', 'Z1_ActualVelocity', 'Z1_ActualAcceleration', 'Z1_CommandPosition', 'Z1_CommandVelocity', 'Z1_CommandAcceleration', 'Z1_CurrentFeedback', 'Z1_DCBusVoltage', 'Z1_OutputCurrent', 'Z1_OutputVoltage', 'S1_ActualPosition', 'S1_ActualVelocity', 'S1_ActualAcceleration', 'S1_CommandPosition', 'S1_CommandVelocity', 'S1_CommandAcceleration', 'S1_CurrentFeedback', 'S1_DCBusVoltage', 'S1_OutputCurrent', 'S1_OutputVoltage', 'S1_OutputPower', 'S1_SystemInertia', 'M1_CURRENT_PROGRAM_NUMBER', 'M1_sequence_number', 'M1_CURRENT_FEEDRATE', 'feedrate', 'clamp_pressure']\n"
     ]
    }
   ],
   "metadata": {}
  },
  {
   "cell_type": "code",
   "execution_count": 13,
   "source": [
    "dfNum = df[numCols]\r\n",
    "dfNum.hist(figsize=(20,20))\r\n",
    "display()"
   ],
   "outputs": [
    {
     "output_type": "display_data",
     "data": {
      "text/plain": [
       "<Figure size 1440x1440 with 49 Axes>"
      ],
      "image/png": "[encoded data removed]"
     },
     "metadata": {
      "needs_background": "light"
     }
    }
   ],
   "metadata": {}
  },
  {
   "cell_type": "markdown",
   "source": [
    "## Inspect catagorical columns"
   ],
   "metadata": {}
  },
  {
   "cell_type": "code",
   "execution_count": 14,
   "source": [
    "fig, ax = plt.subplots(2,3, figsize=(18,10),gridspec_kw={'hspace': 0.5, 'wspace': 0.2})\r\n",
    "idx = 0\r\n",
    "for row in range(0,2):\r\n",
    "    for col in range(0,3):\r\n",
    "        catCol = catCols[idx]\r\n",
    "        df[catCol].value_counts().plot.bar(ax=ax[row][col])\r\n",
    "        ax[row][col].set_title(catCol)\r\n",
    "        idx = idx + 1"
   ],
   "outputs": [
    {
     "output_type": "display_data",
     "data": {
      "text/plain": [
       "<Figure size 1296x720 with 6 Axes>"
      ],
      "image/png": "[encoded data removed]"
     },
     "metadata": {
      "needs_background": "light"
     }
    }
   ],
   "metadata": {}
  },
  {
   "cell_type": "markdown",
   "source": [
    "## Drop columns"
   ],
   "metadata": {}
  },
  {
   "cell_type": "code",
   "execution_count": 15,
   "source": [
    "catColsDrop = [item for item in catCols if item != 'Machining_Process']\r\n",
    "df2 = df.drop(columns=catColsDrop)"
   ],
   "outputs": [],
   "metadata": {}
  },
  {
   "cell_type": "code",
   "execution_count": 16,
   "source": [
    "df2.info()"
   ],
   "outputs": [
    {
     "output_type": "stream",
     "name": "stdout",
     "text": [
      "<class 'pandas.core.frame.DataFrame'>\n",
      "RangeIndex: 25286 entries, 0 to 25285\n",
      "Data columns (total 50 columns):\n",
      " #   Column                     Non-Null Count  Dtype  \n",
      "---  ------                     --------------  -----  \n",
      " 0   X1_ActualPosition          25286 non-null  float64\n",
      " 1   X1_ActualVelocity          25286 non-null  float64\n",
      " 2   X1_ActualAcceleration      25286 non-null  float64\n",
      " 3   X1_CommandPosition         25286 non-null  float64\n",
      " 4   X1_CommandVelocity         25286 non-null  float64\n",
      " 5   X1_CommandAcceleration     25286 non-null  float64\n",
      " 6   X1_CurrentFeedback         25286 non-null  float64\n",
      " 7   X1_DCBusVoltage            25286 non-null  float64\n",
      " 8   X1_OutputCurrent           25286 non-null  float64\n",
      " 9   X1_OutputVoltage           25286 non-null  float64\n",
      " 10  X1_OutputPower             25286 non-null  float64\n",
      " 11  Y1_ActualPosition          25286 non-null  float64\n",
      " 12  Y1_ActualVelocity          25286 non-null  float64\n",
      " 13  Y1_ActualAcceleration      25286 non-null  float64\n",
      " 14  Y1_CommandPosition         25286 non-null  float64\n",
      " 15  Y1_CommandVelocity         25286 non-null  float64\n",
      " 16  Y1_CommandAcceleration     25286 non-null  float64\n",
      " 17  Y1_CurrentFeedback         25286 non-null  float64\n",
      " 18  Y1_DCBusVoltage            25286 non-null  float64\n",
      " 19  Y1_OutputCurrent           25286 non-null  float64\n",
      " 20  Y1_OutputVoltage           25286 non-null  float64\n",
      " 21  Y1_OutputPower             25286 non-null  float64\n",
      " 22  Z1_ActualPosition          25286 non-null  float64\n",
      " 23  Z1_ActualVelocity          25286 non-null  float64\n",
      " 24  Z1_ActualAcceleration      25286 non-null  float64\n",
      " 25  Z1_CommandPosition         25286 non-null  float64\n",
      " 26  Z1_CommandVelocity         25286 non-null  float64\n",
      " 27  Z1_CommandAcceleration     25286 non-null  float64\n",
      " 28  Z1_CurrentFeedback         25286 non-null  float64\n",
      " 29  Z1_DCBusVoltage            25286 non-null  float64\n",
      " 30  Z1_OutputCurrent           25286 non-null  float64\n",
      " 31  Z1_OutputVoltage           25286 non-null  float64\n",
      " 32  S1_ActualPosition          25286 non-null  float64\n",
      " 33  S1_ActualVelocity          25286 non-null  float64\n",
      " 34  S1_ActualAcceleration      25286 non-null  float64\n",
      " 35  S1_CommandPosition         25286 non-null  float64\n",
      " 36  S1_CommandVelocity         25286 non-null  float64\n",
      " 37  S1_CommandAcceleration     25286 non-null  float64\n",
      " 38  S1_CurrentFeedback         25286 non-null  float64\n",
      " 39  S1_DCBusVoltage            25286 non-null  float64\n",
      " 40  S1_OutputCurrent           25286 non-null  float64\n",
      " 41  S1_OutputVoltage           25286 non-null  float64\n",
      " 42  S1_OutputPower             25286 non-null  float64\n",
      " 43  S1_SystemInertia           25286 non-null  float64\n",
      " 44  M1_CURRENT_PROGRAM_NUMBER  25286 non-null  float64\n",
      " 45  M1_sequence_number         25286 non-null  float64\n",
      " 46  M1_CURRENT_FEEDRATE        25286 non-null  float64\n",
      " 47  Machining_Process          25286 non-null  object \n",
      " 48  feedrate                   25286 non-null  int64  \n",
      " 49  clamp_pressure             25286 non-null  float64\n",
      "dtypes: float64(48), int64(1), object(1)\n",
      "memory usage: 9.6+ MB\n"
     ]
    }
   ],
   "metadata": {}
  },
  {
   "cell_type": "markdown",
   "source": [
    "## Replacing data"
   ],
   "metadata": {}
  },
  {
   "cell_type": "code",
   "execution_count": 17,
   "source": [
    "display(df2['Machining_Process'].value_counts())"
   ],
   "outputs": [
    {
     "output_type": "display_data",
     "data": {
      "text/plain": [
       "Layer 1 Up       4085\n",
       "Repositioning    3377\n",
       "Layer 2 Up       3104\n",
       "Layer 3 Up       2794\n",
       "Layer 1 Down     2655\n",
       "End              2585\n",
       "Layer 2 Down     2528\n",
       "Layer 3 Down     2354\n",
       "Prep             1795\n",
       "end                 8\n",
       "Starting            1\n",
       "Name: Machining_Process, dtype: int64"
      ]
     },
     "metadata": {}
    }
   ],
   "metadata": {}
  },
  {
   "cell_type": "code",
   "execution_count": 18,
   "source": [
    "df2 = df2.replace({'Machining_Process': {'Starting':'Prep','end':'End'}})\r\n",
    "df2['Machining_Process'].value_counts().plot.bar()\r\n",
    "display()"
   ],
   "outputs": [
    {
     "output_type": "display_data",
     "data": {
      "text/plain": [
       "<Figure size 432x288 with 1 Axes>"
      ],
      "image/png": "[encoded data removed]"
     },
     "metadata": {
      "needs_background": "light"
     }
    }
   ],
   "metadata": {}
  },
  {
   "cell_type": "markdown",
   "source": [
    "## Data Encoding"
   ],
   "metadata": {}
  },
  {
   "cell_type": "markdown",
   "source": [
    "### Testing"
   ],
   "metadata": {}
  },
  {
   "cell_type": "code",
   "execution_count": 19,
   "source": [
    "temp = df[['tool_condition']].copy()\r\n",
    "display(temp)\r\n",
    "temp['tool_condition'].value_counts()"
   ],
   "outputs": [
    {
     "output_type": "display_data",
     "data": {
      "text/plain": [
       "      tool_condition\n",
       "0             unworn\n",
       "1             unworn\n",
       "2             unworn\n",
       "3             unworn\n",
       "4             unworn\n",
       "...              ...\n",
       "25281           worn\n",
       "25282           worn\n",
       "25283           worn\n",
       "25284           worn\n",
       "25285           worn\n",
       "\n",
       "[25286 rows x 1 columns]"
      ],
      "text/html": [
       "<div>\n",
       "<style scoped>\n",
       "    .dataframe tbody tr th:only-of-type {\n",
       "        vertical-align: middle;\n",
       "    }\n",
       "\n",
       "    .dataframe tbody tr th {\n",
       "        vertical-align: top;\n",
       "    }\n",
       "\n",
       "    .dataframe thead th {\n",
       "        text-align: right;\n",
       "    }\n",
       "</style>\n",
       "<table border=\"1\" class=\"dataframe\">\n",
       "  <thead>\n",
       "    <tr style=\"text-align: right;\">\n",
       "      <th></th>\n",
       "      <th>tool_condition</th>\n",
       "    </tr>\n",
       "  </thead>\n",
       "  <tbody>\n",
       "    <tr>\n",
       "      <th>0</th>\n",
       "      <td>unworn</td>\n",
       "    </tr>\n",
       "    <tr>\n",
       "      <th>1</th>\n",
       "      <td>unworn</td>\n",
       "    </tr>\n",
       "    <tr>\n",
       "      <th>2</th>\n",
       "      <td>unworn</td>\n",
       "    </tr>\n",
       "    <tr>\n",
       "      <th>3</th>\n",
       "      <td>unworn</td>\n",
       "    </tr>\n",
       "    <tr>\n",
       "      <th>4</th>\n",
       "      <td>unworn</td>\n",
       "    </tr>\n",
       "    <tr>\n",
       "      <th>...</th>\n",
       "      <td>...</td>\n",
       "    </tr>\n",
       "    <tr>\n",
       "      <th>25281</th>\n",
       "      <td>worn</td>\n",
       "    </tr>\n",
       "    <tr>\n",
       "      <th>25282</th>\n",
       "      <td>worn</td>\n",
       "    </tr>\n",
       "    <tr>\n",
       "      <th>25283</th>\n",
       "      <td>worn</td>\n",
       "    </tr>\n",
       "    <tr>\n",
       "      <th>25284</th>\n",
       "      <td>worn</td>\n",
       "    </tr>\n",
       "    <tr>\n",
       "      <th>25285</th>\n",
       "      <td>worn</td>\n",
       "    </tr>\n",
       "  </tbody>\n",
       "</table>\n",
       "<p>25286 rows × 1 columns</p>\n",
       "</div>"
      ]
     },
     "metadata": {}
    },
    {
     "output_type": "execute_result",
     "data": {
      "text/plain": [
       "worn      13308\n",
       "unworn    11978\n",
       "Name: tool_condition, dtype: int64"
      ]
     },
     "metadata": {},
     "execution_count": 19
    }
   ],
   "metadata": {}
  },
  {
   "cell_type": "code",
   "execution_count": 20,
   "source": [
    "le = LabelEncoder()\r\n",
    "le.fit(df['tool_condition'])\r\n",
    "temp['tool_condition'] = le.transform(temp['tool_condition'])\r\n",
    "display(temp)\r\n",
    "temp['tool_condition'].value_counts()"
   ],
   "outputs": [
    {
     "output_type": "display_data",
     "data": {
      "text/plain": [
       "       tool_condition\n",
       "0                   0\n",
       "1                   0\n",
       "2                   0\n",
       "3                   0\n",
       "4                   0\n",
       "...               ...\n",
       "25281               1\n",
       "25282               1\n",
       "25283               1\n",
       "25284               1\n",
       "25285               1\n",
       "\n",
       "[25286 rows x 1 columns]"
      ],
      "text/html": [
       "<div>\n",
       "<style scoped>\n",
       "    .dataframe tbody tr th:only-of-type {\n",
       "        vertical-align: middle;\n",
       "    }\n",
       "\n",
       "    .dataframe tbody tr th {\n",
       "        vertical-align: top;\n",
       "    }\n",
       "\n",
       "    .dataframe thead th {\n",
       "        text-align: right;\n",
       "    }\n",
       "</style>\n",
       "<table border=\"1\" class=\"dataframe\">\n",
       "  <thead>\n",
       "    <tr style=\"text-align: right;\">\n",
       "      <th></th>\n",
       "      <th>tool_condition</th>\n",
       "    </tr>\n",
       "  </thead>\n",
       "  <tbody>\n",
       "    <tr>\n",
       "      <th>0</th>\n",
       "      <td>0</td>\n",
       "    </tr>\n",
       "    <tr>\n",
       "      <th>1</th>\n",
       "      <td>0</td>\n",
       "    </tr>\n",
       "    <tr>\n",
       "      <th>2</th>\n",
       "      <td>0</td>\n",
       "    </tr>\n",
       "    <tr>\n",
       "      <th>3</th>\n",
       "      <td>0</td>\n",
       "    </tr>\n",
       "    <tr>\n",
       "      <th>4</th>\n",
       "      <td>0</td>\n",
       "    </tr>\n",
       "    <tr>\n",
       "      <th>...</th>\n",
       "      <td>...</td>\n",
       "    </tr>\n",
       "    <tr>\n",
       "      <th>25281</th>\n",
       "      <td>1</td>\n",
       "    </tr>\n",
       "    <tr>\n",
       "      <th>25282</th>\n",
       "      <td>1</td>\n",
       "    </tr>\n",
       "    <tr>\n",
       "      <th>25283</th>\n",
       "      <td>1</td>\n",
       "    </tr>\n",
       "    <tr>\n",
       "      <th>25284</th>\n",
       "      <td>1</td>\n",
       "    </tr>\n",
       "    <tr>\n",
       "      <th>25285</th>\n",
       "      <td>1</td>\n",
       "    </tr>\n",
       "  </tbody>\n",
       "</table>\n",
       "<p>25286 rows × 1 columns</p>\n",
       "</div>"
      ]
     },
     "metadata": {}
    },
    {
     "output_type": "execute_result",
     "data": {
      "text/plain": [
       "1    13308\n",
       "0    11978\n",
       "Name: tool_condition, dtype: int64"
      ]
     },
     "metadata": {},
     "execution_count": 20
    }
   ],
   "metadata": {}
  },
  {
   "cell_type": "code",
   "execution_count": 21,
   "source": [
    "temp['tool_condition'] = le.inverse_transform(temp['tool_condition'])\r\n",
    "temp['tool_condition'].value_counts()"
   ],
   "outputs": [
    {
     "output_type": "execute_result",
     "data": {
      "text/plain": [
       "worn      13308\n",
       "unworn    11978\n",
       "Name: tool_condition, dtype: int64"
      ]
     },
     "metadata": {},
     "execution_count": 21
    }
   ],
   "metadata": {}
  },
  {
   "cell_type": "markdown",
   "source": [
    "### Applying to actual data"
   ],
   "metadata": {}
  },
  {
   "cell_type": "code",
   "execution_count": 22,
   "source": [
    "le = LabelEncoder()\r\n",
    "df2['Machining_Process'] = le.fit_transform(df2['Machining_Process'])\r\n",
    "df2['Machining_Process'].value_counts()"
   ],
   "outputs": [
    {
     "output_type": "execute_result",
     "data": {
      "text/plain": [
       "2    4085\n",
       "8    3377\n",
       "4    3104\n",
       "6    2794\n",
       "1    2655\n",
       "0    2593\n",
       "3    2528\n",
       "5    2354\n",
       "7    1796\n",
       "Name: Machining_Process, dtype: int64"
      ]
     },
     "metadata": {},
     "execution_count": 22
    }
   ],
   "metadata": {}
  },
  {
   "cell_type": "code",
   "execution_count": 23,
   "source": [
    "df2.info()"
   ],
   "outputs": [
    {
     "output_type": "stream",
     "name": "stdout",
     "text": [
      "<class 'pandas.core.frame.DataFrame'>\n",
      "RangeIndex: 25286 entries, 0 to 25285\n",
      "Data columns (total 50 columns):\n",
      " #   Column                     Non-Null Count  Dtype  \n",
      "---  ------                     --------------  -----  \n",
      " 0   X1_ActualPosition          25286 non-null  float64\n",
      " 1   X1_ActualVelocity          25286 non-null  float64\n",
      " 2   X1_ActualAcceleration      25286 non-null  float64\n",
      " 3   X1_CommandPosition         25286 non-null  float64\n",
      " 4   X1_CommandVelocity         25286 non-null  float64\n",
      " 5   X1_CommandAcceleration     25286 non-null  float64\n",
      " 6   X1_CurrentFeedback         25286 non-null  float64\n",
      " 7   X1_DCBusVoltage            25286 non-null  float64\n",
      " 8   X1_OutputCurrent           25286 non-null  float64\n",
      " 9   X1_OutputVoltage           25286 non-null  float64\n",
      " 10  X1_OutputPower             25286 non-null  float64\n",
      " 11  Y1_ActualPosition          25286 non-null  float64\n",
      " 12  Y1_ActualVelocity          25286 non-null  float64\n",
      " 13  Y1_ActualAcceleration      25286 non-null  float64\n",
      " 14  Y1_CommandPosition         25286 non-null  float64\n",
      " 15  Y1_CommandVelocity         25286 non-null  float64\n",
      " 16  Y1_CommandAcceleration     25286 non-null  float64\n",
      " 17  Y1_CurrentFeedback         25286 non-null  float64\n",
      " 18  Y1_DCBusVoltage            25286 non-null  float64\n",
      " 19  Y1_OutputCurrent           25286 non-null  float64\n",
      " 20  Y1_OutputVoltage           25286 non-null  float64\n",
      " 21  Y1_OutputPower             25286 non-null  float64\n",
      " 22  Z1_ActualPosition          25286 non-null  float64\n",
      " 23  Z1_ActualVelocity          25286 non-null  float64\n",
      " 24  Z1_ActualAcceleration      25286 non-null  float64\n",
      " 25  Z1_CommandPosition         25286 non-null  float64\n",
      " 26  Z1_CommandVelocity         25286 non-null  float64\n",
      " 27  Z1_CommandAcceleration     25286 non-null  float64\n",
      " 28  Z1_CurrentFeedback         25286 non-null  float64\n",
      " 29  Z1_DCBusVoltage            25286 non-null  float64\n",
      " 30  Z1_OutputCurrent           25286 non-null  float64\n",
      " 31  Z1_OutputVoltage           25286 non-null  float64\n",
      " 32  S1_ActualPosition          25286 non-null  float64\n",
      " 33  S1_ActualVelocity          25286 non-null  float64\n",
      " 34  S1_ActualAcceleration      25286 non-null  float64\n",
      " 35  S1_CommandPosition         25286 non-null  float64\n",
      " 36  S1_CommandVelocity         25286 non-null  float64\n",
      " 37  S1_CommandAcceleration     25286 non-null  float64\n",
      " 38  S1_CurrentFeedback         25286 non-null  float64\n",
      " 39  S1_DCBusVoltage            25286 non-null  float64\n",
      " 40  S1_OutputCurrent           25286 non-null  float64\n",
      " 41  S1_OutputVoltage           25286 non-null  float64\n",
      " 42  S1_OutputPower             25286 non-null  float64\n",
      " 43  S1_SystemInertia           25286 non-null  float64\n",
      " 44  M1_CURRENT_PROGRAM_NUMBER  25286 non-null  float64\n",
      " 45  M1_sequence_number         25286 non-null  float64\n",
      " 46  M1_CURRENT_FEEDRATE        25286 non-null  float64\n",
      " 47  Machining_Process          25286 non-null  int32  \n",
      " 48  feedrate                   25286 non-null  int64  \n",
      " 49  clamp_pressure             25286 non-null  float64\n",
      "dtypes: float64(48), int32(1), int64(1)\n",
      "memory usage: 9.5 MB\n"
     ]
    }
   ],
   "metadata": {}
  },
  {
   "cell_type": "markdown",
   "source": [
    "## Save processed data\n",
    "- CSV\n",
    "- Pickle"
   ],
   "metadata": {}
  },
  {
   "cell_type": "code",
   "execution_count": 24,
   "source": [
    "saveFolder = 'Data_CNC_processed'\r\n",
    "filename = 'pred_machining_process'\r\n",
    "df2.to_csv(f'{saveFolder}/{filename}.csv', index=False)"
   ],
   "outputs": [],
   "metadata": {}
  },
  {
   "cell_type": "code",
   "execution_count": 25,
   "source": [
    "compression = 'gzip'\r\n",
    "df2.to_pickle(f'{saveFolder}/{filename}.pkl',compression=compression)"
   ],
   "outputs": [],
   "metadata": {}
  },
  {
   "cell_type": "code",
   "execution_count": 26,
   "source": [
    "df3 = pd.read_csv(f'{saveFolder}/{filename}.csv')\r\n",
    "df3.head(3)"
   ],
   "outputs": [
    {
     "output_type": "execute_result",
     "data": {
      "text/plain": [
       "   X1_ActualPosition  X1_ActualVelocity  X1_ActualAcceleration  \\\n",
       "0              198.0                0.0                   0.00   \n",
       "1              198.0              -10.8                -350.00   \n",
       "2              196.0              -17.8                  -6.25   \n",
       "\n",
       "   X1_CommandPosition  X1_CommandVelocity  X1_CommandAcceleration  \\\n",
       "0               198.0                 0.0                0.000000   \n",
       "1               198.0               -13.6             -358.000000   \n",
       "2               196.0               -17.9               -0.000095   \n",
       "\n",
       "   X1_CurrentFeedback  X1_DCBusVoltage  X1_OutputCurrent  X1_OutputVoltage  \\\n",
       "0                0.18           0.0207             329.0              2.77   \n",
       "1              -10.90           0.1860             328.0             23.30   \n",
       "2               -8.59           0.1400             328.0             30.60   \n",
       "\n",
       "   ...  S1_OutputCurrent  S1_OutputVoltage  S1_OutputPower  S1_SystemInertia  \\\n",
       "0  ...             329.0               0.0    6.960000e-07              12.0   \n",
       "1  ...             328.0               0.0   -5.270000e-07              12.0   \n",
       "2  ...             328.0               0.0    9.100000e-07              12.0   \n",
       "\n",
       "   M1_CURRENT_PROGRAM_NUMBER  M1_sequence_number  M1_CURRENT_FEEDRATE  \\\n",
       "0                        1.0                 0.0                 50.0   \n",
       "1                        1.0                 4.0                 50.0   \n",
       "2                        1.0                 7.0                 50.0   \n",
       "\n",
       "   Machining_Process  feedrate  clamp_pressure  \n",
       "0                  7         6             4.0  \n",
       "1                  7         6             4.0  \n",
       "2                  7         6             4.0  \n",
       "\n",
       "[3 rows x 50 columns]"
      ],
      "text/html": [
       "<div>\n",
       "<style scoped>\n",
       "    .dataframe tbody tr th:only-of-type {\n",
       "        vertical-align: middle;\n",
       "    }\n",
       "\n",
       "    .dataframe tbody tr th {\n",
       "        vertical-align: top;\n",
       "    }\n",
       "\n",
       "    .dataframe thead th {\n",
       "        text-align: right;\n",
       "    }\n",
       "</style>\n",
       "<table border=\"1\" class=\"dataframe\">\n",
       "  <thead>\n",
       "    <tr style=\"text-align: right;\">\n",
       "      <th></th>\n",
       "      <th>X1_ActualPosition</th>\n",
       "      <th>X1_ActualVelocity</th>\n",
       "      <th>X1_ActualAcceleration</th>\n",
       "      <th>X1_CommandPosition</th>\n",
       "      <th>X1_CommandVelocity</th>\n",
       "      <th>X1_CommandAcceleration</th>\n",
       "      <th>X1_CurrentFeedback</th>\n",
       "      <th>X1_DCBusVoltage</th>\n",
       "      <th>X1_OutputCurrent</th>\n",
       "      <th>X1_OutputVoltage</th>\n",
       "      <th>...</th>\n",
       "      <th>S1_OutputCurrent</th>\n",
       "      <th>S1_OutputVoltage</th>\n",
       "      <th>S1_OutputPower</th>\n",
       "      <th>S1_SystemInertia</th>\n",
       "      <th>M1_CURRENT_PROGRAM_NUMBER</th>\n",
       "      <th>M1_sequence_number</th>\n",
       "      <th>M1_CURRENT_FEEDRATE</th>\n",
       "      <th>Machining_Process</th>\n",
       "      <th>feedrate</th>\n",
       "      <th>clamp_pressure</th>\n",
       "    </tr>\n",
       "  </thead>\n",
       "  <tbody>\n",
       "    <tr>\n",
       "      <th>0</th>\n",
       "      <td>198.0</td>\n",
       "      <td>0.0</td>\n",
       "      <td>0.00</td>\n",
       "      <td>198.0</td>\n",
       "      <td>0.0</td>\n",
       "      <td>0.000000</td>\n",
       "      <td>0.18</td>\n",
       "      <td>0.0207</td>\n",
       "      <td>329.0</td>\n",
       "      <td>2.77</td>\n",
       "      <td>...</td>\n",
       "      <td>329.0</td>\n",
       "      <td>0.0</td>\n",
       "      <td>6.960000e-07</td>\n",
       "      <td>12.0</td>\n",
       "      <td>1.0</td>\n",
       "      <td>0.0</td>\n",
       "      <td>50.0</td>\n",
       "      <td>7</td>\n",
       "      <td>6</td>\n",
       "      <td>4.0</td>\n",
       "    </tr>\n",
       "    <tr>\n",
       "      <th>1</th>\n",
       "      <td>198.0</td>\n",
       "      <td>-10.8</td>\n",
       "      <td>-350.00</td>\n",
       "      <td>198.0</td>\n",
       "      <td>-13.6</td>\n",
       "      <td>-358.000000</td>\n",
       "      <td>-10.90</td>\n",
       "      <td>0.1860</td>\n",
       "      <td>328.0</td>\n",
       "      <td>23.30</td>\n",
       "      <td>...</td>\n",
       "      <td>328.0</td>\n",
       "      <td>0.0</td>\n",
       "      <td>-5.270000e-07</td>\n",
       "      <td>12.0</td>\n",
       "      <td>1.0</td>\n",
       "      <td>4.0</td>\n",
       "      <td>50.0</td>\n",
       "      <td>7</td>\n",
       "      <td>6</td>\n",
       "      <td>4.0</td>\n",
       "    </tr>\n",
       "    <tr>\n",
       "      <th>2</th>\n",
       "      <td>196.0</td>\n",
       "      <td>-17.8</td>\n",
       "      <td>-6.25</td>\n",
       "      <td>196.0</td>\n",
       "      <td>-17.9</td>\n",
       "      <td>-0.000095</td>\n",
       "      <td>-8.59</td>\n",
       "      <td>0.1400</td>\n",
       "      <td>328.0</td>\n",
       "      <td>30.60</td>\n",
       "      <td>...</td>\n",
       "      <td>328.0</td>\n",
       "      <td>0.0</td>\n",
       "      <td>9.100000e-07</td>\n",
       "      <td>12.0</td>\n",
       "      <td>1.0</td>\n",
       "      <td>7.0</td>\n",
       "      <td>50.0</td>\n",
       "      <td>7</td>\n",
       "      <td>6</td>\n",
       "      <td>4.0</td>\n",
       "    </tr>\n",
       "  </tbody>\n",
       "</table>\n",
       "<p>3 rows × 50 columns</p>\n",
       "</div>"
      ]
     },
     "metadata": {},
     "execution_count": 26
    }
   ],
   "metadata": {}
  },
  {
   "cell_type": "code",
   "execution_count": 27,
   "source": [
    "df4 = pd.read_pickle(f'{saveFolder}/{filename}.pkl',compression=compression)\r\n",
    "df4.head(3)"
   ],
   "outputs": [
    {
     "output_type": "execute_result",
     "data": {
      "text/plain": [
       "   X1_ActualPosition  X1_ActualVelocity  X1_ActualAcceleration  \\\n",
       "0              198.0                0.0                   0.00   \n",
       "1              198.0              -10.8                -350.00   \n",
       "2              196.0              -17.8                  -6.25   \n",
       "\n",
       "   X1_CommandPosition  X1_CommandVelocity  X1_CommandAcceleration  \\\n",
       "0               198.0                 0.0                0.000000   \n",
       "1               198.0               -13.6             -358.000000   \n",
       "2               196.0               -17.9               -0.000095   \n",
       "\n",
       "   X1_CurrentFeedback  X1_DCBusVoltage  X1_OutputCurrent  X1_OutputVoltage  \\\n",
       "0                0.18           0.0207             329.0              2.77   \n",
       "1              -10.90           0.1860             328.0             23.30   \n",
       "2               -8.59           0.1400             328.0             30.60   \n",
       "\n",
       "   ...  S1_OutputCurrent  S1_OutputVoltage  S1_OutputPower  S1_SystemInertia  \\\n",
       "0  ...             329.0               0.0    6.960000e-07              12.0   \n",
       "1  ...             328.0               0.0   -5.270000e-07              12.0   \n",
       "2  ...             328.0               0.0    9.100000e-07              12.0   \n",
       "\n",
       "   M1_CURRENT_PROGRAM_NUMBER  M1_sequence_number  M1_CURRENT_FEEDRATE  \\\n",
       "0                        1.0                 0.0                 50.0   \n",
       "1                        1.0                 4.0                 50.0   \n",
       "2                        1.0                 7.0                 50.0   \n",
       "\n",
       "   Machining_Process  feedrate  clamp_pressure  \n",
       "0                  7         6             4.0  \n",
       "1                  7         6             4.0  \n",
       "2                  7         6             4.0  \n",
       "\n",
       "[3 rows x 50 columns]"
      ],
      "text/html": [
       "<div>\n",
       "<style scoped>\n",
       "    .dataframe tbody tr th:only-of-type {\n",
       "        vertical-align: middle;\n",
       "    }\n",
       "\n",
       "    .dataframe tbody tr th {\n",
       "        vertical-align: top;\n",
       "    }\n",
       "\n",
       "    .dataframe thead th {\n",
       "        text-align: right;\n",
       "    }\n",
       "</style>\n",
       "<table border=\"1\" class=\"dataframe\">\n",
       "  <thead>\n",
       "    <tr style=\"text-align: right;\">\n",
       "      <th></th>\n",
       "      <th>X1_ActualPosition</th>\n",
       "      <th>X1_ActualVelocity</th>\n",
       "      <th>X1_ActualAcceleration</th>\n",
       "      <th>X1_CommandPosition</th>\n",
       "      <th>X1_CommandVelocity</th>\n",
       "      <th>X1_CommandAcceleration</th>\n",
       "      <th>X1_CurrentFeedback</th>\n",
       "      <th>X1_DCBusVoltage</th>\n",
       "      <th>X1_OutputCurrent</th>\n",
       "      <th>X1_OutputVoltage</th>\n",
       "      <th>...</th>\n",
       "      <th>S1_OutputCurrent</th>\n",
       "      <th>S1_OutputVoltage</th>\n",
       "      <th>S1_OutputPower</th>\n",
       "      <th>S1_SystemInertia</th>\n",
       "      <th>M1_CURRENT_PROGRAM_NUMBER</th>\n",
       "      <th>M1_sequence_number</th>\n",
       "      <th>M1_CURRENT_FEEDRATE</th>\n",
       "      <th>Machining_Process</th>\n",
       "      <th>feedrate</th>\n",
       "      <th>clamp_pressure</th>\n",
       "    </tr>\n",
       "  </thead>\n",
       "  <tbody>\n",
       "    <tr>\n",
       "      <th>0</th>\n",
       "      <td>198.0</td>\n",
       "      <td>0.0</td>\n",
       "      <td>0.00</td>\n",
       "      <td>198.0</td>\n",
       "      <td>0.0</td>\n",
       "      <td>0.000000</td>\n",
       "      <td>0.18</td>\n",
       "      <td>0.0207</td>\n",
       "      <td>329.0</td>\n",
       "      <td>2.77</td>\n",
       "      <td>...</td>\n",
       "      <td>329.0</td>\n",
       "      <td>0.0</td>\n",
       "      <td>6.960000e-07</td>\n",
       "      <td>12.0</td>\n",
       "      <td>1.0</td>\n",
       "      <td>0.0</td>\n",
       "      <td>50.0</td>\n",
       "      <td>7</td>\n",
       "      <td>6</td>\n",
       "      <td>4.0</td>\n",
       "    </tr>\n",
       "    <tr>\n",
       "      <th>1</th>\n",
       "      <td>198.0</td>\n",
       "      <td>-10.8</td>\n",
       "      <td>-350.00</td>\n",
       "      <td>198.0</td>\n",
       "      <td>-13.6</td>\n",
       "      <td>-358.000000</td>\n",
       "      <td>-10.90</td>\n",
       "      <td>0.1860</td>\n",
       "      <td>328.0</td>\n",
       "      <td>23.30</td>\n",
       "      <td>...</td>\n",
       "      <td>328.0</td>\n",
       "      <td>0.0</td>\n",
       "      <td>-5.270000e-07</td>\n",
       "      <td>12.0</td>\n",
       "      <td>1.0</td>\n",
       "      <td>4.0</td>\n",
       "      <td>50.0</td>\n",
       "      <td>7</td>\n",
       "      <td>6</td>\n",
       "      <td>4.0</td>\n",
       "    </tr>\n",
       "    <tr>\n",
       "      <th>2</th>\n",
       "      <td>196.0</td>\n",
       "      <td>-17.8</td>\n",
       "      <td>-6.25</td>\n",
       "      <td>196.0</td>\n",
       "      <td>-17.9</td>\n",
       "      <td>-0.000095</td>\n",
       "      <td>-8.59</td>\n",
       "      <td>0.1400</td>\n",
       "      <td>328.0</td>\n",
       "      <td>30.60</td>\n",
       "      <td>...</td>\n",
       "      <td>328.0</td>\n",
       "      <td>0.0</td>\n",
       "      <td>9.100000e-07</td>\n",
       "      <td>12.0</td>\n",
       "      <td>1.0</td>\n",
       "      <td>7.0</td>\n",
       "      <td>50.0</td>\n",
       "      <td>7</td>\n",
       "      <td>6</td>\n",
       "      <td>4.0</td>\n",
       "    </tr>\n",
       "  </tbody>\n",
       "</table>\n",
       "<p>3 rows × 50 columns</p>\n",
       "</div>"
      ]
     },
     "metadata": {},
     "execution_count": 27
    }
   ],
   "metadata": {}
  },
  {
   "cell_type": "markdown",
   "source": [
    "## Machining learning (finally)"
   ],
   "metadata": {}
  },
  {
   "cell_type": "code",
   "execution_count": 28,
   "source": [
    "colsX = [item for item in df2.columns if item not in 'Machining_Process'] \r\n",
    "X = df2[colsX].values\r\n",
    "y = df2['Machining_Process'].values"
   ],
   "outputs": [],
   "metadata": {}
  },
  {
   "cell_type": "code",
   "execution_count": 29,
   "source": [
    "param = \"best\"\r\n",
    "paramSet = {\r\n",
    "    \"firstTry\": {\"eta0\": 0.01, \"n_iter_no_change\": 3, \"random_state\": 5},\r\n",
    "    \"best\": {\"eta0\": 0.1, \"n_iter_no_change\": 10, \"random_state\": 1},\r\n",
    "}"
   ],
   "outputs": [],
   "metadata": {}
  },
  {
   "cell_type": "code",
   "execution_count": 30,
   "source": [
    "X_train, X_test, y_train, y_test = train_test_split(\r\n",
    "    X, y, test_size=0.3, random_state=1, stratify=y\r\n",
    ")"
   ],
   "outputs": [],
   "metadata": {}
  },
  {
   "cell_type": "code",
   "execution_count": 31,
   "source": [
    "sc = StandardScaler()\r\n",
    "sc.fit(X_train)\r\n",
    "X_train_std = sc.transform(X_train)\r\n",
    "X_test_std = sc.transform(X_test)"
   ],
   "outputs": [],
   "metadata": {}
  },
  {
   "cell_type": "code",
   "execution_count": 32,
   "source": [
    "ppn = Perceptron(\r\n",
    "    eta0=paramSet[param][\"eta0\"],\r\n",
    "    random_state=paramSet[param][\"random_state\"],\r\n",
    "    verbose=0,\r\n",
    "    n_iter_no_change=paramSet[param][\"n_iter_no_change\"],\r\n",
    ")"
   ],
   "outputs": [],
   "metadata": {}
  },
  {
   "cell_type": "code",
   "execution_count": 33,
   "source": [
    "# Training\r\n",
    "ppn.fit(X_train_std, y_train)"
   ],
   "outputs": [
    {
     "output_type": "execute_result",
     "data": {
      "text/plain": [
       "Perceptron(eta0=0.1, n_iter_no_change=10, random_state=1)"
      ]
     },
     "metadata": {},
     "execution_count": 33
    }
   ],
   "metadata": {
    "tags": []
   }
  },
  {
   "cell_type": "code",
   "execution_count": 34,
   "source": [
    "# Prediction\r\n",
    "y_pred = ppn.predict(X_test_std)"
   ],
   "outputs": [],
   "metadata": {}
  },
  {
   "cell_type": "code",
   "execution_count": 35,
   "source": [
    "# Misclassification from the test samples\r\n",
    "sumMiss = (y_test != y_pred).sum()"
   ],
   "outputs": [],
   "metadata": {}
  },
  {
   "cell_type": "code",
   "execution_count": 36,
   "source": [
    "# Accuracy score from the test samples\r\n",
    "accuracyScore = accuracy_score(y_test, y_pred)"
   ],
   "outputs": [],
   "metadata": {}
  },
  {
   "cell_type": "code",
   "execution_count": 37,
   "source": [
    "print(f\"Misclassified examples: {sumMiss}\")\r\n",
    "print(f\"Accuracy score: {accuracyScore}\")"
   ],
   "outputs": [
    {
     "output_type": "stream",
     "name": "stdout",
     "text": [
      "Misclassified examples: 6408\n",
      "Accuracy score: 0.1552860532559979\n"
     ]
    }
   ],
   "metadata": {}
  },
  {
   "cell_type": "code",
   "execution_count": 38,
   "source": [
    "y_test.shape"
   ],
   "outputs": [
    {
     "output_type": "execute_result",
     "data": {
      "text/plain": [
       "(7586,)"
      ]
     },
     "metadata": {},
     "execution_count": 38
    }
   ],
   "metadata": {}
  }
 ]
}