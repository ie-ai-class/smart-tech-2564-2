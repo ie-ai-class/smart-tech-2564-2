{
 "cells": [
  {
   "cell_type": "markdown",
   "source": [
    "# Support Vector Machine\r\n",
    "- Iris dataset\r\n",
    "- All features\r\n",
    "- Multiclass"
   ],
   "metadata": {}
  },
  {
   "cell_type": "code",
   "execution_count": 97,
   "source": [
    "import numpy as np\r\n",
    "import matplotlib.pyplot as plt\r\n",
    "from sklearn import datasets\r\n",
    "from sklearn.model_selection import train_test_split\r\n",
    "from sklearn.preprocessing import StandardScaler\r\n",
    "from sklearn.metrics import accuracy_score\r\n",
    "from PlotFunction import plot_decision_surface_train_test\r\n",
    "from sklearn.svm import SVC"
   ],
   "outputs": [],
   "metadata": {}
  },
  {
   "cell_type": "code",
   "execution_count": 98,
   "source": [
    "import os\r\n",
    "imagePath = os.path.join(os.getcwd(),'Images')\r\n",
    "if (not(os.path.isdir(imagePath))):\r\n",
    "    os.mkdir(imagePath)"
   ],
   "outputs": [],
   "metadata": {}
  },
  {
   "cell_type": "code",
   "execution_count": 99,
   "source": [
    "# Read data\r\n",
    "iris = datasets.load_iris()"
   ],
   "outputs": [],
   "metadata": {}
  },
  {
   "cell_type": "code",
   "execution_count": 100,
   "source": [
    "# Extract all columns\r\n",
    "X = iris.data\r\n",
    "y = iris.target"
   ],
   "outputs": [],
   "metadata": {}
  },
  {
   "cell_type": "code",
   "execution_count": 101,
   "source": [
    "# Split data into training and testing data\r\n",
    "X_train, X_test, y_train, y_test = train_test_split(\r\n",
    "    X, y, test_size=0.3, random_state=1, stratify=y\r\n",
    ")"
   ],
   "outputs": [],
   "metadata": {}
  },
  {
   "cell_type": "code",
   "execution_count": 102,
   "source": [
    "# Standardization\r\n",
    "sc = StandardScaler()\r\n",
    "sc.fit(X_train)\r\n",
    "X_train_std = sc.transform(X_train)\r\n",
    "X_test_std = sc.transform(X_test)"
   ],
   "outputs": [],
   "metadata": {}
  },
  {
   "cell_type": "code",
   "execution_count": 103,
   "source": [
    "paramSetAll = {\r\n",
    "    \"ex1\": {\"gamma\": 0.01, \"C\": 10},\r\n",
    "    \"ex2\": {\"gamma\": 0.1, \"C\": 10},\r\n",
    "    \"ex3\": {\"gamma\": 1, \"C\": 10},\r\n",
    "    \"ex4\": {\"gamma\": 10, \"C\": 10},\r\n",
    "    \"ex5\": {\"gamma\": 0.1, \"C\": 0.01},\r\n",
    "    \"ex6\": {\"gamma\": 0.1, \"C\": 1},\r\n",
    "    \"ex7\": {\"gamma\": 0.1, \"C\": 100},\r\n",
    "    \"ex8\": {\"gamma\": 0.1, \"C\": 1000},\r\n",
    "    \"ex9\": {\"gamma\": 0.01, \"C\": 1000},\r\n",
    "    \"ex10\": {\"gamma\": 0.001, \"C\": 1000},\r\n",
    "    \"ex11\": {\"gamma\": 0.0001, \"C\": 10000000},\r\n",
    "\r\n",
    "}"
   ],
   "outputs": [],
   "metadata": {}
  },
  {
   "cell_type": "code",
   "execution_count": 104,
   "source": [
    "cl = list(range(1,12))\r\n",
    "ca = [ f'ex{i}' for i in cl]\r\n",
    "paramSet = { k: paramSetAll[k] for k in ca} \r\n",
    "#print(paramSet)"
   ],
   "outputs": [],
   "metadata": {}
  },
  {
   "cell_type": "code",
   "execution_count": 105,
   "source": [
    "for ex, param in paramSet.items():\r\n",
    "    # Extract parameteres\r\n",
    "    gamma = param['gamma']\r\n",
    "    C = param['C']\r\n",
    "    # Create object\r\n",
    "    svm = SVC(kernel=\"rbf\", gamma=gamma, C=C, random_state=1, verbose=0)\r\n",
    "    # Training\r\n",
    "    svm.fit(X_train_std, y_train)\r\n",
    "    # Prediction\r\n",
    "    y_pred = svm.predict(X_test_std)\r\n",
    "    # Misclassification from the test samples\r\n",
    "    sumMiss = (y_test != y_pred).sum()\r\n",
    "    # Accuracy score from the test samples\r\n",
    "    accuracyScore = accuracy_score(y_test, y_pred)\r\n",
    "    print(f\"C={C}, Gamma={gamma}\")\r\n",
    "    print(f\"Misclassified examples: {sumMiss}\")\r\n",
    "    print(f\"Accuracy score: {accuracyScore}\")\r\n",
    "    print(\"-------------------------------------\")"
   ],
   "outputs": [
    {
     "output_type": "stream",
     "name": "stdout",
     "text": [
      "C=10, Gamma=0.01\n",
      "Misclassified examples: 2\n",
      "Accuracy score: 0.9555555555555556\n",
      "-------------------------------------\n",
      "C=10, Gamma=0.1\n",
      "Misclassified examples: 1\n",
      "Accuracy score: 0.9777777777777777\n",
      "-------------------------------------\n",
      "C=10, Gamma=1\n",
      "Misclassified examples: 2\n",
      "Accuracy score: 0.9555555555555556\n",
      "-------------------------------------\n",
      "C=10, Gamma=10\n",
      "Misclassified examples: 5\n",
      "Accuracy score: 0.8888888888888888\n",
      "-------------------------------------\n",
      "C=0.01, Gamma=0.1\n",
      "Misclassified examples: 9\n",
      "Accuracy score: 0.8\n",
      "-------------------------------------\n",
      "C=1, Gamma=0.1\n",
      "Misclassified examples: 1\n",
      "Accuracy score: 0.9777777777777777\n",
      "-------------------------------------\n",
      "C=100, Gamma=0.1\n",
      "Misclassified examples: 1\n",
      "Accuracy score: 0.9777777777777777\n",
      "-------------------------------------\n",
      "C=1000, Gamma=0.1\n",
      "Misclassified examples: 1\n",
      "Accuracy score: 0.9777777777777777\n",
      "-------------------------------------\n",
      "C=1000, Gamma=0.01\n",
      "Misclassified examples: 1\n",
      "Accuracy score: 0.9777777777777777\n",
      "-------------------------------------\n",
      "C=1000, Gamma=0.001\n",
      "Misclassified examples: 1\n",
      "Accuracy score: 0.9777777777777777\n",
      "-------------------------------------\n",
      "C=100000, Gamma=0.0001\n",
      "Misclassified examples: 1\n",
      "Accuracy score: 0.9777777777777777\n",
      "-------------------------------------\n"
     ]
    }
   ],
   "metadata": {}
  }
 ],
 "metadata": {
  "orig_nbformat": 4,
  "language_info": {
   "name": "python",
   "version": "3.8.8",
   "mimetype": "text/x-python",
   "codemirror_mode": {
    "name": "ipython",
    "version": 3
   },
   "pygments_lexer": "ipython3",
   "nbconvert_exporter": "python",
   "file_extension": ".py"
  },
  "kernelspec": {
   "name": "python3",
   "display_name": "Python 3.8.8 64-bit ('base': conda)"
  },
  "interpreter": {
   "hash": "be725e0de8fb3f5fda9b0118bdf797fa9814e28e467c1cce77c5b9910d8a1786"
  }
 },
 "nbformat": 4,
 "nbformat_minor": 2
}