{
 "cells": [
  {
   "cell_type": "markdown",
   "source": [
    "# KNN\r\n",
    "- Iris dataset\r\n",
    "- All features\r\n",
    "- Multiclass"
   ],
   "metadata": {}
  },
  {
   "cell_type": "code",
   "execution_count": 19,
   "source": [
    "import numpy as np\r\n",
    "import matplotlib.pyplot as plt\r\n",
    "from sklearn import datasets\r\n",
    "from sklearn.model_selection import train_test_split\r\n",
    "from sklearn.preprocessing import StandardScaler\r\n",
    "from sklearn.metrics import accuracy_score\r\n",
    "from PlotFunction import plot_decision_surface_train_test\r\n",
    "from sklearn.neighbors import KNeighborsClassifier"
   ],
   "outputs": [],
   "metadata": {}
  },
  {
   "cell_type": "code",
   "execution_count": 20,
   "source": [
    "import os\r\n",
    "imagePath = os.path.join(os.getcwd(),'Images')\r\n",
    "if (not(os.path.isdir(imagePath))):\r\n",
    "    os.mkdir(imagePath)"
   ],
   "outputs": [],
   "metadata": {}
  },
  {
   "cell_type": "code",
   "execution_count": 21,
   "source": [
    "# Read data\r\n",
    "iris = datasets.load_iris()"
   ],
   "outputs": [],
   "metadata": {}
  },
  {
   "cell_type": "code",
   "execution_count": 22,
   "source": [
    "# Extract all columns\r\n",
    "X = iris.data\r\n",
    "y = iris.target"
   ],
   "outputs": [],
   "metadata": {}
  },
  {
   "cell_type": "code",
   "execution_count": 23,
   "source": [
    "# Split data into training and testing data\r\n",
    "X_train, X_test, y_train, y_test = train_test_split(\r\n",
    "    X, y, test_size=0.3, random_state=1, stratify=y\r\n",
    ")"
   ],
   "outputs": [],
   "metadata": {}
  },
  {
   "cell_type": "code",
   "execution_count": 24,
   "source": [
    "# Standardization\r\n",
    "sc = StandardScaler()\r\n",
    "sc.fit(X_train)\r\n",
    "X_train_std = sc.transform(X_train)\r\n",
    "X_test_std = sc.transform(X_test)"
   ],
   "outputs": [],
   "metadata": {}
  },
  {
   "cell_type": "code",
   "execution_count": 25,
   "source": [
    "paramSetAll = {\r\n",
    "    \"ex1\": {\"n_neighbors\": 1, \"p\": 2, \"algorithm\": \"auto\",},\r\n",
    "    \"ex2\": {\"n_neighbors\": 3, \"p\": 2, \"algorithm\": \"auto\",},\r\n",
    "    \"ex3\": {\"n_neighbors\": 5, \"p\": 2, \"algorithm\": \"auto\",},\r\n",
    "    \"ex4\": {\"n_neighbors\": 5, \"p\": 1, \"algorithm\": \"auto\",},\r\n",
    "    \"ex5\": {\"n_neighbors\": 6, \"p\": 2, \"algorithm\": \"auto\",},\r\n",
    "    \"ex6\": {\"n_neighbors\": 8, \"p\": 2, \"algorithm\": \"auto\",},\r\n",
    "}"
   ],
   "outputs": [],
   "metadata": {}
  },
  {
   "cell_type": "code",
   "execution_count": 26,
   "source": [
    "#cl = list(range(1,5))\r\n",
    "#ca = [ f'ex{i}' for i in cl]\r\n",
    "#paramSet = { k: paramSetAll[k] for k in ca} \r\n",
    "paramSet = paramSetAll\r\n",
    "print(paramSet)"
   ],
   "outputs": [
    {
     "output_type": "stream",
     "name": "stdout",
     "text": [
      "{'ex1': {'n_neighbors': 1, 'p': 2, 'algorithm': 'auto'}, 'ex2': {'n_neighbors': 3, 'p': 2, 'algorithm': 'auto'}, 'ex3': {'n_neighbors': 5, 'p': 2, 'algorithm': 'auto'}, 'ex4': {'n_neighbors': 5, 'p': 1, 'algorithm': 'auto'}, 'ex5': {'n_neighbors': 6, 'p': 2, 'algorithm': 'auto'}, 'ex6': {'n_neighbors': 7, 'p': 2, 'algorithm': 'auto'}}\n"
     ]
    }
   ],
   "metadata": {}
  },
  {
   "cell_type": "code",
   "execution_count": 27,
   "source": [
    "for ex, paramValue in paramSet.items():\r\n",
    "    # Create object\r\n",
    "    clf = KNeighborsClassifier(**paramValue)\r\n",
    "    # Training\r\n",
    "    clf.fit(X_train_std, y_train)\r\n",
    "    # Prediction\r\n",
    "    y_pred = clf.predict(X_test_std)\r\n",
    "    # Misclassification from the test samples\r\n",
    "    sumMiss = (y_test != y_pred).sum()\r\n",
    "    # Accuracy score from the test samples\r\n",
    "    accuracyScore = accuracy_score(y_test, y_pred)\r\n",
    "    print(f\"Misclassified examples: {sumMiss}\")\r\n",
    "    print(f\"Accuracy score: {accuracyScore}\")\r\n",
    "    print(\"-------------------------------------\")"
   ],
   "outputs": [
    {
     "output_type": "stream",
     "name": "stdout",
     "text": [
      "Misclassified examples: 3\n",
      "Accuracy score: 0.9333333333333333\n",
      "-------------------------------------\n",
      "Misclassified examples: 2\n",
      "Accuracy score: 0.9555555555555556\n",
      "-------------------------------------\n",
      "Misclassified examples: 3\n",
      "Accuracy score: 0.9333333333333333\n",
      "-------------------------------------\n",
      "Misclassified examples: 2\n",
      "Accuracy score: 0.9555555555555556\n",
      "-------------------------------------\n",
      "Misclassified examples: 2\n",
      "Accuracy score: 0.9555555555555556\n",
      "-------------------------------------\n",
      "Misclassified examples: 2\n",
      "Accuracy score: 0.9555555555555556\n",
      "-------------------------------------\n"
     ]
    }
   ],
   "metadata": {}
  }
 ],
 "metadata": {
  "orig_nbformat": 4,
  "language_info": {
   "name": "python",
   "version": "3.8.8",
   "mimetype": "text/x-python",
   "codemirror_mode": {
    "name": "ipython",
    "version": 3
   },
   "pygments_lexer": "ipython3",
   "nbconvert_exporter": "python",
   "file_extension": ".py"
  },
  "kernelspec": {
   "name": "python3",
   "display_name": "Python 3.8.8 64-bit ('base': conda)"
  },
  "interpreter": {
   "hash": "be725e0de8fb3f5fda9b0118bdf797fa9814e28e467c1cce77c5b9910d8a1786"
  }
 },
 "nbformat": 4,
 "nbformat_minor": 2
}