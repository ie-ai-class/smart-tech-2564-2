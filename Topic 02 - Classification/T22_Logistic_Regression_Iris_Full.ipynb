{
 "metadata": {
  "language_info": {
   "codemirror_mode": {
    "name": "ipython",
    "version": 3
   },
   "file_extension": ".py",
   "mimetype": "text/x-python",
   "name": "python",
   "nbconvert_exporter": "python",
   "pygments_lexer": "ipython3",
   "version": "3.7.9"
  },
  "orig_nbformat": 4,
  "kernelspec": {
   "name": "python3",
   "display_name": "Python 3.7.9 64-bit ('pythonclass': conda)"
  },
  "interpreter": {
   "hash": "19844b0f145f783bca5d92ab8a3911309516b4720e2f95cd0fa5964b8e7b138a"
  }
 },
 "nbformat": 4,
 "nbformat_minor": 2,
 "cells": [
  {
   "cell_type": "markdown",
   "source": [
    "# Logistic Regression\r\n",
    "- Iris dataset\r\n",
    "- Multiclass"
   ],
   "metadata": {}
  },
  {
   "cell_type": "code",
   "execution_count": 1,
   "source": [
    "import numpy as np\r\n",
    "import pandas as pd\r\n",
    "import matplotlib.pyplot as plt\r\n",
    "from sklearn import datasets\r\n",
    "from sklearn.model_selection import train_test_split\r\n",
    "from sklearn.preprocessing import StandardScaler\r\n",
    "from sklearn.linear_model import LogisticRegression\r\n",
    "from sklearn.metrics import accuracy_score"
   ],
   "outputs": [],
   "metadata": {}
  },
  {
   "cell_type": "code",
   "execution_count": 2,
   "source": [
    "# Load data\r\n",
    "iris = datasets.load_iris()\r\n",
    "X = iris.data\r\n",
    "y = iris.target\r\n",
    "# Split data into training and testing data\r\n",
    "X_train, X_test, y_train, y_test = train_test_split( X, y, test_size=0.3, random_state=1, stratify=y)\r\n",
    "# Standardization\r\n",
    "sc = StandardScaler()\r\n",
    "sc.fit(X_train)\r\n",
    "X_train_std = sc.transform(X_train)\r\n",
    "X_test_std = sc.transform(X_test)"
   ],
   "outputs": [],
   "metadata": {}
  },
  {
   "cell_type": "code",
   "execution_count": 3,
   "source": [
    "paramSet = {\n",
    "    \"ex1\": {\"solver\": \"lbfgs\", \"C\": 0.0001, \"max_iter\": 100},\n",
    "    \"ex2\": {\"solver\": \"lbfgs\", \"C\": 0.01, \"max_iter\": 100},\n",
    "    \"ex3\": {\"solver\": \"lbfgs\", \"C\": 1, \"max_iter\": 100},\n",
    "    \"ex4\": {\"solver\": \"lbfgs\", \"C\": 100, \"max_iter\": 100},\n",
    "    \"ex5\": {\"solver\": \"lbfgs\", \"C\": 10000, \"max_iter\": 100},\n",
    "}"
   ],
   "outputs": [],
   "metadata": {}
  },
  {
   "cell_type": "code",
   "execution_count": 4,
   "source": [
    "for paramName, paramValue in paramSet.items():\n",
    "    lr = LogisticRegression(\n",
    "        random_state=1,\n",
    "        verbose=0,\n",
    "        solver=paramValue[\"solver\"],\n",
    "        C=paramValue[\"C\"],\n",
    "        max_iter=paramValue[\"max_iter\"],\n",
    "    )\n",
    "\n",
    "    # Training\n",
    "    lr.fit(X_train_std, y_train)\n",
    "\n",
    "    # Prediction\n",
    "    y_pred = lr.predict(X_test_std)\n",
    "\n",
    "    # Misclassification from the test samples\n",
    "    sumMiss = (y_test != y_pred).sum()\n",
    "\n",
    "    # Accuracy score from the test samples\n",
    "    accuracyScore = accuracy_score(y_test, y_pred)\n",
    "\n",
    "    print(f\"Parameters: {paramValue}\")\n",
    "    print(f\"Misclassified examples: {sumMiss}\")\n",
    "    print(f\"Accuracy score: {accuracyScore}\")\n",
    "    print(f\"Norm of W: {np.linalg.norm(lr.coef_)}\")\n",
    "    print(f\"--------------------------------------------------\")"
   ],
   "outputs": [
    {
     "output_type": "stream",
     "name": "stdout",
     "text": [
      "Parameters: {'solver': 'lbfgs', 'C': 0.0001, 'max_iter': 100}\n",
      "Misclassified examples: 11\n",
      "Accuracy score: 0.7555555555555555\n",
      "Norm of W: 0.010276153466532295\n",
      "--------------------------------------------------\n",
      "Parameters: {'solver': 'lbfgs', 'C': 0.01, 'max_iter': 100}\n",
      "Misclassified examples: 9\n",
      "Accuracy score: 0.8\n",
      "Norm of W: 0.5547892528906797\n",
      "--------------------------------------------------\n",
      "Parameters: {'solver': 'lbfgs', 'C': 1, 'max_iter': 100}\n",
      "Misclassified examples: 1\n",
      "Accuracy score: 0.9777777777777777\n",
      "Norm of W: 4.2297515456336825\n",
      "--------------------------------------------------\n",
      "Parameters: {'solver': 'lbfgs', 'C': 100, 'max_iter': 100}\n",
      "Misclassified examples: 0\n",
      "Accuracy score: 1.0\n",
      "Norm of W: 13.779030469282961\n",
      "--------------------------------------------------\n",
      "Parameters: {'solver': 'lbfgs', 'C': 10000, 'max_iter': 100}\n",
      "Misclassified examples: 0\n",
      "Accuracy score: 1.0\n",
      "Norm of W: 20.626560556560612\n",
      "--------------------------------------------------\n"
     ]
    }
   ],
   "metadata": {}
  }
 ]
}