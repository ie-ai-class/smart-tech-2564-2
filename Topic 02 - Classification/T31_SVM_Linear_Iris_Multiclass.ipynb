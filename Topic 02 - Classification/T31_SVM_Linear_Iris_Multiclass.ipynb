{
 "cells": [
  {
   "cell_type": "markdown",
   "source": [
    "# Support Vector Machine\r\n",
    "- Iris dataset\r\n",
    "- 2 features\r\n",
    "- Multiclass"
   ],
   "metadata": {}
  },
  {
   "cell_type": "markdown",
   "source": [
    "# Support Vector Machine\r\n",
    "- Iris dataset\r\n",
    "- 2 features\r\n",
    "- Multiclass\r\n",
    "- Linear kernel"
   ],
   "metadata": {}
  },
  {
   "cell_type": "code",
   "execution_count": null,
   "source": [
    "import numpy as np\r\n",
    "import matplotlib.pyplot as plt\r\n",
    "from sklearn import datasets\r\n",
    "from sklearn.model_selection import train_test_split\r\n",
    "from sklearn.preprocessing import StandardScaler\r\n",
    "from sklearn.metrics import accuracy_score\r\n",
    "from PlotFunction import plot_decision_surface_train_test\r\n",
    "from sklearn.svm import SVC"
   ],
   "outputs": [],
   "metadata": {}
  },
  {
   "cell_type": "code",
   "execution_count": null,
   "source": [
    "import os\r\n",
    "imagePath = os.path.join(os.getcwd(),'Images')\r\n",
    "if (not(os.path.isdir(imagePath))):\r\n",
    "    os.mkdir(imagePath)"
   ],
   "outputs": [],
   "metadata": {}
  },
  {
   "cell_type": "code",
   "execution_count": null,
   "source": [
    "# Read data\r\n",
    "iris = datasets.load_iris()"
   ],
   "outputs": [],
   "metadata": {}
  },
  {
   "cell_type": "code",
   "execution_count": null,
   "source": [
    "# Extract the last 2 columns\r\n",
    "X = iris.data[:, 2:4]\r\n",
    "y = iris.target"
   ],
   "outputs": [],
   "metadata": {}
  },
  {
   "cell_type": "code",
   "execution_count": null,
   "source": [
    "# Split data into training and testing data\r\n",
    "X_train, X_test, y_train, y_test = train_test_split(\r\n",
    "    X, y, test_size=0.3, random_state=1, stratify=y\r\n",
    ")"
   ],
   "outputs": [],
   "metadata": {}
  },
  {
   "cell_type": "code",
   "execution_count": null,
   "source": [
    "# Standardization\r\n",
    "sc = StandardScaler()\r\n",
    "sc.fit(X_train)\r\n",
    "X_train_std = sc.transform(X_train)\r\n",
    "X_test_std = sc.transform(X_test)"
   ],
   "outputs": [],
   "metadata": {}
  },
  {
   "cell_type": "code",
   "execution_count": null,
   "source": [
    "# Parameters\r\n",
    "param = \"ex1\"\r\n",
    "paramSet = {\"ex1\": {\"C\": 0.01}, \"ex2\": {\"C\": 1}, \"ex3\": {\"C\": 100}}\r\n",
    "params = paramSet[param]"
   ],
   "outputs": [],
   "metadata": {}
  },
  {
   "cell_type": "code",
   "execution_count": null,
   "source": [
    "# Create object\r\n",
    "svm = SVC(kernel=\"linear\", C=params[\"C\"], random_state=1, verbose=1)"
   ],
   "outputs": [],
   "metadata": {}
  },
  {
   "cell_type": "code",
   "execution_count": null,
   "source": [
    "# Training\r\n",
    "svm.fit(X_train_std, y_train)"
   ],
   "outputs": [],
   "metadata": {}
  },
  {
   "cell_type": "code",
   "execution_count": null,
   "source": [
    "# Prediction\r\n",
    "y_pred = svm.predict(X_test_std)"
   ],
   "outputs": [],
   "metadata": {}
  },
  {
   "cell_type": "code",
   "execution_count": null,
   "source": [
    "# Misclassification from the test samples\r\n",
    "sumMiss = (y_test != y_pred).sum()"
   ],
   "outputs": [],
   "metadata": {}
  },
  {
   "cell_type": "code",
   "execution_count": null,
   "source": [
    "# Accuracy score from the test samples\r\n",
    "accuracyScore = accuracy_score(y_test, y_pred)"
   ],
   "outputs": [],
   "metadata": {}
  },
  {
   "cell_type": "code",
   "execution_count": null,
   "source": [
    "print(f\"Misclassified examples: {sumMiss}\")\r\n",
    "print(f\"Accuracy score: {accuracyScore}\")\r\n",
    "print(f\"Norm of W: {np.linalg.norm(svm.coef_)}\")"
   ],
   "outputs": [],
   "metadata": {}
  },
  {
   "cell_type": "markdown",
   "source": [
    "SVMs decision function depends on some subset of the training data, called the support vectors."
   ],
   "metadata": {}
  },
  {
   "cell_type": "code",
   "execution_count": null,
   "source": [
    "# Print support vectors\r\n",
    "#print(svm.support_vectors_)\r\n",
    "\r\n",
    "# Get indices of support vectors\r\n",
    "#print(svm.support_)\r\n",
    "\r\n",
    "# Get number of support vectors for each class\r\n",
    "#print(svm.n_support_)"
   ],
   "outputs": [],
   "metadata": {}
  },
  {
   "cell_type": "code",
   "execution_count": null,
   "source": [
    "filenamePNG = \"Images/T31_SVM_\" + param + \".png\"\r\n",
    "plot_decision_surface_train_test(\r\n",
    "    X_train_std, X_test_std, y_train, y_test, svm, filename=filenamePNG\r\n",
    ")"
   ],
   "outputs": [],
   "metadata": {}
  },
  {
   "cell_type": "code",
   "execution_count": null,
   "source": [],
   "outputs": [],
   "metadata": {}
  }
 ],
 "metadata": {
  "orig_nbformat": 4,
  "language_info": {
   "name": "python",
   "version": "3.8.8",
   "mimetype": "text/x-python",
   "codemirror_mode": {
    "name": "ipython",
    "version": 3
   },
   "pygments_lexer": "ipython3",
   "nbconvert_exporter": "python",
   "file_extension": ".py"
  },
  "kernelspec": {
   "name": "python3",
   "display_name": "Python 3.8.8 64-bit ('base': conda)"
  },
  "interpreter": {
   "hash": "be725e0de8fb3f5fda9b0118bdf797fa9814e28e467c1cce77c5b9910d8a1786"
  }
 },
 "nbformat": 4,
 "nbformat_minor": 2
}