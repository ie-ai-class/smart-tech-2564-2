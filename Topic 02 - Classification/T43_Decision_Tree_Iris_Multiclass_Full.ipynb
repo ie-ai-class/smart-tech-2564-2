{
 "cells": [
  {
   "cell_type": "markdown",
   "source": [
    "# Decision Tree\r\n",
    "- Iris dataset\r\n",
    "- All features\r\n",
    "- Multiclass"
   ],
   "metadata": {}
  },
  {
   "cell_type": "code",
   "execution_count": 73,
   "source": [
    "import numpy as np\r\n",
    "import matplotlib.pyplot as plt\r\n",
    "from sklearn import datasets\r\n",
    "from sklearn.model_selection import train_test_split\r\n",
    "from sklearn.preprocessing import StandardScaler\r\n",
    "from sklearn.metrics import accuracy_score\r\n",
    "from PlotFunction import plot_decision_surface_train_test\r\n",
    "from sklearn.tree import DecisionTreeClassifier\r\n",
    "from sklearn import tree"
   ],
   "outputs": [],
   "metadata": {}
  },
  {
   "cell_type": "code",
   "execution_count": 74,
   "source": [
    "import os\r\n",
    "imagePath = os.path.join(os.getcwd(),'Images')\r\n",
    "if (not(os.path.isdir(imagePath))):\r\n",
    "    os.mkdir(imagePath)"
   ],
   "outputs": [],
   "metadata": {}
  },
  {
   "cell_type": "code",
   "execution_count": 75,
   "source": [
    "# Read data\r\n",
    "iris = datasets.load_iris()"
   ],
   "outputs": [],
   "metadata": {}
  },
  {
   "cell_type": "code",
   "execution_count": 76,
   "source": [
    "# Extract all columns\r\n",
    "X = iris.data\r\n",
    "y = iris.target"
   ],
   "outputs": [],
   "metadata": {}
  },
  {
   "cell_type": "code",
   "execution_count": 77,
   "source": [
    "# Split data into training and testing data\r\n",
    "X_train, X_test, y_train, y_test = train_test_split(\r\n",
    "    X, y, test_size=0.3, random_state=1, stratify=y\r\n",
    ")"
   ],
   "outputs": [],
   "metadata": {}
  },
  {
   "cell_type": "code",
   "execution_count": 78,
   "source": [
    "# Standardization\r\n",
    "sc = StandardScaler()\r\n",
    "sc.fit(X_train)\r\n",
    "X_train_std = sc.transform(X_train)\r\n",
    "X_test_std = sc.transform(X_test)"
   ],
   "outputs": [],
   "metadata": {}
  },
  {
   "cell_type": "code",
   "execution_count": 79,
   "source": [
    "paramSetAll = {\r\n",
    "    \"ex1\": {\"criterion\": \"gini\", \"max_depth\": None, \"min_samples_split\": 2},\r\n",
    "    \"ex2\": {\"criterion\": \"gini\",\r\n",
    "            \"max_depth\": None,\r\n",
    "            \"min_samples_split\": 2, \r\n",
    "            \"random_state\":2,\r\n",
    "            \"splitter\":\"random\",\r\n",
    "            \"min_samples_leaf\":1},\r\n",
    "    \"ex3\": {\"criterion\": \"gini\", \"max_depth\": None, \"min_samples_split\": 2},\r\n",
    "\r\n",
    "}"
   ],
   "outputs": [],
   "metadata": {}
  },
  {
   "cell_type": "code",
   "execution_count": 80,
   "source": [
    "#cl = list(range(1,5))\r\n",
    "#ca = [ f'ex{i}' for i in cl]\r\n",
    "#paramSet = { k: paramSetAll[k] for k in ca} \r\n",
    "paramSet = paramSetAll\r\n",
    "print(paramSet)"
   ],
   "outputs": [
    {
     "output_type": "stream",
     "name": "stdout",
     "text": [
      "{'ex1': {'criterion': 'gini', 'max_depth': None, 'min_samples_split': 2}, 'ex2': {'criterion': 'gini', 'max_depth': None, 'min_samples_split': 2, 'random_state': 2, 'splitter': 'random', 'min_samples_leaf': 1}, 'ex3': {'criterion': 'gini', 'max_depth': None, 'min_samples_split': 2}}\n"
     ]
    }
   ],
   "metadata": {}
  },
  {
   "cell_type": "code",
   "execution_count": 81,
   "source": [
    "for ex, paramValue in paramSet.items():\r\n",
    "    # Create object\r\n",
    "    clf = DecisionTreeClassifier(**paramValue)\r\n",
    "    # Training\r\n",
    "    clf.fit(X_train_std, y_train)\r\n",
    "    # Prediction\r\n",
    "    y_pred = clf.predict(X_test_std)\r\n",
    "    # Misclassification from the test samples\r\n",
    "    sumMiss = (y_test != y_pred).sum()\r\n",
    "    # Accuracy score from the test samples\r\n",
    "    accuracyScore = accuracy_score(y_test, y_pred)\r\n",
    "    print(f\"Misclassified examples: {sumMiss}\")\r\n",
    "    print(f\"Accuracy score: {accuracyScore}\")\r\n",
    "    print(\"-------------------------------------\")"
   ],
   "outputs": [
    {
     "output_type": "stream",
     "name": "stdout",
     "text": [
      "Misclassified examples: 1\n",
      "Accuracy score: 0.9777777777777777\n",
      "-------------------------------------\n",
      "Misclassified examples: 1\n",
      "Accuracy score: 0.9777777777777777\n",
      "-------------------------------------\n",
      "Misclassified examples: 1\n",
      "Accuracy score: 0.9777777777777777\n",
      "-------------------------------------\n"
     ]
    }
   ],
   "metadata": {}
  }
 ],
 "metadata": {
  "orig_nbformat": 4,
  "language_info": {
   "name": "python",
   "version": "3.8.8",
   "mimetype": "text/x-python",
   "codemirror_mode": {
    "name": "ipython",
    "version": 3
   },
   "pygments_lexer": "ipython3",
   "nbconvert_exporter": "python",
   "file_extension": ".py"
  },
  "kernelspec": {
   "name": "python3",
   "display_name": "Python 3.8.8 64-bit ('base': conda)"
  },
  "interpreter": {
   "hash": "be725e0de8fb3f5fda9b0118bdf797fa9814e28e467c1cce77c5b9910d8a1786"
  }
 },
 "nbformat": 4,
 "nbformat_minor": 2
}