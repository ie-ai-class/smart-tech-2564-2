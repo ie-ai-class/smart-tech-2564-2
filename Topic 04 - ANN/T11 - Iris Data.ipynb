{
 "cells": [
  {
   "cell_type": "markdown",
   "metadata": {},
   "source": [
    "# Iris dataset"
   ]
  },
  {
   "cell_type": "code",
   "execution_count": 63,
   "metadata": {},
   "outputs": [],
   "source": [
    "import tensorflow as tf\n",
    "from sklearn import datasets\n",
    "from sklearn.model_selection import train_test_split\n",
    "from sklearn.preprocessing import StandardScaler\n",
    "import matplotlib.pyplot as plt"
   ]
  },
  {
   "cell_type": "code",
   "execution_count": 64,
   "metadata": {},
   "outputs": [],
   "source": [
    "# Read data\n",
    "iris = datasets.load_iris()\n",
    "\n",
    "X = iris.data\n",
    "y = iris.target\n",
    "# Split data into training and testing data\n",
    "X_train, X_test, y_train, y_test = train_test_split(\n",
    "    X, y, test_size=0.3, random_state=1, stratify=y\n",
    ")\n",
    "# Standardization\n",
    "sc = StandardScaler()\n",
    "sc.fit(X_train)\n",
    "#X_train_std = sc.transform(X_train)\n",
    "#X_test_std = sc.transform(X_test)\n",
    "\n",
    "X_train_std = X_train\n",
    "X_test_std = X_test"
   ]
  },
  {
   "cell_type": "code",
   "execution_count": 65,
   "metadata": {},
   "outputs": [
    {
     "name": "stdout",
     "output_type": "stream",
     "text": [
      "Model: \"sequential\"\n",
      "_________________________________________________________________\n",
      "Layer (type)                 Output Shape              Param #   \n",
      "=================================================================\n",
      "hidden1 (Dense)              (None, 16)                80        \n",
      "_________________________________________________________________\n",
      "output (Dense)               (None, 3)                 51        \n",
      "=================================================================\n",
      "Total params: 131\n",
      "Trainable params: 131\n",
      "Non-trainable params: 0\n",
      "_________________________________________________________________\n"
     ]
    }
   ],
   "source": [
    "tf.keras.backend.clear_session()\n",
    "\n",
    "model = tf.keras.Sequential([\n",
    "    tf.keras.layers.InputLayer(input_shape=(4,)),\n",
    "    tf.keras.layers.Dense(units=16, activation='sigmoid', name='hidden1'),\n",
    "    tf.keras.layers.Dense(units=3, name='output', activation='softmax')\n",
    "    ])\n",
    "\n",
    "model.summary()\n",
    "\n",
    "model.compile(\n",
    "    optimizer='adam',\n",
    "    loss='sparse_categorical_crossentropy',\n",
    "    metrics=['accuracy'])"
   ]
  },
  {
   "cell_type": "code",
   "execution_count": 66,
   "metadata": {},
   "outputs": [
    {
     "name": "stdout",
     "output_type": "stream",
     "text": [
      "Epoch 1/100\n",
      "6/6 [==============================] - 0s 27ms/step - loss: 1.1957 - accuracy: 0.2979 - val_loss: 1.1586 - val_accuracy: 0.6364\n",
      "Epoch 2/100\n",
      "6/6 [==============================] - 0s 5ms/step - loss: 1.1690 - accuracy: 0.3085 - val_loss: 1.1554 - val_accuracy: 0.6364\n",
      "Epoch 3/100\n",
      "6/6 [==============================] - 0s 4ms/step - loss: 1.1493 - accuracy: 0.3936 - val_loss: 1.1572 - val_accuracy: 0.5455\n",
      "Epoch 4/100\n",
      "6/6 [==============================] - 0s 5ms/step - loss: 1.1284 - accuracy: 0.4362 - val_loss: 1.1519 - val_accuracy: 0.0909\n",
      "Epoch 5/100\n",
      "6/6 [==============================] - 0s 5ms/step - loss: 1.1146 - accuracy: 0.3404 - val_loss: 1.1529 - val_accuracy: 0.0909\n",
      "Epoch 6/100\n",
      "6/6 [==============================] - 0s 5ms/step - loss: 1.0977 - accuracy: 0.3617 - val_loss: 1.1512 - val_accuracy: 0.0909\n",
      "Epoch 7/100\n",
      "6/6 [==============================] - 0s 5ms/step - loss: 1.0869 - accuracy: 0.3617 - val_loss: 1.1499 - val_accuracy: 0.0909\n",
      "Epoch 8/100\n",
      "6/6 [==============================] - 0s 5ms/step - loss: 1.0760 - accuracy: 0.3617 - val_loss: 1.1475 - val_accuracy: 0.0909\n",
      "Epoch 9/100\n",
      "6/6 [==============================] - 0s 5ms/step - loss: 1.0665 - accuracy: 0.3617 - val_loss: 1.1422 - val_accuracy: 0.0909\n",
      "Epoch 10/100\n",
      "6/6 [==============================] - 0s 5ms/step - loss: 1.0566 - accuracy: 0.3617 - val_loss: 1.1373 - val_accuracy: 0.0909\n",
      "Epoch 11/100\n",
      "6/6 [==============================] - 0s 4ms/step - loss: 1.0466 - accuracy: 0.3617 - val_loss: 1.1310 - val_accuracy: 0.0909\n",
      "Epoch 12/100\n",
      "6/6 [==============================] - 0s 5ms/step - loss: 1.0367 - accuracy: 0.3617 - val_loss: 1.1199 - val_accuracy: 0.0909\n",
      "Epoch 13/100\n",
      "6/6 [==============================] - 0s 4ms/step - loss: 1.0282 - accuracy: 0.3617 - val_loss: 1.1068 - val_accuracy: 0.0909\n",
      "Epoch 14/100\n",
      "6/6 [==============================] - 0s 5ms/step - loss: 1.0182 - accuracy: 0.3723 - val_loss: 1.1021 - val_accuracy: 0.0909\n",
      "Epoch 15/100\n",
      "6/6 [==============================] - 0s 4ms/step - loss: 1.0085 - accuracy: 0.3617 - val_loss: 1.0903 - val_accuracy: 0.0909\n",
      "Epoch 16/100\n",
      "6/6 [==============================] - 0s 4ms/step - loss: 0.9993 - accuracy: 0.3617 - val_loss: 1.0781 - val_accuracy: 0.0909\n",
      "Epoch 17/100\n",
      "6/6 [==============================] - 0s 5ms/step - loss: 0.9898 - accuracy: 0.3617 - val_loss: 1.0665 - val_accuracy: 0.0909\n",
      "Epoch 18/100\n",
      "6/6 [==============================] - 0s 5ms/step - loss: 0.9805 - accuracy: 0.3617 - val_loss: 1.0520 - val_accuracy: 0.0909\n",
      "Epoch 19/100\n",
      "6/6 [==============================] - 0s 5ms/step - loss: 0.9718 - accuracy: 0.3617 - val_loss: 1.0373 - val_accuracy: 0.0909\n",
      "Epoch 20/100\n",
      "6/6 [==============================] - 0s 5ms/step - loss: 0.9619 - accuracy: 0.3617 - val_loss: 1.0235 - val_accuracy: 0.1818\n",
      "Epoch 21/100\n",
      "6/6 [==============================] - 0s 5ms/step - loss: 0.9526 - accuracy: 0.3936 - val_loss: 1.0114 - val_accuracy: 0.1818\n",
      "Epoch 22/100\n",
      "6/6 [==============================] - 0s 5ms/step - loss: 0.9436 - accuracy: 0.3936 - val_loss: 1.0016 - val_accuracy: 0.1818\n",
      "Epoch 23/100\n",
      "6/6 [==============================] - 0s 5ms/step - loss: 0.9348 - accuracy: 0.4894 - val_loss: 0.9876 - val_accuracy: 0.3636\n",
      "Epoch 24/100\n",
      "6/6 [==============================] - 0s 5ms/step - loss: 0.9257 - accuracy: 0.5957 - val_loss: 0.9748 - val_accuracy: 0.4545\n",
      "Epoch 25/100\n",
      "6/6 [==============================] - 0s 4ms/step - loss: 0.9165 - accuracy: 0.6383 - val_loss: 0.9609 - val_accuracy: 0.6364\n",
      "Epoch 26/100\n",
      "6/6 [==============================] - 0s 5ms/step - loss: 0.9090 - accuracy: 0.6809 - val_loss: 0.9404 - val_accuracy: 0.6364\n",
      "Epoch 27/100\n",
      "6/6 [==============================] - 0s 5ms/step - loss: 0.8983 - accuracy: 0.6809 - val_loss: 0.9280 - val_accuracy: 0.6364\n",
      "Epoch 28/100\n",
      "6/6 [==============================] - 0s 5ms/step - loss: 0.8895 - accuracy: 0.6809 - val_loss: 0.9164 - val_accuracy: 0.7273\n",
      "Epoch 29/100\n",
      "6/6 [==============================] - 0s 5ms/step - loss: 0.8806 - accuracy: 0.6809 - val_loss: 0.9040 - val_accuracy: 0.7273\n",
      "Epoch 30/100\n",
      "6/6 [==============================] - 0s 5ms/step - loss: 0.8723 - accuracy: 0.6915 - val_loss: 0.8877 - val_accuracy: 0.7273\n",
      "Epoch 31/100\n",
      "6/6 [==============================] - 0s 4ms/step - loss: 0.8632 - accuracy: 0.6915 - val_loss: 0.8730 - val_accuracy: 0.7273\n",
      "Epoch 32/100\n",
      "6/6 [==============================] - 0s 4ms/step - loss: 0.8545 - accuracy: 0.6915 - val_loss: 0.8585 - val_accuracy: 0.7273\n",
      "Epoch 33/100\n",
      "6/6 [==============================] - 0s 5ms/step - loss: 0.8455 - accuracy: 0.6915 - val_loss: 0.8442 - val_accuracy: 0.7273\n",
      "Epoch 34/100\n",
      "6/6 [==============================] - 0s 4ms/step - loss: 0.8367 - accuracy: 0.6915 - val_loss: 0.8306 - val_accuracy: 0.7273\n",
      "Epoch 35/100\n",
      "6/6 [==============================] - 0s 5ms/step - loss: 0.8292 - accuracy: 0.6915 - val_loss: 0.8126 - val_accuracy: 0.7273\n",
      "Epoch 36/100\n",
      "6/6 [==============================] - 0s 4ms/step - loss: 0.8198 - accuracy: 0.6915 - val_loss: 0.8006 - val_accuracy: 0.7273\n",
      "Epoch 37/100\n",
      "6/6 [==============================] - 0s 4ms/step - loss: 0.8108 - accuracy: 0.6915 - val_loss: 0.7873 - val_accuracy: 0.7273\n",
      "Epoch 38/100\n",
      "6/6 [==============================] - 0s 4ms/step - loss: 0.8022 - accuracy: 0.6915 - val_loss: 0.7749 - val_accuracy: 0.7273\n",
      "Epoch 39/100\n",
      "6/6 [==============================] - 0s 5ms/step - loss: 0.7937 - accuracy: 0.6915 - val_loss: 0.7633 - val_accuracy: 0.7273\n",
      "Epoch 40/100\n",
      "6/6 [==============================] - 0s 5ms/step - loss: 0.7854 - accuracy: 0.6915 - val_loss: 0.7518 - val_accuracy: 0.7273\n",
      "Epoch 41/100\n",
      "6/6 [==============================] - ETA: 0s - loss: 0.7648 - accuracy: 0.81 - 0s 5ms/step - loss: 0.7769 - accuracy: 0.6915 - val_loss: 0.7393 - val_accuracy: 0.7273\n",
      "Epoch 42/100\n",
      "6/6 [==============================] - 0s 5ms/step - loss: 0.7686 - accuracy: 0.7021 - val_loss: 0.7269 - val_accuracy: 0.7273\n",
      "Epoch 43/100\n",
      "6/6 [==============================] - 0s 5ms/step - loss: 0.7608 - accuracy: 0.7021 - val_loss: 0.7125 - val_accuracy: 0.7273\n",
      "Epoch 44/100\n",
      "6/6 [==============================] - 0s 5ms/step - loss: 0.7528 - accuracy: 0.7128 - val_loss: 0.6999 - val_accuracy: 0.7273\n",
      "Epoch 45/100\n",
      "6/6 [==============================] - 0s 5ms/step - loss: 0.7454 - accuracy: 0.7340 - val_loss: 0.6886 - val_accuracy: 0.7273\n",
      "Epoch 46/100\n",
      "6/6 [==============================] - 0s 4ms/step - loss: 0.7373 - accuracy: 0.7234 - val_loss: 0.6760 - val_accuracy: 0.7273\n",
      "Epoch 47/100\n",
      "6/6 [==============================] - 0s 4ms/step - loss: 0.7291 - accuracy: 0.7447 - val_loss: 0.6677 - val_accuracy: 0.7273\n",
      "Epoch 48/100\n",
      "6/6 [==============================] - 0s 5ms/step - loss: 0.7218 - accuracy: 0.7340 - val_loss: 0.6585 - val_accuracy: 0.7273\n",
      "Epoch 49/100\n",
      "6/6 [==============================] - 0s 5ms/step - loss: 0.7145 - accuracy: 0.7447 - val_loss: 0.6499 - val_accuracy: 0.8182\n",
      "Epoch 50/100\n",
      "6/6 [==============================] - 0s 5ms/step - loss: 0.7075 - accuracy: 0.7447 - val_loss: 0.6385 - val_accuracy: 0.8182\n",
      "Epoch 51/100\n",
      "6/6 [==============================] - 0s 5ms/step - loss: 0.7009 - accuracy: 0.7766 - val_loss: 0.6255 - val_accuracy: 0.8182\n",
      "Epoch 52/100\n",
      "6/6 [==============================] - 0s 5ms/step - loss: 0.6936 - accuracy: 0.7766 - val_loss: 0.6175 - val_accuracy: 0.8182\n",
      "Epoch 53/100\n",
      "6/6 [==============================] - 0s 5ms/step - loss: 0.6870 - accuracy: 0.7979 - val_loss: 0.6093 - val_accuracy: 0.8182\n",
      "Epoch 54/100\n",
      "6/6 [==============================] - 0s 4ms/step - loss: 0.6807 - accuracy: 0.7766 - val_loss: 0.6000 - val_accuracy: 0.8182\n",
      "Epoch 55/100\n",
      "6/6 [==============================] - 0s 5ms/step - loss: 0.6742 - accuracy: 0.7979 - val_loss: 0.5925 - val_accuracy: 0.8182\n",
      "Epoch 56/100\n",
      "6/6 [==============================] - 0s 4ms/step - loss: 0.6689 - accuracy: 0.7660 - val_loss: 0.5830 - val_accuracy: 0.8182\n",
      "Epoch 57/100\n",
      "6/6 [==============================] - 0s 5ms/step - loss: 0.6622 - accuracy: 0.7660 - val_loss: 0.5746 - val_accuracy: 0.8182\n",
      "Epoch 58/100\n",
      "6/6 [==============================] - 0s 5ms/step - loss: 0.6565 - accuracy: 0.8191 - val_loss: 0.5659 - val_accuracy: 0.8182\n",
      "Epoch 59/100\n",
      "6/6 [==============================] - 0s 4ms/step - loss: 0.6507 - accuracy: 0.8404 - val_loss: 0.5593 - val_accuracy: 0.8182\n",
      "Epoch 60/100\n",
      "6/6 [==============================] - 0s 4ms/step - loss: 0.6451 - accuracy: 0.8404 - val_loss: 0.5526 - val_accuracy: 0.8182\n",
      "Epoch 61/100\n",
      "6/6 [==============================] - 0s 4ms/step - loss: 0.6396 - accuracy: 0.8404 - val_loss: 0.5464 - val_accuracy: 0.8182\n",
      "Epoch 62/100\n",
      "6/6 [==============================] - 0s 5ms/step - loss: 0.6343 - accuracy: 0.8404 - val_loss: 0.5397 - val_accuracy: 0.8182\n",
      "Epoch 63/100\n",
      "6/6 [==============================] - 0s 5ms/step - loss: 0.6292 - accuracy: 0.8404 - val_loss: 0.5315 - val_accuracy: 0.8182\n",
      "Epoch 64/100\n",
      "6/6 [==============================] - 0s 4ms/step - loss: 0.6241 - accuracy: 0.8404 - val_loss: 0.5254 - val_accuracy: 0.8182\n",
      "Epoch 65/100\n",
      "6/6 [==============================] - 0s 5ms/step - loss: 0.6191 - accuracy: 0.8511 - val_loss: 0.5196 - val_accuracy: 0.8182\n",
      "Epoch 66/100\n",
      "6/6 [==============================] - 0s 4ms/step - loss: 0.6148 - accuracy: 0.8404 - val_loss: 0.5144 - val_accuracy: 0.8182\n",
      "Epoch 67/100\n",
      "6/6 [==============================] - 0s 5ms/step - loss: 0.6097 - accuracy: 0.8511 - val_loss: 0.5080 - val_accuracy: 0.8182\n",
      "Epoch 68/100\n",
      "6/6 [==============================] - 0s 5ms/step - loss: 0.6054 - accuracy: 0.8511 - val_loss: 0.5032 - val_accuracy: 0.8182\n",
      "Epoch 69/100\n",
      "6/6 [==============================] - 0s 5ms/step - loss: 0.6009 - accuracy: 0.8511 - val_loss: 0.4965 - val_accuracy: 0.8182\n",
      "Epoch 70/100\n",
      "6/6 [==============================] - 0s 4ms/step - loss: 0.5971 - accuracy: 0.8617 - val_loss: 0.4889 - val_accuracy: 0.8182\n",
      "Epoch 71/100\n",
      "6/6 [==============================] - 0s 4ms/step - loss: 0.5930 - accuracy: 0.8723 - val_loss: 0.4842 - val_accuracy: 0.8182\n",
      "Epoch 72/100\n",
      "6/6 [==============================] - 0s 5ms/step - loss: 0.5884 - accuracy: 0.8723 - val_loss: 0.4772 - val_accuracy: 0.9091\n",
      "Epoch 73/100\n",
      "6/6 [==============================] - 0s 5ms/step - loss: 0.5842 - accuracy: 0.8830 - val_loss: 0.4731 - val_accuracy: 0.9091\n",
      "Epoch 74/100\n",
      "6/6 [==============================] - 0s 5ms/step - loss: 0.5810 - accuracy: 0.8723 - val_loss: 0.4696 - val_accuracy: 0.8182\n",
      "Epoch 75/100\n",
      "6/6 [==============================] - 0s 5ms/step - loss: 0.5765 - accuracy: 0.8723 - val_loss: 0.4647 - val_accuracy: 0.8182\n",
      "Epoch 76/100\n",
      "6/6 [==============================] - 0s 4ms/step - loss: 0.5729 - accuracy: 0.8723 - val_loss: 0.4592 - val_accuracy: 0.9091\n",
      "Epoch 77/100\n",
      "6/6 [==============================] - 0s 4ms/step - loss: 0.5693 - accuracy: 0.8723 - val_loss: 0.4567 - val_accuracy: 0.9091\n",
      "Epoch 78/100\n",
      "6/6 [==============================] - 0s 4ms/step - loss: 0.5657 - accuracy: 0.8830 - val_loss: 0.4516 - val_accuracy: 0.9091\n",
      "Epoch 79/100\n",
      "6/6 [==============================] - 0s 5ms/step - loss: 0.5620 - accuracy: 0.8830 - val_loss: 0.4467 - val_accuracy: 0.9091\n",
      "Epoch 80/100\n",
      "6/6 [==============================] - 0s 4ms/step - loss: 0.5587 - accuracy: 0.8936 - val_loss: 0.4413 - val_accuracy: 0.9091\n",
      "Epoch 81/100\n",
      "6/6 [==============================] - 0s 4ms/step - loss: 0.5553 - accuracy: 0.9255 - val_loss: 0.4370 - val_accuracy: 0.9091\n",
      "Epoch 82/100\n",
      "6/6 [==============================] - 0s 4ms/step - loss: 0.5520 - accuracy: 0.9468 - val_loss: 0.4332 - val_accuracy: 0.9091\n",
      "Epoch 83/100\n",
      "6/6 [==============================] - 0s 4ms/step - loss: 0.5489 - accuracy: 0.9468 - val_loss: 0.4288 - val_accuracy: 0.9091\n",
      "Epoch 84/100\n",
      "6/6 [==============================] - 0s 4ms/step - loss: 0.5457 - accuracy: 0.9255 - val_loss: 0.4249 - val_accuracy: 0.9091\n",
      "Epoch 85/100\n",
      "6/6 [==============================] - 0s 4ms/step - loss: 0.5430 - accuracy: 0.9043 - val_loss: 0.4234 - val_accuracy: 0.9091\n",
      "Epoch 86/100\n",
      "6/6 [==============================] - 0s 5ms/step - loss: 0.5394 - accuracy: 0.8830 - val_loss: 0.4202 - val_accuracy: 0.9091\n",
      "Epoch 87/100\n",
      "6/6 [==============================] - 0s 5ms/step - loss: 0.5366 - accuracy: 0.8830 - val_loss: 0.4168 - val_accuracy: 0.9091\n",
      "Epoch 88/100\n",
      "6/6 [==============================] - 0s 4ms/step - loss: 0.5335 - accuracy: 0.8830 - val_loss: 0.4135 - val_accuracy: 0.9091\n",
      "Epoch 89/100\n",
      "6/6 [==============================] - 0s 4ms/step - loss: 0.5309 - accuracy: 0.9362 - val_loss: 0.4103 - val_accuracy: 0.9091\n",
      "Epoch 90/100\n",
      "6/6 [==============================] - 0s 53ms/step - loss: 0.5280 - accuracy: 0.9362 - val_loss: 0.4072 - val_accuracy: 0.9091\n",
      "Epoch 91/100\n",
      "6/6 [==============================] - 0s 5ms/step - loss: 0.5252 - accuracy: 0.9362 - val_loss: 0.4051 - val_accuracy: 0.9091\n",
      "Epoch 92/100\n",
      "6/6 [==============================] - 0s 5ms/step - loss: 0.5225 - accuracy: 0.9043 - val_loss: 0.4025 - val_accuracy: 0.9091\n",
      "Epoch 93/100\n",
      "6/6 [==============================] - 0s 5ms/step - loss: 0.5197 - accuracy: 0.9149 - val_loss: 0.3982 - val_accuracy: 0.9091\n",
      "Epoch 94/100\n",
      "6/6 [==============================] - 0s 5ms/step - loss: 0.5169 - accuracy: 0.9362 - val_loss: 0.3955 - val_accuracy: 0.9091\n",
      "Epoch 95/100\n",
      "6/6 [==============================] - 0s 4ms/step - loss: 0.5143 - accuracy: 0.9362 - val_loss: 0.3925 - val_accuracy: 0.9091\n",
      "Epoch 96/100\n",
      "6/6 [==============================] - 0s 5ms/step - loss: 0.5116 - accuracy: 0.9468 - val_loss: 0.3894 - val_accuracy: 0.9091\n",
      "Epoch 97/100\n",
      "6/6 [==============================] - 0s 4ms/step - loss: 0.5094 - accuracy: 0.9468 - val_loss: 0.3872 - val_accuracy: 0.9091\n",
      "Epoch 98/100\n",
      "6/6 [==============================] - 0s 5ms/step - loss: 0.5065 - accuracy: 0.9468 - val_loss: 0.3839 - val_accuracy: 0.9091\n",
      "Epoch 99/100\n",
      "6/6 [==============================] - 0s 4ms/step - loss: 0.5044 - accuracy: 0.9468 - val_loss: 0.3799 - val_accuracy: 0.9091\n",
      "Epoch 100/100\n",
      "6/6 [==============================] - 0s 4ms/step - loss: 0.5018 - accuracy: 0.9574 - val_loss: 0.3781 - val_accuracy: 0.9091\n"
     ]
    }
   ],
   "source": [
    "tf_fit = model.fit(x=X_train, y=y_train,\n",
    "        batch_size=16,\n",
    "        validation_split=0.1,\n",
    "        epochs=100, \n",
    "        verbose=1)"
   ]
  },
  {
   "cell_type": "code",
   "execution_count": 67,
   "metadata": {},
   "outputs": [
    {
     "name": "stdout",
     "output_type": "stream",
     "text": [
      "loss                : ['0.51', '0.51', '0.51', '0.51', '0.50', '0.50']\n",
      "accuracy            : ['0.94', '0.95', '0.95', '0.95', '0.95', '0.96']\n",
      "val_loss            : ['0.39', '0.39', '0.39', '0.38', '0.38', '0.38']\n",
      "val_accuracy        : ['0.91', '0.91', '0.91', '0.91', '0.91', '0.91']\n"
     ]
    }
   ],
   "source": [
    "for key, val in tf_fit.history.items():\n",
    "    print( f'{key:20s}: {[ f\"{i:3.2f}\" for i in val[-6:]]}')"
   ]
  },
  {
   "cell_type": "code",
   "execution_count": 68,
   "metadata": {},
   "outputs": [
    {
     "data": {
      "text/plain": [
       "<matplotlib.legend.Legend at 0x271eac6e730>"
      ]
     },
     "execution_count": 68,
     "metadata": {},
     "output_type": "execute_result"
    },
    {
     "data": {
      "image/png": "[encoded data removed]",
      "text/plain": [
       "<Figure size 864x360 with 2 Axes>"
      ]
     },
     "metadata": {
      "needs_background": "light"
     },
     "output_type": "display_data"
    }
   ],
   "source": [
    "hist = tf_fit.history\n",
    "\n",
    "fig = plt.figure(figsize=(12, 5))\n",
    "ax = fig.add_subplot(1, 2, 1)\n",
    "ax.plot(hist['loss'], lw=3)\n",
    "ax.plot(hist['val_loss'], lw=3)\n",
    "ax.set_title('Training loss', size=15)\n",
    "ax.set_xlabel('Epoch', size=15)\n",
    "ax.tick_params(axis='both', which='major', labelsize=15)\n",
    "ax.legend(['train','val'])\n",
    "\n",
    "ax = fig.add_subplot(1, 2, 2)\n",
    "ax.plot(hist['accuracy'], lw=3)\n",
    "ax.plot(hist['val_accuracy'], lw=3)\n",
    "ax.set_title('Training accuracy', size=15)\n",
    "ax.set_xlabel('Epoch', size=15)\n",
    "ax.tick_params(axis='both', which='major', labelsize=15)\n",
    "plt.tight_layout()\n",
    "ax.legend(['train','val'])"
   ]
  },
  {
   "cell_type": "code",
   "execution_count": 69,
   "metadata": {},
   "outputs": [
    {
     "name": "stdout",
     "output_type": "stream",
     "text": [
      "Test loss: 0.4920   Test Acc.: 0.9778\n"
     ]
    }
   ],
   "source": [
    "results = model.evaluate(X_test, y_test, verbose=0)\n",
    "print(f'Test loss: {results[0]:.4f}   Test Acc.: {results[1]:.4f}')"
   ]
  },
  {
   "cell_type": "code",
   "execution_count": 70,
   "metadata": {},
   "outputs": [
    {
     "name": "stdout",
     "output_type": "stream",
     "text": [
      "[[0.04991708 0.38259664 0.5674863 ]\n",
      " [0.8522245  0.12679608 0.02097938]\n",
      " [0.8448428  0.13303894 0.02211832]]\n"
     ]
    }
   ],
   "source": [
    "y_hat = model(X_test[:3])\n",
    "print(y_hat.numpy())"
   ]
  },
  {
   "cell_type": "code",
   "execution_count": 71,
   "metadata": {},
   "outputs": [
    {
     "data": {
      "image/png": "[encoded data removed]",
      "text/plain": [
       "<Figure size 432x288 with 1 Axes>"
      ]
     },
     "metadata": {
      "needs_background": "light"
     },
     "output_type": "display_data"
    }
   ],
   "source": [
    "yp = y_hat.numpy()[0]\n",
    "xp = list(range(yp.shape[0]))\n",
    "plt.bar(xp, yp)\n",
    "plt.title('Softmax Values')\n",
    "plt.show()"
   ]
  }
 ],
 "metadata": {
  "interpreter": {
   "hash": "b4a387497f54fd22d04ab06f3cac2b317ccdf5aa3fbc31422dd91bb954740c85"
  },
  "kernelspec": {
   "display_name": "Python 3.8.0 64-bit ('tf': conda)",
   "name": "python3"
  },
  "language_info": {
   "codemirror_mode": {
    "name": "ipython",
    "version": 3
   },
   "file_extension": ".py",
   "mimetype": "text/x-python",
   "name": "python",
   "nbconvert_exporter": "python",
   "pygments_lexer": "ipython3",
   "version": "3.9.7"
  },
  "orig_nbformat": 4
 },
 "nbformat": 4,
 "nbformat_minor": 2
}
