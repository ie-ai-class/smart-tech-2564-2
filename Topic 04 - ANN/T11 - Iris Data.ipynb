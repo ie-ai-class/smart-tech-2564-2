{
 "cells": [
  {
   "cell_type": "markdown",
   "metadata": {},
   "source": [
    "# Iris dataset"
   ]
  },
  {
   "cell_type": "code",
   "execution_count": 1,
   "metadata": {},
   "outputs": [],
   "source": [
    "import tensorflow as tf\n",
    "from sklearn import datasets\n",
    "from sklearn.model_selection import train_test_split\n",
    "from sklearn.preprocessing import StandardScaler\n",
    "import matplotlib.pyplot as plt"
   ]
  },
  {
   "cell_type": "code",
   "execution_count": 2,
   "metadata": {},
   "outputs": [],
   "source": [
    "# Read data\n",
    "iris = datasets.load_iris()\n",
    "\n",
    "X = iris.data\n",
    "y = iris.target\n",
    "# Split data into training and testing data\n",
    "X_train, X_test, y_train, y_test = train_test_split(\n",
    "    X, y, test_size=0.3, random_state=1, stratify=y\n",
    ")\n",
    "# Standardization\n",
    "sc = StandardScaler()\n",
    "sc.fit(X_train)\n",
    "#X_train_std = sc.transform(X_train)\n",
    "#X_test_std = sc.transform(X_test)\n",
    "\n",
    "X_train_std = X_train\n",
    "X_test_std = X_test"
   ]
  },
  {
   "cell_type": "code",
   "execution_count": 3,
   "metadata": {},
   "outputs": [
    {
     "name": "stdout",
     "output_type": "stream",
     "text": [
      "Model: \"sequential\"\n",
      "_________________________________________________________________\n",
      "Layer (type)                 Output Shape              Param #   \n",
      "=================================================================\n",
      "hidden1 (Dense)              (None, 16)                80        \n",
      "_________________________________________________________________\n",
      "output (Dense)               (None, 3)                 51        \n",
      "=================================================================\n",
      "Total params: 131\n",
      "Trainable params: 131\n",
      "Non-trainable params: 0\n",
      "_________________________________________________________________\n"
     ]
    }
   ],
   "source": [
    "tf.keras.backend.clear_session()\n",
    "\n",
    "model = tf.keras.Sequential([\n",
    "    tf.keras.layers.InputLayer(input_shape=(4,)),\n",
    "    tf.keras.layers.Dense(units=16, activation='sigmoid', name='hidden1'),\n",
    "    tf.keras.layers.Dense(units=3, name='output', activation='softmax')\n",
    "    ])\n",
    "\n",
    "model.summary()\n",
    "\n",
    "model.compile(\n",
    "    optimizer='adam',\n",
    "    loss='sparse_categorical_crossentropy',\n",
    "    metrics=['accuracy'])"
   ]
  },
  {
   "cell_type": "code",
   "execution_count": 4,
   "metadata": {},
   "outputs": [
    {
     "name": "stdout",
     "output_type": "stream",
     "text": [
      "Epoch 1/100\n",
      "6/6 [==============================] - 1s 57ms/step - loss: 1.0885 - accuracy: 0.4043 - val_loss: 0.8349 - val_accuracy: 0.8182\n",
      "Epoch 2/100\n",
      "6/6 [==============================] - 0s 14ms/step - loss: 1.0553 - accuracy: 0.4468 - val_loss: 0.8384 - val_accuracy: 0.9091\n",
      "Epoch 3/100\n",
      "6/6 [==============================] - 0s 13ms/step - loss: 1.0284 - accuracy: 0.5638 - val_loss: 0.8432 - val_accuracy: 0.9091\n",
      "Epoch 4/100\n",
      "6/6 [==============================] - 0s 13ms/step - loss: 1.0037 - accuracy: 0.6277 - val_loss: 0.8510 - val_accuracy: 0.9091\n",
      "Epoch 5/100\n",
      "6/6 [==============================] - 0s 6ms/step - loss: 0.9819 - accuracy: 0.6383 - val_loss: 0.8554 - val_accuracy: 0.9091\n",
      "Epoch 6/100\n",
      "6/6 [==============================] - 0s 5ms/step - loss: 0.9660 - accuracy: 0.6383 - val_loss: 0.8598 - val_accuracy: 0.9091\n",
      "Epoch 7/100\n",
      "6/6 [==============================] - 0s 5ms/step - loss: 0.9527 - accuracy: 0.6383 - val_loss: 0.8638 - val_accuracy: 0.9091\n",
      "Epoch 8/100\n",
      "6/6 [==============================] - 0s 5ms/step - loss: 0.9392 - accuracy: 0.6489 - val_loss: 0.8662 - val_accuracy: 0.9091\n",
      "Epoch 9/100\n",
      "6/6 [==============================] - 0s 5ms/step - loss: 0.9274 - accuracy: 0.6809 - val_loss: 0.8644 - val_accuracy: 0.9091\n",
      "Epoch 10/100\n",
      "6/6 [==============================] - 0s 5ms/step - loss: 0.9168 - accuracy: 0.7447 - val_loss: 0.8599 - val_accuracy: 0.8182\n",
      "Epoch 11/100\n",
      "6/6 [==============================] - 0s 5ms/step - loss: 0.9073 - accuracy: 0.7128 - val_loss: 0.8558 - val_accuracy: 0.6364\n",
      "Epoch 12/100\n",
      "6/6 [==============================] - 0s 6ms/step - loss: 0.8975 - accuracy: 0.7234 - val_loss: 0.8470 - val_accuracy: 0.7273\n",
      "Epoch 13/100\n",
      "6/6 [==============================] - 0s 5ms/step - loss: 0.8889 - accuracy: 0.6702 - val_loss: 0.8401 - val_accuracy: 0.7273\n",
      "Epoch 14/100\n",
      "6/6 [==============================] - 0s 5ms/step - loss: 0.8797 - accuracy: 0.6702 - val_loss: 0.8285 - val_accuracy: 0.7273\n",
      "Epoch 15/100\n",
      "6/6 [==============================] - 0s 5ms/step - loss: 0.8711 - accuracy: 0.6702 - val_loss: 0.8180 - val_accuracy: 0.7273\n",
      "Epoch 16/100\n",
      "6/6 [==============================] - 0s 5ms/step - loss: 0.8626 - accuracy: 0.6702 - val_loss: 0.8076 - val_accuracy: 0.7273\n",
      "Epoch 17/100\n",
      "6/6 [==============================] - 0s 10ms/step - loss: 0.8540 - accuracy: 0.6596 - val_loss: 0.7981 - val_accuracy: 0.7273\n",
      "Epoch 18/100\n",
      "6/6 [==============================] - 0s 6ms/step - loss: 0.8456 - accuracy: 0.6596 - val_loss: 0.7849 - val_accuracy: 0.7273\n",
      "Epoch 19/100\n",
      "6/6 [==============================] - 0s 5ms/step - loss: 0.8372 - accuracy: 0.6596 - val_loss: 0.7736 - val_accuracy: 0.7273\n",
      "Epoch 20/100\n",
      "6/6 [==============================] - 0s 6ms/step - loss: 0.8289 - accuracy: 0.6596 - val_loss: 0.7643 - val_accuracy: 0.7273\n",
      "Epoch 21/100\n",
      "6/6 [==============================] - 0s 5ms/step - loss: 0.8212 - accuracy: 0.6596 - val_loss: 0.7521 - val_accuracy: 0.7273\n",
      "Epoch 22/100\n",
      "6/6 [==============================] - 0s 5ms/step - loss: 0.8129 - accuracy: 0.6596 - val_loss: 0.7408 - val_accuracy: 0.7273\n",
      "Epoch 23/100\n",
      "6/6 [==============================] - 0s 5ms/step - loss: 0.8048 - accuracy: 0.6596 - val_loss: 0.7308 - val_accuracy: 0.7273\n",
      "Epoch 24/100\n",
      "6/6 [==============================] - 0s 5ms/step - loss: 0.7973 - accuracy: 0.6596 - val_loss: 0.7195 - val_accuracy: 0.7273\n",
      "Epoch 25/100\n",
      "6/6 [==============================] - 0s 6ms/step - loss: 0.7891 - accuracy: 0.6702 - val_loss: 0.7101 - val_accuracy: 0.7273\n",
      "Epoch 26/100\n",
      "6/6 [==============================] - 0s 5ms/step - loss: 0.7820 - accuracy: 0.6596 - val_loss: 0.6991 - val_accuracy: 0.7273\n",
      "Epoch 27/100\n",
      "6/6 [==============================] - 0s 5ms/step - loss: 0.7740 - accuracy: 0.6596 - val_loss: 0.6928 - val_accuracy: 0.7273\n",
      "Epoch 28/100\n",
      "6/6 [==============================] - 0s 5ms/step - loss: 0.7667 - accuracy: 0.6596 - val_loss: 0.6819 - val_accuracy: 0.7273\n",
      "Epoch 29/100\n",
      "6/6 [==============================] - 0s 5ms/step - loss: 0.7593 - accuracy: 0.6702 - val_loss: 0.6735 - val_accuracy: 0.7273\n",
      "Epoch 30/100\n",
      "6/6 [==============================] - 0s 5ms/step - loss: 0.7523 - accuracy: 0.6702 - val_loss: 0.6603 - val_accuracy: 0.7273\n",
      "Epoch 31/100\n",
      "6/6 [==============================] - 0s 5ms/step - loss: 0.7453 - accuracy: 0.6702 - val_loss: 0.6509 - val_accuracy: 0.7273\n",
      "Epoch 32/100\n",
      "6/6 [==============================] - 0s 5ms/step - loss: 0.7380 - accuracy: 0.6702 - val_loss: 0.6418 - val_accuracy: 0.7273\n",
      "Epoch 33/100\n",
      "6/6 [==============================] - 0s 6ms/step - loss: 0.7311 - accuracy: 0.6809 - val_loss: 0.6324 - val_accuracy: 0.7273\n",
      "Epoch 34/100\n",
      "6/6 [==============================] - 0s 5ms/step - loss: 0.7244 - accuracy: 0.6809 - val_loss: 0.6224 - val_accuracy: 0.7273\n",
      "Epoch 35/100\n",
      "6/6 [==============================] - 0s 5ms/step - loss: 0.7179 - accuracy: 0.6915 - val_loss: 0.6129 - val_accuracy: 0.7273\n",
      "Epoch 36/100\n",
      "6/6 [==============================] - 0s 5ms/step - loss: 0.7115 - accuracy: 0.6915 - val_loss: 0.6042 - val_accuracy: 0.7273\n",
      "Epoch 37/100\n",
      "6/6 [==============================] - 0s 5ms/step - loss: 0.7051 - accuracy: 0.6915 - val_loss: 0.5958 - val_accuracy: 0.7273\n",
      "Epoch 38/100\n",
      "6/6 [==============================] - 0s 5ms/step - loss: 0.6991 - accuracy: 0.6915 - val_loss: 0.5899 - val_accuracy: 0.7273\n",
      "Epoch 39/100\n",
      "6/6 [==============================] - 0s 5ms/step - loss: 0.6928 - accuracy: 0.6915 - val_loss: 0.5817 - val_accuracy: 0.7273\n",
      "Epoch 40/100\n",
      "6/6 [==============================] - 0s 5ms/step - loss: 0.6869 - accuracy: 0.6915 - val_loss: 0.5721 - val_accuracy: 0.7273\n",
      "Epoch 41/100\n",
      "6/6 [==============================] - 0s 5ms/step - loss: 0.6809 - accuracy: 0.6915 - val_loss: 0.5644 - val_accuracy: 0.7273\n",
      "Epoch 42/100\n",
      "6/6 [==============================] - 0s 6ms/step - loss: 0.6752 - accuracy: 0.6915 - val_loss: 0.5582 - val_accuracy: 0.7273\n",
      "Epoch 43/100\n",
      "6/6 [==============================] - 0s 6ms/step - loss: 0.6694 - accuracy: 0.6915 - val_loss: 0.5512 - val_accuracy: 0.7273\n",
      "Epoch 44/100\n",
      "6/6 [==============================] - 0s 6ms/step - loss: 0.6638 - accuracy: 0.7021 - val_loss: 0.5456 - val_accuracy: 0.7273\n",
      "Epoch 45/100\n",
      "6/6 [==============================] - 0s 5ms/step - loss: 0.6586 - accuracy: 0.7021 - val_loss: 0.5385 - val_accuracy: 0.7273\n",
      "Epoch 46/100\n",
      "6/6 [==============================] - 0s 5ms/step - loss: 0.6538 - accuracy: 0.7340 - val_loss: 0.5310 - val_accuracy: 0.7273\n",
      "Epoch 47/100\n",
      "6/6 [==============================] - 0s 5ms/step - loss: 0.6481 - accuracy: 0.7447 - val_loss: 0.5247 - val_accuracy: 0.7273\n",
      "Epoch 48/100\n",
      "6/6 [==============================] - 0s 6ms/step - loss: 0.6437 - accuracy: 0.6915 - val_loss: 0.5199 - val_accuracy: 0.7273\n",
      "Epoch 49/100\n",
      "6/6 [==============================] - 0s 5ms/step - loss: 0.6383 - accuracy: 0.6915 - val_loss: 0.5115 - val_accuracy: 0.7273\n",
      "Epoch 50/100\n",
      "6/6 [==============================] - 0s 5ms/step - loss: 0.6336 - accuracy: 0.7447 - val_loss: 0.5056 - val_accuracy: 0.8182\n",
      "Epoch 51/100\n",
      "6/6 [==============================] - 0s 5ms/step - loss: 0.6286 - accuracy: 0.7872 - val_loss: 0.4996 - val_accuracy: 0.8182\n",
      "Epoch 52/100\n",
      "6/6 [==============================] - 0s 5ms/step - loss: 0.6237 - accuracy: 0.8298 - val_loss: 0.4953 - val_accuracy: 0.8182\n",
      "Epoch 53/100\n",
      "6/6 [==============================] - 0s 5ms/step - loss: 0.6193 - accuracy: 0.8085 - val_loss: 0.4902 - val_accuracy: 0.8182\n",
      "Epoch 54/100\n",
      "6/6 [==============================] - 0s 5ms/step - loss: 0.6148 - accuracy: 0.8085 - val_loss: 0.4846 - val_accuracy: 0.8182\n",
      "Epoch 55/100\n",
      "6/6 [==============================] - 0s 5ms/step - loss: 0.6106 - accuracy: 0.8191 - val_loss: 0.4783 - val_accuracy: 0.8182\n",
      "Epoch 56/100\n",
      "6/6 [==============================] - 0s 5ms/step - loss: 0.6066 - accuracy: 0.8617 - val_loss: 0.4706 - val_accuracy: 0.8182\n",
      "Epoch 57/100\n",
      "6/6 [==============================] - 0s 5ms/step - loss: 0.6018 - accuracy: 0.8617 - val_loss: 0.4665 - val_accuracy: 0.8182\n",
      "Epoch 58/100\n",
      "6/6 [==============================] - 0s 6ms/step - loss: 0.5978 - accuracy: 0.8617 - val_loss: 0.4632 - val_accuracy: 0.8182\n",
      "Epoch 59/100\n",
      "6/6 [==============================] - 0s 6ms/step - loss: 0.5938 - accuracy: 0.8298 - val_loss: 0.4588 - val_accuracy: 0.8182\n",
      "Epoch 60/100\n",
      "6/6 [==============================] - 0s 5ms/step - loss: 0.5898 - accuracy: 0.8191 - val_loss: 0.4537 - val_accuracy: 0.8182\n",
      "Epoch 61/100\n",
      "6/6 [==============================] - 0s 5ms/step - loss: 0.5860 - accuracy: 0.8617 - val_loss: 0.4470 - val_accuracy: 0.8182\n",
      "Epoch 62/100\n",
      "6/6 [==============================] - 0s 6ms/step - loss: 0.5825 - accuracy: 0.8617 - val_loss: 0.4441 - val_accuracy: 0.8182\n",
      "Epoch 63/100\n",
      "6/6 [==============================] - 0s 5ms/step - loss: 0.5782 - accuracy: 0.8617 - val_loss: 0.4398 - val_accuracy: 0.8182\n",
      "Epoch 64/100\n",
      "6/6 [==============================] - 0s 6ms/step - loss: 0.5747 - accuracy: 0.8617 - val_loss: 0.4355 - val_accuracy: 0.8182\n",
      "Epoch 65/100\n",
      "6/6 [==============================] - 0s 6ms/step - loss: 0.5717 - accuracy: 0.8617 - val_loss: 0.4292 - val_accuracy: 0.8182\n",
      "Epoch 66/100\n",
      "6/6 [==============================] - 0s 5ms/step - loss: 0.5676 - accuracy: 0.8723 - val_loss: 0.4255 - val_accuracy: 0.8182\n",
      "Epoch 67/100\n",
      "6/6 [==============================] - 0s 6ms/step - loss: 0.5636 - accuracy: 0.8723 - val_loss: 0.4217 - val_accuracy: 0.8182\n",
      "Epoch 68/100\n",
      "6/6 [==============================] - 0s 5ms/step - loss: 0.5608 - accuracy: 0.8830 - val_loss: 0.4166 - val_accuracy: 0.8182\n",
      "Epoch 69/100\n",
      "6/6 [==============================] - 0s 6ms/step - loss: 0.5567 - accuracy: 0.8830 - val_loss: 0.4140 - val_accuracy: 0.8182\n",
      "Epoch 70/100\n",
      "6/6 [==============================] - 0s 6ms/step - loss: 0.5533 - accuracy: 0.8723 - val_loss: 0.4107 - val_accuracy: 0.8182\n",
      "Epoch 71/100\n",
      "6/6 [==============================] - 0s 5ms/step - loss: 0.5501 - accuracy: 0.8617 - val_loss: 0.4066 - val_accuracy: 0.8182\n",
      "Epoch 72/100\n",
      "6/6 [==============================] - 0s 6ms/step - loss: 0.5470 - accuracy: 0.8617 - val_loss: 0.4021 - val_accuracy: 0.8182\n",
      "Epoch 73/100\n",
      "6/6 [==============================] - 0s 5ms/step - loss: 0.5435 - accuracy: 0.8723 - val_loss: 0.3980 - val_accuracy: 0.8182\n",
      "Epoch 74/100\n",
      "6/6 [==============================] - 0s 5ms/step - loss: 0.5402 - accuracy: 0.8723 - val_loss: 0.3942 - val_accuracy: 0.8182\n",
      "Epoch 75/100\n",
      "6/6 [==============================] - 0s 6ms/step - loss: 0.5372 - accuracy: 0.8830 - val_loss: 0.3913 - val_accuracy: 0.8182\n",
      "Epoch 76/100\n",
      "6/6 [==============================] - 0s 6ms/step - loss: 0.5341 - accuracy: 0.8830 - val_loss: 0.3882 - val_accuracy: 0.8182\n",
      "Epoch 77/100\n",
      "6/6 [==============================] - 0s 6ms/step - loss: 0.5310 - accuracy: 0.8936 - val_loss: 0.3832 - val_accuracy: 0.8182\n",
      "Epoch 78/100\n",
      "6/6 [==============================] - 0s 5ms/step - loss: 0.5276 - accuracy: 0.9043 - val_loss: 0.3795 - val_accuracy: 0.8182\n",
      "Epoch 79/100\n",
      "6/6 [==============================] - 0s 6ms/step - loss: 0.5245 - accuracy: 0.9362 - val_loss: 0.3758 - val_accuracy: 0.8182\n",
      "Epoch 80/100\n",
      "6/6 [==============================] - 0s 5ms/step - loss: 0.5216 - accuracy: 0.9362 - val_loss: 0.3729 - val_accuracy: 0.8182\n",
      "Epoch 81/100\n",
      "6/6 [==============================] - 0s 6ms/step - loss: 0.5187 - accuracy: 0.9362 - val_loss: 0.3684 - val_accuracy: 0.9091\n",
      "Epoch 82/100\n",
      "6/6 [==============================] - 0s 6ms/step - loss: 0.5155 - accuracy: 0.9362 - val_loss: 0.3658 - val_accuracy: 0.9091\n",
      "Epoch 83/100\n",
      "6/6 [==============================] - 0s 6ms/step - loss: 0.5129 - accuracy: 0.9362 - val_loss: 0.3622 - val_accuracy: 0.9091\n",
      "Epoch 84/100\n",
      "6/6 [==============================] - 0s 5ms/step - loss: 0.5098 - accuracy: 0.9468 - val_loss: 0.3593 - val_accuracy: 0.9091\n",
      "Epoch 85/100\n",
      "6/6 [==============================] - 0s 5ms/step - loss: 0.5079 - accuracy: 0.9149 - val_loss: 0.3581 - val_accuracy: 0.8182\n",
      "Epoch 86/100\n",
      "6/6 [==============================] - 0s 5ms/step - loss: 0.5041 - accuracy: 0.9255 - val_loss: 0.3553 - val_accuracy: 0.8182\n",
      "Epoch 87/100\n",
      "6/6 [==============================] - 0s 5ms/step - loss: 0.5018 - accuracy: 0.9468 - val_loss: 0.3500 - val_accuracy: 0.9091\n",
      "Epoch 88/100\n",
      "6/6 [==============================] - 0s 5ms/step - loss: 0.4984 - accuracy: 0.9681 - val_loss: 0.3474 - val_accuracy: 0.9091\n",
      "Epoch 89/100\n",
      "6/6 [==============================] - 0s 6ms/step - loss: 0.4959 - accuracy: 0.9681 - val_loss: 0.3449 - val_accuracy: 0.9091\n",
      "Epoch 90/100\n",
      "6/6 [==============================] - 0s 6ms/step - loss: 0.4929 - accuracy: 0.9681 - val_loss: 0.3423 - val_accuracy: 0.9091\n",
      "Epoch 91/100\n",
      "6/6 [==============================] - 0s 6ms/step - loss: 0.4903 - accuracy: 0.9681 - val_loss: 0.3388 - val_accuracy: 0.9091\n",
      "Epoch 92/100\n",
      "6/6 [==============================] - 0s 6ms/step - loss: 0.4877 - accuracy: 0.9681 - val_loss: 0.3366 - val_accuracy: 0.9091\n",
      "Epoch 93/100\n",
      "6/6 [==============================] - 0s 5ms/step - loss: 0.4852 - accuracy: 0.9681 - val_loss: 0.3335 - val_accuracy: 0.9091\n",
      "Epoch 94/100\n",
      "6/6 [==============================] - 0s 5ms/step - loss: 0.4835 - accuracy: 0.9681 - val_loss: 0.3301 - val_accuracy: 0.9091\n",
      "Epoch 95/100\n",
      "6/6 [==============================] - 0s 6ms/step - loss: 0.4801 - accuracy: 0.9681 - val_loss: 0.3304 - val_accuracy: 0.9091\n",
      "Epoch 96/100\n",
      "6/6 [==============================] - 0s 5ms/step - loss: 0.4782 - accuracy: 0.9574 - val_loss: 0.3303 - val_accuracy: 0.9091\n",
      "Epoch 97/100\n",
      "6/6 [==============================] - 0s 6ms/step - loss: 0.4752 - accuracy: 0.9468 - val_loss: 0.3279 - val_accuracy: 0.9091\n",
      "Epoch 98/100\n",
      "6/6 [==============================] - 0s 5ms/step - loss: 0.4728 - accuracy: 0.9574 - val_loss: 0.3245 - val_accuracy: 0.9091\n",
      "Epoch 99/100\n",
      "6/6 [==============================] - 0s 5ms/step - loss: 0.4704 - accuracy: 0.9681 - val_loss: 0.3225 - val_accuracy: 0.9091\n",
      "Epoch 100/100\n",
      "6/6 [==============================] - 0s 5ms/step - loss: 0.4680 - accuracy: 0.9681 - val_loss: 0.3190 - val_accuracy: 0.9091\n"
     ]
    }
   ],
   "source": [
    "tf_fit = model.fit(x=X_train_std, y=y_train,\n",
    "        batch_size=16,\n",
    "        validation_split=0.1,\n",
    "        epochs=100, \n",
    "        verbose=1)"
   ]
  },
  {
   "cell_type": "code",
   "execution_count": 5,
   "metadata": {},
   "outputs": [
    {
     "name": "stdout",
     "output_type": "stream",
     "text": [
      "loss                : ['0.48', '0.48', '0.48', '0.47', '0.47', '0.47']\n",
      "accuracy            : ['0.97', '0.96', '0.95', '0.96', '0.97', '0.97']\n",
      "val_loss            : ['0.33', '0.33', '0.33', '0.32', '0.32', '0.32']\n",
      "val_accuracy        : ['0.91', '0.91', '0.91', '0.91', '0.91', '0.91']\n"
     ]
    }
   ],
   "source": [
    "for key, val in tf_fit.history.items():\n",
    "    print( f'{key:20s}: {[ f\"{i:3.2f}\" for i in val[-6:]]}')"
   ]
  },
  {
   "cell_type": "code",
   "execution_count": 6,
   "metadata": {},
   "outputs": [
    {
     "data": {
      "text/plain": [
       "<matplotlib.legend.Legend at 0x223289ebee0>"
      ]
     },
     "execution_count": 6,
     "metadata": {},
     "output_type": "execute_result"
    },
    {
     "data": {
      "image/png": "[encoded data removed]",
      "text/plain": [
       "<Figure size 864x360 with 2 Axes>"
      ]
     },
     "metadata": {
      "needs_background": "light"
     },
     "output_type": "display_data"
    }
   ],
   "source": [
    "hist = tf_fit.history\n",
    "\n",
    "fig = plt.figure(figsize=(12, 5))\n",
    "ax = fig.add_subplot(1, 2, 1)\n",
    "ax.plot(hist['loss'], lw=3)\n",
    "ax.plot(hist['val_loss'], lw=3)\n",
    "ax.set_title('Training loss', size=15)\n",
    "ax.set_xlabel('Epoch', size=15)\n",
    "ax.tick_params(axis='both', which='major', labelsize=15)\n",
    "ax.legend(['train','val'])\n",
    "\n",
    "ax = fig.add_subplot(1, 2, 2)\n",
    "ax.plot(hist['accuracy'], lw=3)\n",
    "ax.plot(hist['val_accuracy'], lw=3)\n",
    "ax.set_title('Training accuracy', size=15)\n",
    "ax.set_xlabel('Epoch', size=15)\n",
    "ax.tick_params(axis='both', which='major', labelsize=15)\n",
    "plt.tight_layout()\n",
    "ax.legend(['train','val'])"
   ]
  },
  {
   "cell_type": "code",
   "execution_count": 7,
   "metadata": {},
   "outputs": [
    {
     "name": "stdout",
     "output_type": "stream",
     "text": [
      "Test loss: 0.4583   Test Acc.: 0.9778\n"
     ]
    }
   ],
   "source": [
    "results = model.evaluate(X_test_std, y_test, verbose=0)\n",
    "print(f'Test loss: {results[0]:.4f}   Test Acc.: {results[1]:.4f}')"
   ]
  },
  {
   "cell_type": "code",
   "execution_count": 8,
   "metadata": {},
   "outputs": [
    {
     "name": "stdout",
     "output_type": "stream",
     "text": [
      "[[0.0299472  0.41553378 0.554519  ]\n",
      " [0.90986323 0.07374547 0.01639135]\n",
      " [0.91300344 0.0707271  0.01626945]]\n"
     ]
    }
   ],
   "source": [
    "y_hat = model(X_test_std[:3])\n",
    "print(y_hat.numpy())"
   ]
  },
  {
   "cell_type": "code",
   "execution_count": 9,
   "metadata": {},
   "outputs": [
    {
     "data": {
      "image/png": "[encoded data removed]",
      "text/plain": [
       "<Figure size 432x288 with 1 Axes>"
      ]
     },
     "metadata": {
      "needs_background": "light"
     },
     "output_type": "display_data"
    }
   ],
   "source": [
    "yp = y_hat.numpy()[0]\n",
    "xp = list(range(yp.shape[0]))\n",
    "plt.bar(xp, yp)\n",
    "plt.title('Softmax Values')\n",
    "plt.show()"
   ]
  }
 ],
 "metadata": {
  "interpreter": {
   "hash": "b4a387497f54fd22d04ab06f3cac2b317ccdf5aa3fbc31422dd91bb954740c85"
  },
  "kernelspec": {
   "display_name": "Python 3.8.0 64-bit ('tf': conda)",
   "name": "python3"
  },
  "language_info": {
   "codemirror_mode": {
    "name": "ipython",
    "version": 3
   },
   "file_extension": ".py",
   "mimetype": "text/x-python",
   "name": "python",
   "nbconvert_exporter": "python",
   "pygments_lexer": "ipython3",
   "version": "3.9.7"
  },
  "orig_nbformat": 4
 },
 "nbformat": 4,
 "nbformat_minor": 2
}
