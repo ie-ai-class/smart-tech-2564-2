{
 "cells": [
  {
   "cell_type": "markdown",
   "metadata": {},
   "source": [
    "# Iris dataset"
   ]
  },
  {
   "cell_type": "code",
   "execution_count": 1,
   "metadata": {},
   "outputs": [],
   "source": [
    "import tensorflow as tf\n",
    "from sklearn import datasets\n",
    "from sklearn.model_selection import train_test_split\n",
    "from sklearn.preprocessing import StandardScaler\n",
    "import matplotlib.pyplot as plt"
   ]
  },
  {
   "cell_type": "code",
   "execution_count": 2,
   "metadata": {},
   "outputs": [],
   "source": [
    "# Read data\n",
    "iris = datasets.load_iris()\n",
    "\n",
    "X = iris.data\n",
    "y = iris.target\n",
    "# Split data into training and testing data\n",
    "X_train, X_test, y_train, y_test = train_test_split(\n",
    "    X, y, test_size=0.3, random_state=1, stratify=y\n",
    ")\n",
    "# Standardization\n",
    "sc = StandardScaler()\n",
    "sc.fit(X_train)\n",
    "#X_train_std = sc.transform(X_train)\n",
    "#X_test_std = sc.transform(X_test)\n",
    "\n",
    "X_train_std = X_train\n",
    "X_test_std = X_test"
   ]
  },
  {
   "cell_type": "code",
   "execution_count": 3,
   "metadata": {},
   "outputs": [
    {
     "name": "stdout",
     "output_type": "stream",
     "text": [
      "WARNING:tensorflow:Please add `keras.layers.InputLayer` instead of `keras.Input` to Sequential model. `keras.Input` is intended to be used by Functional model.\n",
      "Model: \"sequential\"\n",
      "_________________________________________________________________\n",
      "Layer (type)                 Output Shape              Param #   \n",
      "=================================================================\n",
      "hidden1 (Dense)              (None, 16)                80        \n",
      "_________________________________________________________________\n",
      "output (Dense)               (None, 3)                 51        \n",
      "=================================================================\n",
      "Total params: 131\n",
      "Trainable params: 131\n",
      "Non-trainable params: 0\n",
      "_________________________________________________________________\n"
     ]
    }
   ],
   "source": [
    "tf.keras.backend.clear_session()\n",
    "\n",
    "model = tf.keras.Sequential([\n",
    "    tf.keras.Input(shape=(4,)),\n",
    "    tf.keras.layers.Dense(units=16, activation='sigmoid', name='hidden1'),\n",
    "    tf.keras.layers.Dense(units=3, name='output', activation='softmax')\n",
    "    ])\n",
    "\n",
    "model.summary()\n",
    "\n",
    "model.compile(\n",
    "    optimizer='adam',\n",
    "    loss='sparse_categorical_crossentropy',\n",
    "    metrics=['accuracy'])"
   ]
  },
  {
   "cell_type": "code",
   "execution_count": 4,
   "metadata": {},
   "outputs": [
    {
     "name": "stdout",
     "output_type": "stream",
     "text": [
      "Epoch 1/100\n",
      "6/6 [==============================] - 1s 55ms/step - loss: 1.1815 - accuracy: 0.3617 - val_loss: 1.5895 - val_accuracy: 0.0909\n",
      "Epoch 2/100\n",
      "6/6 [==============================] - 0s 13ms/step - loss: 1.1440 - accuracy: 0.3617 - val_loss: 1.5173 - val_accuracy: 0.0909\n",
      "Epoch 3/100\n",
      "6/6 [==============================] - 0s 13ms/step - loss: 1.1116 - accuracy: 0.3617 - val_loss: 1.4524 - val_accuracy: 0.0909\n",
      "Epoch 4/100\n",
      "6/6 [==============================] - 0s 13ms/step - loss: 1.0817 - accuracy: 0.3617 - val_loss: 1.3942 - val_accuracy: 0.0909\n",
      "Epoch 5/100\n",
      "6/6 [==============================] - 0s 4ms/step - loss: 1.0604 - accuracy: 0.3617 - val_loss: 1.3361 - val_accuracy: 0.0909\n",
      "Epoch 6/100\n",
      "6/6 [==============================] - 0s 5ms/step - loss: 1.0366 - accuracy: 0.3617 - val_loss: 1.2855 - val_accuracy: 0.0909\n",
      "Epoch 7/100\n",
      "6/6 [==============================] - 0s 4ms/step - loss: 1.0173 - accuracy: 0.3617 - val_loss: 1.2365 - val_accuracy: 0.0909\n",
      "Epoch 8/100\n",
      "6/6 [==============================] - 0s 5ms/step - loss: 1.0004 - accuracy: 0.3617 - val_loss: 1.1891 - val_accuracy: 0.0909\n",
      "Epoch 9/100\n",
      "6/6 [==============================] - 0s 5ms/step - loss: 0.9829 - accuracy: 0.3617 - val_loss: 1.1466 - val_accuracy: 0.0909\n",
      "Epoch 10/100\n",
      "6/6 [==============================] - 0s 5ms/step - loss: 0.9678 - accuracy: 0.3617 - val_loss: 1.1068 - val_accuracy: 0.0909\n",
      "Epoch 11/100\n",
      "6/6 [==============================] - 0s 4ms/step - loss: 0.9523 - accuracy: 0.3617 - val_loss: 1.0722 - val_accuracy: 0.0909\n",
      "Epoch 12/100\n",
      "6/6 [==============================] - 0s 5ms/step - loss: 0.9418 - accuracy: 0.3830 - val_loss: 1.0339 - val_accuracy: 0.1818\n",
      "Epoch 13/100\n",
      "6/6 [==============================] - 0s 5ms/step - loss: 0.9274 - accuracy: 0.4894 - val_loss: 1.0014 - val_accuracy: 0.6364\n",
      "Epoch 14/100\n",
      "6/6 [==============================] - 0s 4ms/step - loss: 0.9150 - accuracy: 0.6277 - val_loss: 0.9713 - val_accuracy: 0.7273\n",
      "Epoch 15/100\n",
      "6/6 [==============================] - 0s 5ms/step - loss: 0.9029 - accuracy: 0.6596 - val_loss: 0.9445 - val_accuracy: 0.7273\n",
      "Epoch 16/100\n",
      "6/6 [==============================] - 0s 5ms/step - loss: 0.8914 - accuracy: 0.6596 - val_loss: 0.9182 - val_accuracy: 0.7273\n",
      "Epoch 17/100\n",
      "6/6 [==============================] - 0s 5ms/step - loss: 0.8804 - accuracy: 0.6596 - val_loss: 0.8930 - val_accuracy: 0.7273\n",
      "Epoch 18/100\n",
      "6/6 [==============================] - 0s 5ms/step - loss: 0.8685 - accuracy: 0.6596 - val_loss: 0.8721 - val_accuracy: 0.7273\n",
      "Epoch 19/100\n",
      "6/6 [==============================] - 0s 5ms/step - loss: 0.8584 - accuracy: 0.6596 - val_loss: 0.8489 - val_accuracy: 0.7273\n",
      "Epoch 20/100\n",
      "6/6 [==============================] - 0s 5ms/step - loss: 0.8470 - accuracy: 0.6596 - val_loss: 0.8291 - val_accuracy: 0.7273\n",
      "Epoch 21/100\n",
      "6/6 [==============================] - 0s 5ms/step - loss: 0.8370 - accuracy: 0.6596 - val_loss: 0.8100 - val_accuracy: 0.7273\n",
      "Epoch 22/100\n",
      "6/6 [==============================] - 0s 5ms/step - loss: 0.8261 - accuracy: 0.6596 - val_loss: 0.7907 - val_accuracy: 0.7273\n",
      "Epoch 23/100\n",
      "6/6 [==============================] - 0s 5ms/step - loss: 0.8150 - accuracy: 0.6596 - val_loss: 0.7732 - val_accuracy: 0.7273\n",
      "Epoch 24/100\n",
      "6/6 [==============================] - 0s 5ms/step - loss: 0.8045 - accuracy: 0.6596 - val_loss: 0.7568 - val_accuracy: 0.7273\n",
      "Epoch 25/100\n",
      "6/6 [==============================] - 0s 5ms/step - loss: 0.7941 - accuracy: 0.6596 - val_loss: 0.7438 - val_accuracy: 0.7273\n",
      "Epoch 26/100\n",
      "6/6 [==============================] - 0s 5ms/step - loss: 0.7842 - accuracy: 0.6596 - val_loss: 0.7287 - val_accuracy: 0.7273\n",
      "Epoch 27/100\n",
      "6/6 [==============================] - 0s 4ms/step - loss: 0.7742 - accuracy: 0.6596 - val_loss: 0.7161 - val_accuracy: 0.7273\n",
      "Epoch 28/100\n",
      "6/6 [==============================] - 0s 5ms/step - loss: 0.7651 - accuracy: 0.6596 - val_loss: 0.6984 - val_accuracy: 0.7273\n",
      "Epoch 29/100\n",
      "6/6 [==============================] - 0s 5ms/step - loss: 0.7556 - accuracy: 0.6596 - val_loss: 0.6835 - val_accuracy: 0.7273\n",
      "Epoch 30/100\n",
      "6/6 [==============================] - 0s 5ms/step - loss: 0.7467 - accuracy: 0.6596 - val_loss: 0.6689 - val_accuracy: 0.7273\n",
      "Epoch 31/100\n",
      "6/6 [==============================] - 0s 5ms/step - loss: 0.7375 - accuracy: 0.6596 - val_loss: 0.6563 - val_accuracy: 0.7273\n",
      "Epoch 32/100\n",
      "6/6 [==============================] - 0s 5ms/step - loss: 0.7286 - accuracy: 0.6596 - val_loss: 0.6439 - val_accuracy: 0.7273\n",
      "Epoch 33/100\n",
      "6/6 [==============================] - 0s 5ms/step - loss: 0.7201 - accuracy: 0.6702 - val_loss: 0.6309 - val_accuracy: 0.7273\n",
      "Epoch 34/100\n",
      "6/6 [==============================] - 0s 5ms/step - loss: 0.7119 - accuracy: 0.6702 - val_loss: 0.6193 - val_accuracy: 0.7273\n",
      "Epoch 35/100\n",
      "6/6 [==============================] - 0s 5ms/step - loss: 0.7039 - accuracy: 0.6915 - val_loss: 0.6069 - val_accuracy: 0.7273\n",
      "Epoch 36/100\n",
      "6/6 [==============================] - 0s 5ms/step - loss: 0.6956 - accuracy: 0.7234 - val_loss: 0.5971 - val_accuracy: 0.7273\n",
      "Epoch 37/100\n",
      "6/6 [==============================] - 0s 5ms/step - loss: 0.6882 - accuracy: 0.7340 - val_loss: 0.5861 - val_accuracy: 0.7273\n",
      "Epoch 38/100\n",
      "6/6 [==============================] - 0s 5ms/step - loss: 0.6802 - accuracy: 0.7553 - val_loss: 0.5769 - val_accuracy: 0.8182\n",
      "Epoch 39/100\n",
      "6/6 [==============================] - 0s 5ms/step - loss: 0.6728 - accuracy: 0.7340 - val_loss: 0.5675 - val_accuracy: 0.7273\n",
      "Epoch 40/100\n",
      "6/6 [==============================] - 0s 5ms/step - loss: 0.6654 - accuracy: 0.7234 - val_loss: 0.5608 - val_accuracy: 0.7273\n",
      "Epoch 41/100\n",
      "6/6 [==============================] - 0s 5ms/step - loss: 0.6585 - accuracy: 0.7234 - val_loss: 0.5525 - val_accuracy: 0.7273\n",
      "Epoch 42/100\n",
      "6/6 [==============================] - 0s 5ms/step - loss: 0.6514 - accuracy: 0.7234 - val_loss: 0.5449 - val_accuracy: 0.7273\n",
      "Epoch 43/100\n",
      "6/6 [==============================] - 0s 4ms/step - loss: 0.6447 - accuracy: 0.7234 - val_loss: 0.5348 - val_accuracy: 0.7273\n",
      "Epoch 44/100\n",
      "6/6 [==============================] - 0s 5ms/step - loss: 0.6379 - accuracy: 0.7447 - val_loss: 0.5270 - val_accuracy: 0.8182\n",
      "Epoch 45/100\n",
      "6/6 [==============================] - 0s 5ms/step - loss: 0.6317 - accuracy: 0.7766 - val_loss: 0.5165 - val_accuracy: 0.8182\n",
      "Epoch 46/100\n",
      "6/6 [==============================] - 0s 5ms/step - loss: 0.6253 - accuracy: 0.7766 - val_loss: 0.5105 - val_accuracy: 0.8182\n",
      "Epoch 47/100\n",
      "6/6 [==============================] - 0s 5ms/step - loss: 0.6188 - accuracy: 0.7872 - val_loss: 0.5029 - val_accuracy: 0.8182\n",
      "Epoch 48/100\n",
      "6/6 [==============================] - 0s 5ms/step - loss: 0.6127 - accuracy: 0.8298 - val_loss: 0.4940 - val_accuracy: 0.8182\n",
      "Epoch 49/100\n",
      "6/6 [==============================] - 0s 4ms/step - loss: 0.6066 - accuracy: 0.8298 - val_loss: 0.4868 - val_accuracy: 0.8182\n",
      "Epoch 50/100\n",
      "6/6 [==============================] - 0s 5ms/step - loss: 0.6008 - accuracy: 0.8511 - val_loss: 0.4793 - val_accuracy: 0.8182\n",
      "Epoch 51/100\n",
      "6/6 [==============================] - 0s 5ms/step - loss: 0.5951 - accuracy: 0.8404 - val_loss: 0.4730 - val_accuracy: 0.8182\n",
      "Epoch 52/100\n",
      "6/6 [==============================] - 0s 5ms/step - loss: 0.5898 - accuracy: 0.8404 - val_loss: 0.4654 - val_accuracy: 0.8182\n",
      "Epoch 53/100\n",
      "6/6 [==============================] - 0s 5ms/step - loss: 0.5842 - accuracy: 0.8511 - val_loss: 0.4603 - val_accuracy: 0.8182\n",
      "Epoch 54/100\n",
      "6/6 [==============================] - 0s 5ms/step - loss: 0.5796 - accuracy: 0.8723 - val_loss: 0.4524 - val_accuracy: 0.8182\n",
      "Epoch 55/100\n",
      "6/6 [==============================] - 0s 5ms/step - loss: 0.5736 - accuracy: 0.8830 - val_loss: 0.4480 - val_accuracy: 0.8182\n",
      "Epoch 56/100\n",
      "6/6 [==============================] - 0s 5ms/step - loss: 0.5688 - accuracy: 0.8723 - val_loss: 0.4442 - val_accuracy: 0.8182\n",
      "Epoch 57/100\n",
      "6/6 [==============================] - 0s 5ms/step - loss: 0.5639 - accuracy: 0.8511 - val_loss: 0.4402 - val_accuracy: 0.8182\n",
      "Epoch 58/100\n",
      "6/6 [==============================] - 0s 5ms/step - loss: 0.5592 - accuracy: 0.8617 - val_loss: 0.4333 - val_accuracy: 0.8182\n",
      "Epoch 59/100\n",
      "6/6 [==============================] - 0s 5ms/step - loss: 0.5544 - accuracy: 0.8830 - val_loss: 0.4283 - val_accuracy: 0.8182\n",
      "Epoch 60/100\n",
      "6/6 [==============================] - 0s 5ms/step - loss: 0.5501 - accuracy: 0.8936 - val_loss: 0.4232 - val_accuracy: 0.9091\n",
      "Epoch 61/100\n",
      "6/6 [==============================] - 0s 5ms/step - loss: 0.5453 - accuracy: 0.9043 - val_loss: 0.4174 - val_accuracy: 0.9091\n",
      "Epoch 62/100\n",
      "6/6 [==============================] - 0s 5ms/step - loss: 0.5413 - accuracy: 0.9149 - val_loss: 0.4133 - val_accuracy: 0.9091\n",
      "Epoch 63/100\n",
      "6/6 [==============================] - 0s 5ms/step - loss: 0.5372 - accuracy: 0.9043 - val_loss: 0.4091 - val_accuracy: 0.9091\n",
      "Epoch 64/100\n",
      "6/6 [==============================] - 0s 5ms/step - loss: 0.5329 - accuracy: 0.9362 - val_loss: 0.4024 - val_accuracy: 0.9091\n",
      "Epoch 65/100\n",
      "6/6 [==============================] - 0s 5ms/step - loss: 0.5286 - accuracy: 0.9468 - val_loss: 0.3981 - val_accuracy: 0.9091\n",
      "Epoch 66/100\n",
      "6/6 [==============================] - 0s 5ms/step - loss: 0.5247 - accuracy: 0.9574 - val_loss: 0.3935 - val_accuracy: 0.9091\n",
      "Epoch 67/100\n",
      "6/6 [==============================] - 0s 5ms/step - loss: 0.5208 - accuracy: 0.9574 - val_loss: 0.3895 - val_accuracy: 0.9091\n",
      "Epoch 68/100\n",
      "6/6 [==============================] - 0s 5ms/step - loss: 0.5171 - accuracy: 0.9574 - val_loss: 0.3857 - val_accuracy: 0.9091\n",
      "Epoch 69/100\n",
      "6/6 [==============================] - 0s 5ms/step - loss: 0.5134 - accuracy: 0.9574 - val_loss: 0.3823 - val_accuracy: 0.9091\n",
      "Epoch 70/100\n",
      "6/6 [==============================] - 0s 5ms/step - loss: 0.5097 - accuracy: 0.9574 - val_loss: 0.3779 - val_accuracy: 0.9091\n",
      "Epoch 71/100\n",
      "6/6 [==============================] - 0s 5ms/step - loss: 0.5064 - accuracy: 0.9574 - val_loss: 0.3735 - val_accuracy: 0.9091\n",
      "Epoch 72/100\n",
      "6/6 [==============================] - 0s 5ms/step - loss: 0.5026 - accuracy: 0.9574 - val_loss: 0.3716 - val_accuracy: 0.9091\n",
      "Epoch 73/100\n",
      "6/6 [==============================] - 0s 5ms/step - loss: 0.4990 - accuracy: 0.9574 - val_loss: 0.3689 - val_accuracy: 0.9091\n",
      "Epoch 74/100\n",
      "6/6 [==============================] - 0s 5ms/step - loss: 0.4959 - accuracy: 0.9574 - val_loss: 0.3663 - val_accuracy: 0.9091\n",
      "Epoch 75/100\n",
      "6/6 [==============================] - 0s 5ms/step - loss: 0.4926 - accuracy: 0.9574 - val_loss: 0.3639 - val_accuracy: 0.9091\n",
      "Epoch 76/100\n",
      "6/6 [==============================] - 0s 5ms/step - loss: 0.4899 - accuracy: 0.9574 - val_loss: 0.3616 - val_accuracy: 0.9091\n",
      "Epoch 77/100\n",
      "6/6 [==============================] - 0s 5ms/step - loss: 0.4876 - accuracy: 0.9574 - val_loss: 0.3537 - val_accuracy: 0.9091\n",
      "Epoch 78/100\n",
      "6/6 [==============================] - 0s 5ms/step - loss: 0.4830 - accuracy: 0.9681 - val_loss: 0.3500 - val_accuracy: 0.9091\n",
      "Epoch 79/100\n",
      "6/6 [==============================] - 0s 5ms/step - loss: 0.4804 - accuracy: 0.9681 - val_loss: 0.3463 - val_accuracy: 0.9091\n",
      "Epoch 80/100\n",
      "6/6 [==============================] - 0s 5ms/step - loss: 0.4770 - accuracy: 0.9681 - val_loss: 0.3462 - val_accuracy: 0.9091\n",
      "Epoch 81/100\n",
      "6/6 [==============================] - 0s 4ms/step - loss: 0.4744 - accuracy: 0.9574 - val_loss: 0.3463 - val_accuracy: 0.9091\n",
      "Epoch 82/100\n",
      "6/6 [==============================] - 0s 5ms/step - loss: 0.4712 - accuracy: 0.9574 - val_loss: 0.3411 - val_accuracy: 0.9091\n",
      "Epoch 83/100\n",
      "6/6 [==============================] - 0s 5ms/step - loss: 0.4682 - accuracy: 0.9681 - val_loss: 0.3380 - val_accuracy: 0.9091\n",
      "Epoch 84/100\n",
      "6/6 [==============================] - 0s 5ms/step - loss: 0.4659 - accuracy: 0.9574 - val_loss: 0.3377 - val_accuracy: 0.9091\n",
      "Epoch 85/100\n",
      "6/6 [==============================] - 0s 5ms/step - loss: 0.4628 - accuracy: 0.9681 - val_loss: 0.3341 - val_accuracy: 0.9091\n",
      "Epoch 86/100\n",
      "6/6 [==============================] - 0s 5ms/step - loss: 0.4598 - accuracy: 0.9681 - val_loss: 0.3315 - val_accuracy: 0.9091\n",
      "Epoch 87/100\n",
      "6/6 [==============================] - 0s 5ms/step - loss: 0.4572 - accuracy: 0.9681 - val_loss: 0.3271 - val_accuracy: 0.9091\n",
      "Epoch 88/100\n",
      "6/6 [==============================] - 0s 5ms/step - loss: 0.4548 - accuracy: 0.9681 - val_loss: 0.3239 - val_accuracy: 0.9091\n",
      "Epoch 89/100\n",
      "6/6 [==============================] - 0s 5ms/step - loss: 0.4519 - accuracy: 0.9681 - val_loss: 0.3221 - val_accuracy: 0.9091\n",
      "Epoch 90/100\n",
      "6/6 [==============================] - 0s 5ms/step - loss: 0.4494 - accuracy: 0.9681 - val_loss: 0.3197 - val_accuracy: 0.9091\n",
      "Epoch 91/100\n",
      "6/6 [==============================] - 0s 5ms/step - loss: 0.4468 - accuracy: 0.9681 - val_loss: 0.3196 - val_accuracy: 0.9091\n",
      "Epoch 92/100\n",
      "6/6 [==============================] - 0s 5ms/step - loss: 0.4442 - accuracy: 0.9681 - val_loss: 0.3174 - val_accuracy: 0.9091\n",
      "Epoch 93/100\n",
      "6/6 [==============================] - 0s 5ms/step - loss: 0.4418 - accuracy: 0.9681 - val_loss: 0.3166 - val_accuracy: 0.9091\n",
      "Epoch 94/100\n",
      "6/6 [==============================] - 0s 5ms/step - loss: 0.4391 - accuracy: 0.9681 - val_loss: 0.3138 - val_accuracy: 0.9091\n",
      "Epoch 95/100\n",
      "6/6 [==============================] - 0s 5ms/step - loss: 0.4369 - accuracy: 0.9681 - val_loss: 0.3100 - val_accuracy: 0.9091\n",
      "Epoch 96/100\n",
      "6/6 [==============================] - 0s 5ms/step - loss: 0.4342 - accuracy: 0.9681 - val_loss: 0.3082 - val_accuracy: 0.9091\n",
      "Epoch 97/100\n",
      "6/6 [==============================] - 0s 5ms/step - loss: 0.4325 - accuracy: 0.9681 - val_loss: 0.3047 - val_accuracy: 0.9091\n",
      "Epoch 98/100\n",
      "6/6 [==============================] - 0s 5ms/step - loss: 0.4295 - accuracy: 0.9681 - val_loss: 0.3026 - val_accuracy: 0.9091\n",
      "Epoch 99/100\n",
      "6/6 [==============================] - 0s 5ms/step - loss: 0.4271 - accuracy: 0.9681 - val_loss: 0.3021 - val_accuracy: 0.9091\n",
      "Epoch 100/100\n",
      "6/6 [==============================] - 0s 5ms/step - loss: 0.4250 - accuracy: 0.9681 - val_loss: 0.3001 - val_accuracy: 0.9091\n"
     ]
    }
   ],
   "source": [
    "tf_fit = model.fit(x=X_train, y=y_train,\n",
    "        batch_size=16,\n",
    "        validation_split=0.1,\n",
    "        epochs=100, \n",
    "        verbose=1)"
   ]
  },
  {
   "cell_type": "code",
   "execution_count": 5,
   "metadata": {},
   "outputs": [
    {
     "name": "stdout",
     "output_type": "stream",
     "text": [
      "loss                : ['1.18', '1.14', '1.11', '1.08', '1.06']\n",
      "accuracy            : ['0.36', '0.36', '0.36', '0.36', '0.36']\n",
      "val_loss            : ['1.59', '1.52', '1.45', '1.39', '1.34']\n",
      "val_accuracy        : ['0.09', '0.09', '0.09', '0.09', '0.09']\n"
     ]
    }
   ],
   "source": [
    "for key, val in tf_fit.history.items():\n",
    "    print( f'{key:20s}: {[ f\"{i:3.2f}\" for i in val[:5]]}')"
   ]
  },
  {
   "cell_type": "code",
   "execution_count": 6,
   "metadata": {},
   "outputs": [
    {
     "data": {
      "text/plain": [
       "<matplotlib.legend.Legend at 0x1d20f4b18e0>"
      ]
     },
     "execution_count": 6,
     "metadata": {},
     "output_type": "execute_result"
    },
    {
     "data": {
      "image/png": "[encoded data removed]",
      "text/plain": [
       "<Figure size 864x360 with 2 Axes>"
      ]
     },
     "metadata": {
      "needs_background": "light"
     },
     "output_type": "display_data"
    }
   ],
   "source": [
    "hist = tf_fit.history\n",
    "\n",
    "fig = plt.figure(figsize=(12, 5))\n",
    "ax = fig.add_subplot(1, 2, 1)\n",
    "ax.plot(hist['loss'], lw=3)\n",
    "ax.plot(hist['val_loss'], lw=3)\n",
    "ax.set_title('Training loss', size=15)\n",
    "ax.set_xlabel('Epoch', size=15)\n",
    "ax.tick_params(axis='both', which='major', labelsize=15)\n",
    "ax.legend(['train','val'])\n",
    "\n",
    "ax = fig.add_subplot(1, 2, 2)\n",
    "ax.plot(hist['accuracy'], lw=3)\n",
    "ax.plot(hist['val_accuracy'], lw=3)\n",
    "ax.set_title('Training accuracy', size=15)\n",
    "ax.set_xlabel('Epoch', size=15)\n",
    "ax.tick_params(axis='both', which='major', labelsize=15)\n",
    "plt.tight_layout()\n",
    "ax.legend(['train','val'])"
   ]
  },
  {
   "cell_type": "code",
   "execution_count": 7,
   "metadata": {},
   "outputs": [
    {
     "name": "stdout",
     "output_type": "stream",
     "text": [
      "Test loss: 0.4122   Test Acc.: 0.9778\n"
     ]
    }
   ],
   "source": [
    "results = model.evaluate(X_test, y_test, verbose=0)\n",
    "print(f'Test loss: {results[0]:.4f}   Test Acc.: {results[1]:.4f}')"
   ]
  },
  {
   "cell_type": "code",
   "execution_count": 8,
   "metadata": {},
   "outputs": [
    {
     "name": "stdout",
     "output_type": "stream",
     "text": [
      "[[0.02109063 0.3603458  0.6185636 ]\n",
      " [0.9007059  0.08524593 0.01404816]\n",
      " [0.90448993 0.08132184 0.01418816]]\n"
     ]
    }
   ],
   "source": [
    "y_hat = model(X_test[:3])\n",
    "print(y_hat.numpy())"
   ]
  },
  {
   "cell_type": "code",
   "execution_count": 9,
   "metadata": {},
   "outputs": [
    {
     "data": {
      "image/png": "[encoded data removed]",
      "text/plain": [
       "<Figure size 432x288 with 1 Axes>"
      ]
     },
     "metadata": {
      "needs_background": "light"
     },
     "output_type": "display_data"
    }
   ],
   "source": [
    "yp = y_hat.numpy()[0]\n",
    "xp = list(range(yp.shape[0]))\n",
    "plt.bar(xp, yp)\n",
    "plt.title('Softmax Values')\n",
    "plt.show()"
   ]
  }
 ],
 "metadata": {
  "interpreter": {
   "hash": "b4a387497f54fd22d04ab06f3cac2b317ccdf5aa3fbc31422dd91bb954740c85"
  },
  "kernelspec": {
   "display_name": "Python 3.8.0 64-bit ('tf': conda)",
   "name": "python3"
  },
  "language_info": {
   "codemirror_mode": {
    "name": "ipython",
    "version": 3
   },
   "file_extension": ".py",
   "mimetype": "text/x-python",
   "name": "python",
   "nbconvert_exporter": "python",
   "pygments_lexer": "ipython3",
   "version": "3.9.7"
  },
  "orig_nbformat": 4
 },
 "nbformat": 4,
 "nbformat_minor": 2
}
